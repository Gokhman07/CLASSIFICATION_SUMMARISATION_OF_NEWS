{
  "cells": [
    {
      "cell_type": "markdown",
      "id": "4ebee423",
      "metadata": {
        "id": "4ebee423"
      },
      "source": [
        "LIBRARY IMPORT"
      ]
    },
    {
      "cell_type": "code",
      "execution_count": 9,
      "id": "b7621e13",
      "metadata": {
        "id": "b7621e13"
      },
      "outputs": [],
      "source": [
        "import pandas as pd\n",
        "import numpy as np\n",
        "import seaborn as sns\n",
        "import matplotlib.pyplot as plt\n",
        "import re\n",
        "from tensorflow import keras\n",
        "from nltk.stem.porter import PorterStemmer\n",
        "from nltk.corpus import stopwords\n",
        "from sklearn.preprocessing import LabelEncoder\n",
        "from sklearn.model_selection import train_test_split\n",
        "from keras.utils.np_utils import to_categorical"
      ]
    },
    {
      "cell_type": "markdown",
      "id": "e998d282",
      "metadata": {
        "id": "e998d282"
      },
      "source": [
        "# EDA"
      ]
    },
    {
      "cell_type": "code",
      "execution_count": 4,
      "id": "251e3a75",
      "metadata": {
        "colab": {
          "base_uri": "https://localhost:8080/",
          "height": 73
        },
        "id": "251e3a75",
        "outputId": "2b78ef7b-5428-452b-9717-542f22b1e4a2"
      },
      "outputs": [
        {
          "output_type": "display_data",
          "data": {
            "text/plain": [
              "<IPython.core.display.HTML object>"
            ],
            "text/html": [
              "\n",
              "     <input type=\"file\" id=\"files-c450e823-e7b7-4896-aae0-dd3535ab1871\" name=\"files[]\" multiple disabled\n",
              "        style=\"border:none\" />\n",
              "     <output id=\"result-c450e823-e7b7-4896-aae0-dd3535ab1871\">\n",
              "      Upload widget is only available when the cell has been executed in the\n",
              "      current browser session. Please rerun this cell to enable.\n",
              "      </output>\n",
              "      <script>// Copyright 2017 Google LLC\n",
              "//\n",
              "// Licensed under the Apache License, Version 2.0 (the \"License\");\n",
              "// you may not use this file except in compliance with the License.\n",
              "// You may obtain a copy of the License at\n",
              "//\n",
              "//      http://www.apache.org/licenses/LICENSE-2.0\n",
              "//\n",
              "// Unless required by applicable law or agreed to in writing, software\n",
              "// distributed under the License is distributed on an \"AS IS\" BASIS,\n",
              "// WITHOUT WARRANTIES OR CONDITIONS OF ANY KIND, either express or implied.\n",
              "// See the License for the specific language governing permissions and\n",
              "// limitations under the License.\n",
              "\n",
              "/**\n",
              " * @fileoverview Helpers for google.colab Python module.\n",
              " */\n",
              "(function(scope) {\n",
              "function span(text, styleAttributes = {}) {\n",
              "  const element = document.createElement('span');\n",
              "  element.textContent = text;\n",
              "  for (const key of Object.keys(styleAttributes)) {\n",
              "    element.style[key] = styleAttributes[key];\n",
              "  }\n",
              "  return element;\n",
              "}\n",
              "\n",
              "// Max number of bytes which will be uploaded at a time.\n",
              "const MAX_PAYLOAD_SIZE = 100 * 1024;\n",
              "\n",
              "function _uploadFiles(inputId, outputId) {\n",
              "  const steps = uploadFilesStep(inputId, outputId);\n",
              "  const outputElement = document.getElementById(outputId);\n",
              "  // Cache steps on the outputElement to make it available for the next call\n",
              "  // to uploadFilesContinue from Python.\n",
              "  outputElement.steps = steps;\n",
              "\n",
              "  return _uploadFilesContinue(outputId);\n",
              "}\n",
              "\n",
              "// This is roughly an async generator (not supported in the browser yet),\n",
              "// where there are multiple asynchronous steps and the Python side is going\n",
              "// to poll for completion of each step.\n",
              "// This uses a Promise to block the python side on completion of each step,\n",
              "// then passes the result of the previous step as the input to the next step.\n",
              "function _uploadFilesContinue(outputId) {\n",
              "  const outputElement = document.getElementById(outputId);\n",
              "  const steps = outputElement.steps;\n",
              "\n",
              "  const next = steps.next(outputElement.lastPromiseValue);\n",
              "  return Promise.resolve(next.value.promise).then((value) => {\n",
              "    // Cache the last promise value to make it available to the next\n",
              "    // step of the generator.\n",
              "    outputElement.lastPromiseValue = value;\n",
              "    return next.value.response;\n",
              "  });\n",
              "}\n",
              "\n",
              "/**\n",
              " * Generator function which is called between each async step of the upload\n",
              " * process.\n",
              " * @param {string} inputId Element ID of the input file picker element.\n",
              " * @param {string} outputId Element ID of the output display.\n",
              " * @return {!Iterable<!Object>} Iterable of next steps.\n",
              " */\n",
              "function* uploadFilesStep(inputId, outputId) {\n",
              "  const inputElement = document.getElementById(inputId);\n",
              "  inputElement.disabled = false;\n",
              "\n",
              "  const outputElement = document.getElementById(outputId);\n",
              "  outputElement.innerHTML = '';\n",
              "\n",
              "  const pickedPromise = new Promise((resolve) => {\n",
              "    inputElement.addEventListener('change', (e) => {\n",
              "      resolve(e.target.files);\n",
              "    });\n",
              "  });\n",
              "\n",
              "  const cancel = document.createElement('button');\n",
              "  inputElement.parentElement.appendChild(cancel);\n",
              "  cancel.textContent = 'Cancel upload';\n",
              "  const cancelPromise = new Promise((resolve) => {\n",
              "    cancel.onclick = () => {\n",
              "      resolve(null);\n",
              "    };\n",
              "  });\n",
              "\n",
              "  // Wait for the user to pick the files.\n",
              "  const files = yield {\n",
              "    promise: Promise.race([pickedPromise, cancelPromise]),\n",
              "    response: {\n",
              "      action: 'starting',\n",
              "    }\n",
              "  };\n",
              "\n",
              "  cancel.remove();\n",
              "\n",
              "  // Disable the input element since further picks are not allowed.\n",
              "  inputElement.disabled = true;\n",
              "\n",
              "  if (!files) {\n",
              "    return {\n",
              "      response: {\n",
              "        action: 'complete',\n",
              "      }\n",
              "    };\n",
              "  }\n",
              "\n",
              "  for (const file of files) {\n",
              "    const li = document.createElement('li');\n",
              "    li.append(span(file.name, {fontWeight: 'bold'}));\n",
              "    li.append(span(\n",
              "        `(${file.type || 'n/a'}) - ${file.size} bytes, ` +\n",
              "        `last modified: ${\n",
              "            file.lastModifiedDate ? file.lastModifiedDate.toLocaleDateString() :\n",
              "                                    'n/a'} - `));\n",
              "    const percent = span('0% done');\n",
              "    li.appendChild(percent);\n",
              "\n",
              "    outputElement.appendChild(li);\n",
              "\n",
              "    const fileDataPromise = new Promise((resolve) => {\n",
              "      const reader = new FileReader();\n",
              "      reader.onload = (e) => {\n",
              "        resolve(e.target.result);\n",
              "      };\n",
              "      reader.readAsArrayBuffer(file);\n",
              "    });\n",
              "    // Wait for the data to be ready.\n",
              "    let fileData = yield {\n",
              "      promise: fileDataPromise,\n",
              "      response: {\n",
              "        action: 'continue',\n",
              "      }\n",
              "    };\n",
              "\n",
              "    // Use a chunked sending to avoid message size limits. See b/62115660.\n",
              "    let position = 0;\n",
              "    do {\n",
              "      const length = Math.min(fileData.byteLength - position, MAX_PAYLOAD_SIZE);\n",
              "      const chunk = new Uint8Array(fileData, position, length);\n",
              "      position += length;\n",
              "\n",
              "      const base64 = btoa(String.fromCharCode.apply(null, chunk));\n",
              "      yield {\n",
              "        response: {\n",
              "          action: 'append',\n",
              "          file: file.name,\n",
              "          data: base64,\n",
              "        },\n",
              "      };\n",
              "\n",
              "      let percentDone = fileData.byteLength === 0 ?\n",
              "          100 :\n",
              "          Math.round((position / fileData.byteLength) * 100);\n",
              "      percent.textContent = `${percentDone}% done`;\n",
              "\n",
              "    } while (position < fileData.byteLength);\n",
              "  }\n",
              "\n",
              "  // All done.\n",
              "  yield {\n",
              "    response: {\n",
              "      action: 'complete',\n",
              "    }\n",
              "  };\n",
              "}\n",
              "\n",
              "scope.google = scope.google || {};\n",
              "scope.google.colab = scope.google.colab || {};\n",
              "scope.google.colab._files = {\n",
              "  _uploadFiles,\n",
              "  _uploadFilesContinue,\n",
              "};\n",
              "})(self);\n",
              "</script> "
            ]
          },
          "metadata": {}
        },
        {
          "output_type": "stream",
          "name": "stdout",
          "text": [
            "Saving uci-news-aggregator.csv to uci-news-aggregator.csv\n"
          ]
        }
      ],
      "source": [
        "from google.colab import files\n",
        "uploaded = files.upload()"
      ]
    },
    {
      "cell_type": "code",
      "execution_count": 10,
      "id": "14fc2215",
      "metadata": {
        "id": "14fc2215"
      },
      "outputs": [],
      "source": [
        "import io\n",
        "# Storing the dataset in a Pandas Dataframe\n",
        "df = pd.read_csv(io.BytesIO(uploaded['uci-news-aggregator.csv']))\n"
      ]
    },
    {
      "cell_type": "code",
      "execution_count": 8,
      "id": "12b68c7a",
      "metadata": {
        "colab": {
          "base_uri": "https://localhost:8080/"
        },
        "id": "12b68c7a",
        "outputId": "d2a1a65b-f4ed-4585-fbf5-580b38b48125"
      },
      "outputs": [
        {
          "output_type": "stream",
          "name": "stdout",
          "text": [
            "Shape of dataframe:(422419, 8)\n"
          ]
        }
      ],
      "source": [
        "print(f'Shape of dataframe:{df.shape}')"
      ]
    },
    {
      "cell_type": "code",
      "execution_count": 9,
      "id": "218ad2c1",
      "metadata": {
        "colab": {
          "base_uri": "https://localhost:8080/",
          "height": 687
        },
        "id": "218ad2c1",
        "outputId": "ed2ac982-14db-4841-fc72-d683c2b58cc0"
      },
      "outputs": [
        {
          "output_type": "execute_result",
          "data": {
            "text/plain": [
              "   ID                                              TITLE  \\\n",
              "0   1  Fed official says weak data caused by weather,...   \n",
              "1   2  Fed's Charles Plosser sees high bar for change...   \n",
              "2   3  US open: Stocks fall after Fed official hints ...   \n",
              "3   4  Fed risks falling 'behind the curve', Charles ...   \n",
              "4   5  Fed's Plosser: Nasty Weather Has Curbed Job Gr...   \n",
              "\n",
              "                                                 URL          PUBLISHER  \\\n",
              "0  http://www.latimes.com/business/money/la-fi-mo...  Los Angeles Times   \n",
              "1  http://www.livemint.com/Politics/H2EvwJSK2VE6O...           Livemint   \n",
              "2  http://www.ifamagazine.com/news/us-open-stocks...       IFA Magazine   \n",
              "3  http://www.ifamagazine.com/news/fed-risks-fall...       IFA Magazine   \n",
              "4  http://www.moneynews.com/Economy/federal-reser...          Moneynews   \n",
              "\n",
              "  CATEGORY                          STORY             HOSTNAME      TIMESTAMP  \n",
              "0        b  ddUyU0VZz0BRneMioxUPQVP6sIxvM      www.latimes.com  1394470370698  \n",
              "1        b  ddUyU0VZz0BRneMioxUPQVP6sIxvM     www.livemint.com  1394470371207  \n",
              "2        b  ddUyU0VZz0BRneMioxUPQVP6sIxvM  www.ifamagazine.com  1394470371550  \n",
              "3        b  ddUyU0VZz0BRneMioxUPQVP6sIxvM  www.ifamagazine.com  1394470371793  \n",
              "4        b  ddUyU0VZz0BRneMioxUPQVP6sIxvM    www.moneynews.com  1394470372027  "
            ],
            "text/html": [
              "\n",
              "\n",
              "  <div id=\"df-3bcde54c-609a-41c1-bfe5-4bbb5dbf2ce5\">\n",
              "    <div class=\"colab-df-container\">\n",
              "      <div>\n",
              "<style scoped>\n",
              "    .dataframe tbody tr th:only-of-type {\n",
              "        vertical-align: middle;\n",
              "    }\n",
              "\n",
              "    .dataframe tbody tr th {\n",
              "        vertical-align: top;\n",
              "    }\n",
              "\n",
              "    .dataframe thead th {\n",
              "        text-align: right;\n",
              "    }\n",
              "</style>\n",
              "<table border=\"1\" class=\"dataframe\">\n",
              "  <thead>\n",
              "    <tr style=\"text-align: right;\">\n",
              "      <th></th>\n",
              "      <th>ID</th>\n",
              "      <th>TITLE</th>\n",
              "      <th>URL</th>\n",
              "      <th>PUBLISHER</th>\n",
              "      <th>CATEGORY</th>\n",
              "      <th>STORY</th>\n",
              "      <th>HOSTNAME</th>\n",
              "      <th>TIMESTAMP</th>\n",
              "    </tr>\n",
              "  </thead>\n",
              "  <tbody>\n",
              "    <tr>\n",
              "      <th>0</th>\n",
              "      <td>1</td>\n",
              "      <td>Fed official says weak data caused by weather,...</td>\n",
              "      <td>http://www.latimes.com/business/money/la-fi-mo...</td>\n",
              "      <td>Los Angeles Times</td>\n",
              "      <td>b</td>\n",
              "      <td>ddUyU0VZz0BRneMioxUPQVP6sIxvM</td>\n",
              "      <td>www.latimes.com</td>\n",
              "      <td>1394470370698</td>\n",
              "    </tr>\n",
              "    <tr>\n",
              "      <th>1</th>\n",
              "      <td>2</td>\n",
              "      <td>Fed's Charles Plosser sees high bar for change...</td>\n",
              "      <td>http://www.livemint.com/Politics/H2EvwJSK2VE6O...</td>\n",
              "      <td>Livemint</td>\n",
              "      <td>b</td>\n",
              "      <td>ddUyU0VZz0BRneMioxUPQVP6sIxvM</td>\n",
              "      <td>www.livemint.com</td>\n",
              "      <td>1394470371207</td>\n",
              "    </tr>\n",
              "    <tr>\n",
              "      <th>2</th>\n",
              "      <td>3</td>\n",
              "      <td>US open: Stocks fall after Fed official hints ...</td>\n",
              "      <td>http://www.ifamagazine.com/news/us-open-stocks...</td>\n",
              "      <td>IFA Magazine</td>\n",
              "      <td>b</td>\n",
              "      <td>ddUyU0VZz0BRneMioxUPQVP6sIxvM</td>\n",
              "      <td>www.ifamagazine.com</td>\n",
              "      <td>1394470371550</td>\n",
              "    </tr>\n",
              "    <tr>\n",
              "      <th>3</th>\n",
              "      <td>4</td>\n",
              "      <td>Fed risks falling 'behind the curve', Charles ...</td>\n",
              "      <td>http://www.ifamagazine.com/news/fed-risks-fall...</td>\n",
              "      <td>IFA Magazine</td>\n",
              "      <td>b</td>\n",
              "      <td>ddUyU0VZz0BRneMioxUPQVP6sIxvM</td>\n",
              "      <td>www.ifamagazine.com</td>\n",
              "      <td>1394470371793</td>\n",
              "    </tr>\n",
              "    <tr>\n",
              "      <th>4</th>\n",
              "      <td>5</td>\n",
              "      <td>Fed's Plosser: Nasty Weather Has Curbed Job Gr...</td>\n",
              "      <td>http://www.moneynews.com/Economy/federal-reser...</td>\n",
              "      <td>Moneynews</td>\n",
              "      <td>b</td>\n",
              "      <td>ddUyU0VZz0BRneMioxUPQVP6sIxvM</td>\n",
              "      <td>www.moneynews.com</td>\n",
              "      <td>1394470372027</td>\n",
              "    </tr>\n",
              "  </tbody>\n",
              "</table>\n",
              "</div>\n",
              "      <button class=\"colab-df-convert\" onclick=\"convertToInteractive('df-3bcde54c-609a-41c1-bfe5-4bbb5dbf2ce5')\"\n",
              "              title=\"Convert this dataframe to an interactive table.\"\n",
              "              style=\"display:none;\">\n",
              "\n",
              "  <svg xmlns=\"http://www.w3.org/2000/svg\" height=\"24px\"viewBox=\"0 0 24 24\"\n",
              "       width=\"24px\">\n",
              "    <path d=\"M0 0h24v24H0V0z\" fill=\"none\"/>\n",
              "    <path d=\"M18.56 5.44l.94 2.06.94-2.06 2.06-.94-2.06-.94-.94-2.06-.94 2.06-2.06.94zm-11 1L8.5 8.5l.94-2.06 2.06-.94-2.06-.94L8.5 2.5l-.94 2.06-2.06.94zm10 10l.94 2.06.94-2.06 2.06-.94-2.06-.94-.94-2.06-.94 2.06-2.06.94z\"/><path d=\"M17.41 7.96l-1.37-1.37c-.4-.4-.92-.59-1.43-.59-.52 0-1.04.2-1.43.59L10.3 9.45l-7.72 7.72c-.78.78-.78 2.05 0 2.83L4 21.41c.39.39.9.59 1.41.59.51 0 1.02-.2 1.41-.59l7.78-7.78 2.81-2.81c.8-.78.8-2.07 0-2.86zM5.41 20L4 18.59l7.72-7.72 1.47 1.35L5.41 20z\"/>\n",
              "  </svg>\n",
              "      </button>\n",
              "\n",
              "\n",
              "\n",
              "    <div id=\"df-693322ba-467a-450c-833d-30a197c8470f\">\n",
              "      <button class=\"colab-df-quickchart\" onclick=\"quickchart('df-693322ba-467a-450c-833d-30a197c8470f')\"\n",
              "              title=\"Suggest charts.\"\n",
              "              style=\"display:none;\">\n",
              "\n",
              "<svg xmlns=\"http://www.w3.org/2000/svg\" height=\"24px\"viewBox=\"0 0 24 24\"\n",
              "     width=\"24px\">\n",
              "    <g>\n",
              "        <path d=\"M19 3H5c-1.1 0-2 .9-2 2v14c0 1.1.9 2 2 2h14c1.1 0 2-.9 2-2V5c0-1.1-.9-2-2-2zM9 17H7v-7h2v7zm4 0h-2V7h2v10zm4 0h-2v-4h2v4z\"/>\n",
              "    </g>\n",
              "</svg>\n",
              "      </button>\n",
              "    </div>\n",
              "\n",
              "<style>\n",
              "  .colab-df-quickchart {\n",
              "    background-color: #E8F0FE;\n",
              "    border: none;\n",
              "    border-radius: 50%;\n",
              "    cursor: pointer;\n",
              "    display: none;\n",
              "    fill: #1967D2;\n",
              "    height: 32px;\n",
              "    padding: 0 0 0 0;\n",
              "    width: 32px;\n",
              "  }\n",
              "\n",
              "  .colab-df-quickchart:hover {\n",
              "    background-color: #E2EBFA;\n",
              "    box-shadow: 0px 1px 2px rgba(60, 64, 67, 0.3), 0px 1px 3px 1px rgba(60, 64, 67, 0.15);\n",
              "    fill: #174EA6;\n",
              "  }\n",
              "\n",
              "  [theme=dark] .colab-df-quickchart {\n",
              "    background-color: #3B4455;\n",
              "    fill: #D2E3FC;\n",
              "  }\n",
              "\n",
              "  [theme=dark] .colab-df-quickchart:hover {\n",
              "    background-color: #434B5C;\n",
              "    box-shadow: 0px 1px 3px 1px rgba(0, 0, 0, 0.15);\n",
              "    filter: drop-shadow(0px 1px 2px rgba(0, 0, 0, 0.3));\n",
              "    fill: #FFFFFF;\n",
              "  }\n",
              "</style>\n",
              "\n",
              "    <script>\n",
              "      async function quickchart(key) {\n",
              "        const containerElement = document.querySelector('#' + key);\n",
              "        const charts = await google.colab.kernel.invokeFunction(\n",
              "            'suggestCharts', [key], {});\n",
              "      }\n",
              "    </script>\n",
              "\n",
              "      <script>\n",
              "\n",
              "function displayQuickchartButton(domScope) {\n",
              "  let quickchartButtonEl =\n",
              "    domScope.querySelector('#df-693322ba-467a-450c-833d-30a197c8470f button.colab-df-quickchart');\n",
              "  quickchartButtonEl.style.display =\n",
              "    google.colab.kernel.accessAllowed ? 'block' : 'none';\n",
              "}\n",
              "\n",
              "        displayQuickchartButton(document);\n",
              "      </script>\n",
              "      <style>\n",
              "    .colab-df-container {\n",
              "      display:flex;\n",
              "      flex-wrap:wrap;\n",
              "      gap: 12px;\n",
              "    }\n",
              "\n",
              "    .colab-df-convert {\n",
              "      background-color: #E8F0FE;\n",
              "      border: none;\n",
              "      border-radius: 50%;\n",
              "      cursor: pointer;\n",
              "      display: none;\n",
              "      fill: #1967D2;\n",
              "      height: 32px;\n",
              "      padding: 0 0 0 0;\n",
              "      width: 32px;\n",
              "    }\n",
              "\n",
              "    .colab-df-convert:hover {\n",
              "      background-color: #E2EBFA;\n",
              "      box-shadow: 0px 1px 2px rgba(60, 64, 67, 0.3), 0px 1px 3px 1px rgba(60, 64, 67, 0.15);\n",
              "      fill: #174EA6;\n",
              "    }\n",
              "\n",
              "    [theme=dark] .colab-df-convert {\n",
              "      background-color: #3B4455;\n",
              "      fill: #D2E3FC;\n",
              "    }\n",
              "\n",
              "    [theme=dark] .colab-df-convert:hover {\n",
              "      background-color: #434B5C;\n",
              "      box-shadow: 0px 1px 3px 1px rgba(0, 0, 0, 0.15);\n",
              "      filter: drop-shadow(0px 1px 2px rgba(0, 0, 0, 0.3));\n",
              "      fill: #FFFFFF;\n",
              "    }\n",
              "  </style>\n",
              "\n",
              "      <script>\n",
              "        const buttonEl =\n",
              "          document.querySelector('#df-3bcde54c-609a-41c1-bfe5-4bbb5dbf2ce5 button.colab-df-convert');\n",
              "        buttonEl.style.display =\n",
              "          google.colab.kernel.accessAllowed ? 'block' : 'none';\n",
              "\n",
              "        async function convertToInteractive(key) {\n",
              "          const element = document.querySelector('#df-3bcde54c-609a-41c1-bfe5-4bbb5dbf2ce5');\n",
              "          const dataTable =\n",
              "            await google.colab.kernel.invokeFunction('convertToInteractive',\n",
              "                                                     [key], {});\n",
              "          if (!dataTable) return;\n",
              "\n",
              "          const docLinkHtml = 'Like what you see? Visit the ' +\n",
              "            '<a target=\"_blank\" href=https://colab.research.google.com/notebooks/data_table.ipynb>data table notebook</a>'\n",
              "            + ' to learn more about interactive tables.';\n",
              "          element.innerHTML = '';\n",
              "          dataTable['output_type'] = 'display_data';\n",
              "          await google.colab.output.renderOutput(dataTable, element);\n",
              "          const docLink = document.createElement('div');\n",
              "          docLink.innerHTML = docLinkHtml;\n",
              "          element.appendChild(docLink);\n",
              "        }\n",
              "      </script>\n",
              "    </div>\n",
              "  </div>\n"
            ]
          },
          "metadata": {},
          "execution_count": 9
        }
      ],
      "source": [
        "#chceking out teh dataframe\n",
        "df.head()"
      ]
    },
    {
      "cell_type": "markdown",
      "id": "b0c2f345",
      "metadata": {
        "id": "b0c2f345"
      },
      "source": [
        "The dataset you provided, \"News Aggregator Dataset\" from Kaggle, contains information related to news articles. The dataset includes the following attributes:\n",
        "\n",
        "1. ID: Unique identifier for each news article. It is a numeric value.\n",
        "2. TITLE: The title of the news article. It is a text/string value.\n",
        "3. URL: The URL or web address of the news article. It is a text/string value.\n",
        "4. PUBLISHER: The publisher or source of the news article. It is a text/string value.\n",
        "5. CATEGORY: The category or topic of the news article. It is a text/string value.\n",
        "6. STORY: The broader news story to which the article belongs. It is a text/string value.\n",
        "7. HOSTNAME: The hostname or domain name of the URL. It is a text/string value.\n",
        "8. TIMESTAMP: The timestamp indicating the publication time of the article. It is a numeric value.\n"
      ]
    },
    {
      "cell_type": "code",
      "execution_count": null,
      "id": "27517381",
      "metadata": {
        "colab": {
          "base_uri": "https://localhost:8080/"
        },
        "id": "27517381",
        "outputId": "4362bab0-291c-4224-bd92-cedccdd136c0"
      },
      "outputs": [
        {
          "name": "stdout",
          "output_type": "stream",
          "text": [
            "Index(['ID', 'TITLE', 'URL', 'PUBLISHER', 'CATEGORY', 'STORY', 'HOSTNAME',\n",
            "       'TIMESTAMP'],\n",
            "      dtype='object')\n"
          ]
        }
      ],
      "source": [
        "# To display all the columns in the DataFrame\n",
        "print(df.columns)"
      ]
    },
    {
      "cell_type": "code",
      "execution_count": null,
      "id": "49757d76",
      "metadata": {
        "colab": {
          "base_uri": "https://localhost:8080/"
        },
        "id": "49757d76",
        "outputId": "da3295be-1a95-4711-9f15-979da901fc74"
      },
      "outputs": [
        {
          "name": "stdout",
          "output_type": "stream",
          "text": [
            "<class 'pandas.core.frame.DataFrame'>\n",
            "RangeIndex: 422419 entries, 0 to 422418\n",
            "Data columns (total 8 columns):\n",
            " #   Column     Non-Null Count   Dtype \n",
            "---  ------     --------------   ----- \n",
            " 0   ID         422419 non-null  int64 \n",
            " 1   TITLE      422419 non-null  object\n",
            " 2   URL        422419 non-null  object\n",
            " 3   PUBLISHER  422417 non-null  object\n",
            " 4   CATEGORY   422419 non-null  object\n",
            " 5   STORY      422419 non-null  object\n",
            " 6   HOSTNAME   422419 non-null  object\n",
            " 7   TIMESTAMP  422419 non-null  int64 \n",
            "dtypes: int64(2), object(6)\n",
            "memory usage: 25.8+ MB\n",
            "None\n"
          ]
        }
      ],
      "source": [
        "# Get an overview of the dataset's columns and data types\n",
        "print(df.info())"
      ]
    },
    {
      "cell_type": "code",
      "execution_count": null,
      "id": "ff1fff1e",
      "metadata": {
        "colab": {
          "base_uri": "https://localhost:8080/"
        },
        "id": "ff1fff1e",
        "outputId": "ea18fdf1-2c6d-4fac-d062-b8b9290b0cca"
      },
      "outputs": [
        {
          "data": {
            "text/plain": [
              "ID           422419\n",
              "TITLE        422419\n",
              "URL          422419\n",
              "PUBLISHER    422417\n",
              "CATEGORY     422419\n",
              "STORY        422419\n",
              "HOSTNAME     422419\n",
              "TIMESTAMP    422419\n",
              "dtype: int64"
            ]
          },
          "execution_count": 16,
          "metadata": {},
          "output_type": "execute_result"
        }
      ],
      "source": [
        "#Looking at the count of all the columns\n",
        "df.count()"
      ]
    },
    {
      "cell_type": "code",
      "execution_count": null,
      "id": "62dcd312",
      "metadata": {
        "colab": {
          "base_uri": "https://localhost:8080/"
        },
        "id": "62dcd312",
        "outputId": "36190512-35cd-4592-81f2-1033eef45807"
      },
      "outputs": [
        {
          "name": "stdout",
          "output_type": "stream",
          "text": [
            "ID           422419\n",
            "TITLE        406455\n",
            "URL          422223\n",
            "PUBLISHER     10985\n",
            "CATEGORY          4\n",
            "STORY          7230\n",
            "HOSTNAME      11236\n",
            "TIMESTAMP    422419\n",
            "dtype: int64\n"
          ]
        }
      ],
      "source": [
        "# Check the number of unique values in each column\n",
        "print(df.nunique())"
      ]
    },
    {
      "cell_type": "code",
      "execution_count": null,
      "id": "03639d15",
      "metadata": {
        "colab": {
          "base_uri": "https://localhost:8080/"
        },
        "id": "03639d15",
        "outputId": "0c9938d5-7d72-42a0-fe6f-35991fd3130d"
      },
      "outputs": [
        {
          "name": "stdout",
          "output_type": "stream",
          "text": [
            "Number of Duplicate Titles: 15964\n",
            "Percentage of Duplicate Titles: 3.78%\n"
          ]
        }
      ],
      "source": [
        "## Able to see some duplicate titles\n",
        "# Count the number of duplicate titles\n",
        "duplicate_title_counts = df['TITLE'].duplicated().sum()\n",
        "\n",
        "# Calculate the percentage of duplicate titles\n",
        "duplicate_title_percentage = (duplicate_title_counts / len(df['TITLE'])) * 100\n",
        "\n",
        "# Print the results\n",
        "print(\"Number of Duplicate Titles:\", duplicate_title_counts)\n",
        "print(\"Percentage of Duplicate Titles: {:.2f}%\".format(duplicate_title_percentage))\n"
      ]
    },
    {
      "cell_type": "code",
      "execution_count": null,
      "id": "af9a9460",
      "metadata": {
        "colab": {
          "base_uri": "https://localhost:8080/",
          "height": 472
        },
        "id": "af9a9460",
        "outputId": "db3b2e1f-ee6b-4d47-a689-adb2b2acf7e6"
      },
      "outputs": [
        {
          "data": {
            "image/png": "[encoded data removed]",
            "text/plain": [
              "<Figure size 640x480 with 1 Axes>"
            ]
          },
          "metadata": {},
          "output_type": "display_data"
        }
      ],
      "source": [
        "# Count the occurrences of each title\n",
        "title_counts = df['TITLE'].value_counts()\n",
        "\n",
        "# Filter for duplicate titles\n",
        "duplicate_titles = title_counts[title_counts > 1]\n",
        "\n",
        "# Select the top 10 duplicate titles\n",
        "top_duplicate_titles = duplicate_titles.head(10)\n",
        "\n",
        "# Plot a bar chart of the top 10 duplicate titles\n",
        "plt.barh(top_duplicate_titles.index, top_duplicate_titles.values)\n",
        "plt.xlabel('Count')\n",
        "plt.ylabel('Title')\n",
        "plt.title('Top 10 Duplicate Titles')\n",
        "plt.show()\n",
        "\n",
        "\n"
      ]
    },
    {
      "cell_type": "code",
      "execution_count": null,
      "id": "e5cc0b7e",
      "metadata": {
        "colab": {
          "base_uri": "https://localhost:8080/",
          "height": 424
        },
        "id": "e5cc0b7e",
        "outputId": "bab68bcb-7bd3-48bd-bf4b-b147d5c9467b"
      },
      "outputs": [
        {
          "data": {
            "text/html": [
              "\n",
              "  <div id=\"df-429b2817-4253-499e-bd9c-c9e56af98ec5\">\n",
              "    <div class=\"colab-df-container\">\n",
              "      <div>\n",
              "<style scoped>\n",
              "    .dataframe tbody tr th:only-of-type {\n",
              "        vertical-align: middle;\n",
              "    }\n",
              "\n",
              "    .dataframe tbody tr th {\n",
              "        vertical-align: top;\n",
              "    }\n",
              "\n",
              "    .dataframe thead th {\n",
              "        text-align: right;\n",
              "    }\n",
              "</style>\n",
              "<table border=\"1\" class=\"dataframe\">\n",
              "  <thead>\n",
              "    <tr style=\"text-align: right;\">\n",
              "      <th></th>\n",
              "      <th>URL</th>\n",
              "    </tr>\n",
              "  </thead>\n",
              "  <tbody>\n",
              "    <tr>\n",
              "      <th>0</th>\n",
              "      <td>http://www.latimes.com/business/money/la-fi-mo...</td>\n",
              "    </tr>\n",
              "    <tr>\n",
              "      <th>1</th>\n",
              "      <td>http://www.livemint.com/Politics/H2EvwJSK2VE6O...</td>\n",
              "    </tr>\n",
              "    <tr>\n",
              "      <th>2</th>\n",
              "      <td>http://www.ifamagazine.com/news/us-open-stocks...</td>\n",
              "    </tr>\n",
              "    <tr>\n",
              "      <th>3</th>\n",
              "      <td>http://www.ifamagazine.com/news/fed-risks-fall...</td>\n",
              "    </tr>\n",
              "    <tr>\n",
              "      <th>4</th>\n",
              "      <td>http://www.moneynews.com/Economy/federal-reser...</td>\n",
              "    </tr>\n",
              "    <tr>\n",
              "      <th>...</th>\n",
              "      <td>...</td>\n",
              "    </tr>\n",
              "    <tr>\n",
              "      <th>422414</th>\n",
              "      <td>http://www.cbs3springfield.com/story/26378648/...</td>\n",
              "    </tr>\n",
              "    <tr>\n",
              "      <th>422415</th>\n",
              "      <td>http://www.wlwt.com/news/boy-to-have-surgery-o...</td>\n",
              "    </tr>\n",
              "    <tr>\n",
              "      <th>422416</th>\n",
              "      <td>http://www.newsnet5.com/news/local-news/child-...</td>\n",
              "    </tr>\n",
              "    <tr>\n",
              "      <th>422417</th>\n",
              "      <td>http://www.wfsb.com/story/26368078/phoenix-boy...</td>\n",
              "    </tr>\n",
              "    <tr>\n",
              "      <th>422418</th>\n",
              "      <td>http://www.cbs3springfield.com/story/26368078/...</td>\n",
              "    </tr>\n",
              "  </tbody>\n",
              "</table>\n",
              "<p>422419 rows × 1 columns</p>\n",
              "</div>\n",
              "      <button class=\"colab-df-convert\" onclick=\"convertToInteractive('df-429b2817-4253-499e-bd9c-c9e56af98ec5')\"\n",
              "              title=\"Convert this dataframe to an interactive table.\"\n",
              "              style=\"display:none;\">\n",
              "        \n",
              "  <svg xmlns=\"http://www.w3.org/2000/svg\" height=\"24px\"viewBox=\"0 0 24 24\"\n",
              "       width=\"24px\">\n",
              "    <path d=\"M0 0h24v24H0V0z\" fill=\"none\"/>\n",
              "    <path d=\"M18.56 5.44l.94 2.06.94-2.06 2.06-.94-2.06-.94-.94-2.06-.94 2.06-2.06.94zm-11 1L8.5 8.5l.94-2.06 2.06-.94-2.06-.94L8.5 2.5l-.94 2.06-2.06.94zm10 10l.94 2.06.94-2.06 2.06-.94-2.06-.94-.94-2.06-.94 2.06-2.06.94z\"/><path d=\"M17.41 7.96l-1.37-1.37c-.4-.4-.92-.59-1.43-.59-.52 0-1.04.2-1.43.59L10.3 9.45l-7.72 7.72c-.78.78-.78 2.05 0 2.83L4 21.41c.39.39.9.59 1.41.59.51 0 1.02-.2 1.41-.59l7.78-7.78 2.81-2.81c.8-.78.8-2.07 0-2.86zM5.41 20L4 18.59l7.72-7.72 1.47 1.35L5.41 20z\"/>\n",
              "  </svg>\n",
              "      </button>\n",
              "      \n",
              "  <style>\n",
              "    .colab-df-container {\n",
              "      display:flex;\n",
              "      flex-wrap:wrap;\n",
              "      gap: 12px;\n",
              "    }\n",
              "\n",
              "    .colab-df-convert {\n",
              "      background-color: #E8F0FE;\n",
              "      border: none;\n",
              "      border-radius: 50%;\n",
              "      cursor: pointer;\n",
              "      display: none;\n",
              "      fill: #1967D2;\n",
              "      height: 32px;\n",
              "      padding: 0 0 0 0;\n",
              "      width: 32px;\n",
              "    }\n",
              "\n",
              "    .colab-df-convert:hover {\n",
              "      background-color: #E2EBFA;\n",
              "      box-shadow: 0px 1px 2px rgba(60, 64, 67, 0.3), 0px 1px 3px 1px rgba(60, 64, 67, 0.15);\n",
              "      fill: #174EA6;\n",
              "    }\n",
              "\n",
              "    [theme=dark] .colab-df-convert {\n",
              "      background-color: #3B4455;\n",
              "      fill: #D2E3FC;\n",
              "    }\n",
              "\n",
              "    [theme=dark] .colab-df-convert:hover {\n",
              "      background-color: #434B5C;\n",
              "      box-shadow: 0px 1px 3px 1px rgba(0, 0, 0, 0.15);\n",
              "      filter: drop-shadow(0px 1px 2px rgba(0, 0, 0, 0.3));\n",
              "      fill: #FFFFFF;\n",
              "    }\n",
              "  </style>\n",
              "\n",
              "      <script>\n",
              "        const buttonEl =\n",
              "          document.querySelector('#df-429b2817-4253-499e-bd9c-c9e56af98ec5 button.colab-df-convert');\n",
              "        buttonEl.style.display =\n",
              "          google.colab.kernel.accessAllowed ? 'block' : 'none';\n",
              "\n",
              "        async function convertToInteractive(key) {\n",
              "          const element = document.querySelector('#df-429b2817-4253-499e-bd9c-c9e56af98ec5');\n",
              "          const dataTable =\n",
              "            await google.colab.kernel.invokeFunction('convertToInteractive',\n",
              "                                                     [key], {});\n",
              "          if (!dataTable) return;\n",
              "\n",
              "          const docLinkHtml = 'Like what you see? Visit the ' +\n",
              "            '<a target=\"_blank\" href=https://colab.research.google.com/notebooks/data_table.ipynb>data table notebook</a>'\n",
              "            + ' to learn more about interactive tables.';\n",
              "          element.innerHTML = '';\n",
              "          dataTable['output_type'] = 'display_data';\n",
              "          await google.colab.output.renderOutput(dataTable, element);\n",
              "          const docLink = document.createElement('div');\n",
              "          docLink.innerHTML = docLinkHtml;\n",
              "          element.appendChild(docLink);\n",
              "        }\n",
              "      </script>\n",
              "    </div>\n",
              "  </div>\n",
              "  "
            ],
            "text/plain": [
              "                                                      URL\n",
              "0       http://www.latimes.com/business/money/la-fi-mo...\n",
              "1       http://www.livemint.com/Politics/H2EvwJSK2VE6O...\n",
              "2       http://www.ifamagazine.com/news/us-open-stocks...\n",
              "3       http://www.ifamagazine.com/news/fed-risks-fall...\n",
              "4       http://www.moneynews.com/Economy/federal-reser...\n",
              "...                                                   ...\n",
              "422414  http://www.cbs3springfield.com/story/26378648/...\n",
              "422415  http://www.wlwt.com/news/boy-to-have-surgery-o...\n",
              "422416  http://www.newsnet5.com/news/local-news/child-...\n",
              "422417  http://www.wfsb.com/story/26368078/phoenix-boy...\n",
              "422418  http://www.cbs3springfield.com/story/26368078/...\n",
              "\n",
              "[422419 rows x 1 columns]"
            ]
          },
          "execution_count": 13,
          "metadata": {},
          "output_type": "execute_result"
        }
      ],
      "source": [
        "#There is a column which contains all the URL , looking at the list\n",
        "df[['URL']]"
      ]
    },
    {
      "cell_type": "code",
      "execution_count": null,
      "id": "9eadca33",
      "metadata": {
        "colab": {
          "base_uri": "https://localhost:8080/"
        },
        "id": "9eadca33",
        "outputId": "c191e2b3-d6b4-4830-c577-baedc5be6a29"
      },
      "outputs": [
        {
          "name": "stdout",
          "output_type": "stream",
          "text": [
            "                                                                                                                                        URL\n",
            "0               http://www.latimes.com/business/money/la-fi-mo-federal-reserve-plosser-stimulus-economy-20140310,0,1312750.story\\?track=rss\n",
            "1                  http://www.livemint.com/Politics/H2EvwJSK2VE6OF7iK1g3PP/Feds-Charles-Plosser-sees-high-bar-for-change-in-pace-of-ta.html\n",
            "2                               http://www.ifamagazine.com/news/us-open-stocks-fall-after-fed-official-hints-at-accelerated-tapering-294436\n",
            "3                                            http://www.ifamagazine.com/news/fed-risks-falling-behind-the-curve-charles-plosser-says-294430\n",
            "4                                  http://www.moneynews.com/Economy/federal-reserve-charles-plosser-weather-job-growth/2014/03/10/id/557011\n",
            "...                                                                                                                                     ...\n",
            "422414                         http://www.cbs3springfield.com/story/26378648/surgeons-removed-4-year-olds-rib-to-rebuild-his-damaged-throat\n",
            "422415                                http://www.wlwt.com/news/boy-to-have-surgery-on-esophagus-after-battery-burns-hole-in-throat/27741396\n",
            "422416  http://www.newsnet5.com/news/local-news/child-who-swallowed-battery-to-have-reconstructive-surgery-at-cincinnati-childrens-hospital\n",
            "422417                         http://www.wfsb.com/story/26368078/phoenix-boy-undergoes-surgery-to-repair-throat-damage-from-button-battery\n",
            "422418              http://www.cbs3springfield.com/story/26368078/phoenix-boy-undergoes-surgery-to-repair-throat-damage-from-button-battery\n",
            "\n",
            "[422419 rows x 1 columns]\n"
          ]
        }
      ],
      "source": [
        "# To display the full URLs without truncation\n",
        "#These URLs can be used to access the news and do summarization\n",
        "pd.set_option('display.max_colwidth', None)\n",
        "print(df[['URL']])"
      ]
    },
    {
      "cell_type": "code",
      "execution_count": null,
      "id": "3227d8e7",
      "metadata": {
        "colab": {
          "base_uri": "https://localhost:8080/",
          "height": 508
        },
        "id": "3227d8e7",
        "outputId": "b8ad8322-7a8f-4dea-f032-003d0865e40f"
      },
      "outputs": [
        {
          "name": "stdout",
          "output_type": "stream",
          "text": [
            "Number of Duplicate Shortened URLs: 411182\n",
            "Percentage of Duplicate Shortened URLs: 97.34%\n"
          ]
        },
        {
          "data": {
            "image/png": "[encoded data removed]",
            "text/plain": [
              "<Figure size 640x480 with 1 Axes>"
            ]
          },
          "metadata": {},
          "output_type": "display_data"
        }
      ],
      "source": [
        "## Able to see duplicate URLs\n",
        "import urllib.parse\n",
        "\n",
        "# Shorten URLs for display\n",
        "shortened_urls = df['URL'].apply(lambda url: urllib.parse.urlparse(url).netloc)\n",
        "\n",
        "# Count the number of duplicate shortened URLs\n",
        "duplicate_url_counts = shortened_urls.duplicated().sum()\n",
        "\n",
        "# Calculate the percentage of duplicate shortened URLs\n",
        "duplicate_url_percentage = (duplicate_url_counts / len(shortened_urls)) * 100\n",
        "\n",
        "# Print the results\n",
        "print(\"Number of Duplicate Shortened URLs:\", duplicate_url_counts)\n",
        "print(\"Percentage of Duplicate Shortened URLs: {:.2f}%\".format(duplicate_url_percentage))\n",
        "\n",
        "# Get the top 10 duplicate shortened URLs with their counts\n",
        "top_duplicate_urls = shortened_urls.value_counts().head(10)\n",
        "\n",
        "# Plot a bar chart of the top 10 duplicate shortened URLs\n",
        "plt.barh(top_duplicate_urls.index, top_duplicate_urls.values)\n",
        "plt.xlabel('Count')\n",
        "plt.ylabel('Shortened URL')\n",
        "plt.title('Top 10 Duplicate Shortened URLs')\n",
        "plt.show()\n",
        "\n"
      ]
    },
    {
      "cell_type": "code",
      "execution_count": null,
      "id": "fabbb94f",
      "metadata": {
        "colab": {
          "base_uri": "https://localhost:8080/"
        },
        "id": "fabbb94f",
        "outputId": "a0959ac1-93e3-450e-847c-1f51ae5c9829"
      },
      "outputs": [
        {
          "name": "stdout",
          "output_type": "stream",
          "text": [
            "                                                                                                                                                                                                                                                                                         URL  \\\n",
            "0                                                   http://arstechnica.com/business/2014/04/amazon-offer-workers-2000-to-quit-but-the-incentive-is-nothing-like-zappos/\\?utm_source=feedburner&amp;utm_medium=feed&amp;utm_campaign=Feed%3A+arstechnica%2Findex+(Ars+Technica+-+All+content)   \n",
            "1                                                     http://arstechnica.com/security/2014/04/fingerprint-lock-in-samsung-galaxy-5-easily-defeated-by-whitehat-hackers/\\?utm_source=feedburner&amp;utm_medium=feed&amp;utm_campaign=Feed%3A+arstechnica%2Findex+(Ars+Technica+-+All+content)   \n",
            "2                                                     http://arstechnica.com/tech-policy/2014/06/verizon-wireless-employee-stole-900-phones-made-270000-profit-on-ebay/\\?utm_source=feedburner&amp;utm_medium=feed&amp;utm_campaign=Feed%3A+arstechnica%2Findex+(Ars+Technica+-+All+content)   \n",
            "3    http://blogs.barrons.com/techtraderdaily/2014/07/16/apple-street-lauds-ibm-deal-goldman-ups-target-to-107-piper-skeptical/\\?mod=BOLBlog&amp;utm_source=feedburner&amp;utm_medium=feed&amp;utm_campaign=Feed%3A+barrons%2Ftechtraderdaily%2Ffeed+(BARRONS.com+Blog%3A+Tech+Trader+Daily)   \n",
            "4                               http://business.financialpost.com/2014/07/03/canadas-exports-near-record-set-before-the-last-recession-as-trade-gap-shrinks-to-almost-zero/\\?utm_source=feedburner&amp;utm_medium=feed&amp;utm_campaign=Feed%3A+FP_TopStories+(Financial+Post+-+Top+Stories)   \n",
            "..                                                                                                                                                                                                                                                                                       ...   \n",
            "148                               http://www.washingtonpost.com/national/health-science/study-finds-that-runners-tend-to-live-longer-and-have-fewer-strokes-and-heart-problems/2014/07/28/f9a79374-1349-11e4-9285-4243a40ddc97_story.html\\?tid=hpModule_1f58c93a-8a7a-11e2-98d9-3012c1cd8d1e   \n",
            "149                                                http://www.wetpaint.com/juan-pablo-galavis/articles/2014-03-10-what-changed-dramatically-nikki-ferrell\\?utm_source=feedburner&amp;utm_medium=feed&amp;utm_campaign=Feed%3A+dwtsshow%2Flatest%2Fexcerpt+(Dancing+With+The+Stars+(Excerpt))   \n",
            "150                                             http://www.wetpaint.com/the-bachelorette/articles/2014-07-07-andi-dorfman-have-more-chemistry-with-nick-or-josh\\?utm_source=feedburner&amp;utm_medium=feed&amp;utm_campaign=Feed%3A+bachelorette%2Flatest%2Fexcerpt+(Bachelorette+(Excerpt))   \n",
            "151                                                http://www.wetpaint.com/the-bachelorette/articles/2014-07-29-nick-viall-tweets-congratulations-andi-and-josh\\?utm_source=feedburner&amp;utm_medium=feed&amp;utm_campaign=Feed%3A+bachelorette%2Flatest%2Fexcerpt+(Bachelorette+(Excerpt))   \n",
            "152                        https://www.hcpress.com/news/north-carolina-unemployment-rate-improves-to-6-7-percent-just-shy-of-national-average.html\\?utm_source=rss&amp;utm_medium=rss&amp;utm_campaign=north-carolina-unemployment-rate-improves-to-6-7-percent-just-shy-of-national-average   \n",
            "\n",
            "                                                                                                                                                                                                                                                                                                                                                      TITLE  \n",
            "0                                                                                                                                                                                            Amazon offers workers $2000 to quit, but the incentive is nothing like Zappos', Amazon offers workers $2000 to quit, but the incentive is nothing like Zappos'  \n",
            "1                                                                                                                              Fingerprint lock in Samsung Galaxy 5 easily defeated by whitehat hackers, Fingerprint lock in Samsung Galaxy 5 easily defeated by whitehat hackers, Fingerprint lock in Samsung Galaxy 5 easily defeated by whitehat hackers  \n",
            "2                                                                                                                                                                                                          Verizon Wireless employee stole 900 phones, made $270000 profit on eBay, Verizon Wireless employee stole 900 phones, made $270000 profit on eBay  \n",
            "3                                                                                                                                                                                                      Apple: Street Lauds IBM Deal; Goldman Ups Target to $107; Piper Skeptical, Apple: Street Lauds IBM Deal; Goldman Ups Target to $107; Piper Skeptical  \n",
            "4    Canada's exports near record set before the last recession as trade gap shrinks  ..., Canada's exports near record set before the last recession as trade gap shrinks  ..., Canada's exports near record set before the last recession as trade gap shrinks  ..., Canada's exports near record set before the last recession as trade gap shrinks  ...  \n",
            "..                                                                                                                                                                                                                                                                                                                                                      ...  \n",
            "148                                                                                                                                                                                  Study finds that runners tend to live longer and have fewer strokes and heart  ..., Study finds that runners tend to live longer and have fewer strokes and heart  ...  \n",
            "149                                                                                                                                                                                                            What “Changed Dramatically” for Juan Pablo Galavis and Nikki Ferrell?, What “Changed Dramatically” for Juan Pablo Galavis and Nikki Ferrell?  \n",
            "150                                                                                                                                                                                              Does Andi Dorfman Have More Chemistry With Nick Viall or Josh Murray? (POLL), Does Andi Dorfman Have More Chemistry With Nick Viall or Josh Murray? (POLL)  \n",
            "151                                                                                                                                                                                  Bachelorette 2014: Nick Viall Tweets Congratulations to Andi Dorfman and Josh  ..., Bachelorette 2014: Nick Viall Tweets Congratulations to Andi Dorfman and Josh  ...  \n",
            "152                                                                                                                                                                                        North Carolina Unemployment Rate for January Improves to 6.7 Percent, Just  ..., North Carolina Unemployment Rate for January Improves to 6.7 Percent, Just  ...  \n",
            "\n",
            "[153 rows x 2 columns]\n"
          ]
        },
        {
          "name": "stderr",
          "output_type": "stream",
          "text": [
            "<ipython-input-16-25382e94d985>:9: SettingWithCopyWarning: \n",
            "A value is trying to be set on a copy of a slice from a DataFrame.\n",
            "Try using .loc[row_indexer,col_indexer] = value instead\n",
            "\n",
            "See the caveats in the documentation: https://pandas.pydata.org/pandas-docs/stable/user_guide/indexing.html#returning-a-view-versus-a-copy\n",
            "  duplicate_urls['Shortened URL'] = duplicate_urls['URL'].apply(lambda url: urllib.parse.urlparse(url).netloc)\n"
          ]
        }
      ],
      "source": [
        "# Find titles with duplicate URLs\n",
        "import pandas as pd\n",
        "import urllib.parse\n",
        "\n",
        "# Find duplicate URLs\n",
        "duplicate_urls = df[df.duplicated(subset='URL', keep=False)]\n",
        "\n",
        "# Shorten URLs for display\n",
        "duplicate_urls['Shortened URL'] = duplicate_urls['URL'].apply(lambda url: urllib.parse.urlparse(url).netloc)\n",
        "\n",
        "# Group by URL and collect titles as comma-separated values\n",
        "title_duplicate_url = duplicate_urls.groupby('URL')['TITLE'].apply(lambda x: ', '.join(x)).reset_index()\n",
        "\n",
        "\n",
        "# Display the table\n",
        "print(title_duplicate_url)\n",
        "\n"
      ]
    },
    {
      "cell_type": "code",
      "execution_count": null,
      "id": "23993bc0",
      "metadata": {
        "colab": {
          "base_uri": "https://localhost:8080/",
          "height": 206
        },
        "id": "23993bc0",
        "outputId": "914975d3-9ffe-4865-cc1f-323b75c65014"
      },
      "outputs": [
        {
          "data": {
            "text/html": [
              "\n",
              "  <div id=\"df-9dc5d91e-a8db-4c49-9bda-db314a6b4cdc\">\n",
              "    <div class=\"colab-df-container\">\n",
              "      <div>\n",
              "<style scoped>\n",
              "    .dataframe tbody tr th:only-of-type {\n",
              "        vertical-align: middle;\n",
              "    }\n",
              "\n",
              "    .dataframe tbody tr th {\n",
              "        vertical-align: top;\n",
              "    }\n",
              "\n",
              "    .dataframe thead th {\n",
              "        text-align: right;\n",
              "    }\n",
              "</style>\n",
              "<table border=\"1\" class=\"dataframe\">\n",
              "  <thead>\n",
              "    <tr style=\"text-align: right;\">\n",
              "      <th></th>\n",
              "      <th>TITLE</th>\n",
              "      <th>CATEGORY</th>\n",
              "    </tr>\n",
              "  </thead>\n",
              "  <tbody>\n",
              "    <tr>\n",
              "      <th>0</th>\n",
              "      <td>Fed official says weak data caused by weather, should not slow taper</td>\n",
              "      <td>b</td>\n",
              "    </tr>\n",
              "    <tr>\n",
              "      <th>1</th>\n",
              "      <td>Fed's Charles Plosser sees high bar for change in pace of tapering</td>\n",
              "      <td>b</td>\n",
              "    </tr>\n",
              "    <tr>\n",
              "      <th>2</th>\n",
              "      <td>US open: Stocks fall after Fed official hints at accelerated tapering</td>\n",
              "      <td>b</td>\n",
              "    </tr>\n",
              "    <tr>\n",
              "      <th>3</th>\n",
              "      <td>Fed risks falling 'behind the curve', Charles Plosser says</td>\n",
              "      <td>b</td>\n",
              "    </tr>\n",
              "    <tr>\n",
              "      <th>4</th>\n",
              "      <td>Fed's Plosser: Nasty Weather Has Curbed Job Growth</td>\n",
              "      <td>b</td>\n",
              "    </tr>\n",
              "  </tbody>\n",
              "</table>\n",
              "</div>\n",
              "      <button class=\"colab-df-convert\" onclick=\"convertToInteractive('df-9dc5d91e-a8db-4c49-9bda-db314a6b4cdc')\"\n",
              "              title=\"Convert this dataframe to an interactive table.\"\n",
              "              style=\"display:none;\">\n",
              "        \n",
              "  <svg xmlns=\"http://www.w3.org/2000/svg\" height=\"24px\"viewBox=\"0 0 24 24\"\n",
              "       width=\"24px\">\n",
              "    <path d=\"M0 0h24v24H0V0z\" fill=\"none\"/>\n",
              "    <path d=\"M18.56 5.44l.94 2.06.94-2.06 2.06-.94-2.06-.94-.94-2.06-.94 2.06-2.06.94zm-11 1L8.5 8.5l.94-2.06 2.06-.94-2.06-.94L8.5 2.5l-.94 2.06-2.06.94zm10 10l.94 2.06.94-2.06 2.06-.94-2.06-.94-.94-2.06-.94 2.06-2.06.94z\"/><path d=\"M17.41 7.96l-1.37-1.37c-.4-.4-.92-.59-1.43-.59-.52 0-1.04.2-1.43.59L10.3 9.45l-7.72 7.72c-.78.78-.78 2.05 0 2.83L4 21.41c.39.39.9.59 1.41.59.51 0 1.02-.2 1.41-.59l7.78-7.78 2.81-2.81c.8-.78.8-2.07 0-2.86zM5.41 20L4 18.59l7.72-7.72 1.47 1.35L5.41 20z\"/>\n",
              "  </svg>\n",
              "      </button>\n",
              "      \n",
              "  <style>\n",
              "    .colab-df-container {\n",
              "      display:flex;\n",
              "      flex-wrap:wrap;\n",
              "      gap: 12px;\n",
              "    }\n",
              "\n",
              "    .colab-df-convert {\n",
              "      background-color: #E8F0FE;\n",
              "      border: none;\n",
              "      border-radius: 50%;\n",
              "      cursor: pointer;\n",
              "      display: none;\n",
              "      fill: #1967D2;\n",
              "      height: 32px;\n",
              "      padding: 0 0 0 0;\n",
              "      width: 32px;\n",
              "    }\n",
              "\n",
              "    .colab-df-convert:hover {\n",
              "      background-color: #E2EBFA;\n",
              "      box-shadow: 0px 1px 2px rgba(60, 64, 67, 0.3), 0px 1px 3px 1px rgba(60, 64, 67, 0.15);\n",
              "      fill: #174EA6;\n",
              "    }\n",
              "\n",
              "    [theme=dark] .colab-df-convert {\n",
              "      background-color: #3B4455;\n",
              "      fill: #D2E3FC;\n",
              "    }\n",
              "\n",
              "    [theme=dark] .colab-df-convert:hover {\n",
              "      background-color: #434B5C;\n",
              "      box-shadow: 0px 1px 3px 1px rgba(0, 0, 0, 0.15);\n",
              "      filter: drop-shadow(0px 1px 2px rgba(0, 0, 0, 0.3));\n",
              "      fill: #FFFFFF;\n",
              "    }\n",
              "  </style>\n",
              "\n",
              "      <script>\n",
              "        const buttonEl =\n",
              "          document.querySelector('#df-9dc5d91e-a8db-4c49-9bda-db314a6b4cdc button.colab-df-convert');\n",
              "        buttonEl.style.display =\n",
              "          google.colab.kernel.accessAllowed ? 'block' : 'none';\n",
              "\n",
              "        async function convertToInteractive(key) {\n",
              "          const element = document.querySelector('#df-9dc5d91e-a8db-4c49-9bda-db314a6b4cdc');\n",
              "          const dataTable =\n",
              "            await google.colab.kernel.invokeFunction('convertToInteractive',\n",
              "                                                     [key], {});\n",
              "          if (!dataTable) return;\n",
              "\n",
              "          const docLinkHtml = 'Like what you see? Visit the ' +\n",
              "            '<a target=\"_blank\" href=https://colab.research.google.com/notebooks/data_table.ipynb>data table notebook</a>'\n",
              "            + ' to learn more about interactive tables.';\n",
              "          element.innerHTML = '';\n",
              "          dataTable['output_type'] = 'display_data';\n",
              "          await google.colab.output.renderOutput(dataTable, element);\n",
              "          const docLink = document.createElement('div');\n",
              "          docLink.innerHTML = docLinkHtml;\n",
              "          element.appendChild(docLink);\n",
              "        }\n",
              "      </script>\n",
              "    </div>\n",
              "  </div>\n",
              "  "
            ],
            "text/plain": [
              "                                                                   TITLE  \\\n",
              "0   Fed official says weak data caused by weather, should not slow taper   \n",
              "1     Fed's Charles Plosser sees high bar for change in pace of tapering   \n",
              "2  US open: Stocks fall after Fed official hints at accelerated tapering   \n",
              "3             Fed risks falling 'behind the curve', Charles Plosser says   \n",
              "4                     Fed's Plosser: Nasty Weather Has Curbed Job Growth   \n",
              "\n",
              "  CATEGORY  \n",
              "0        b  \n",
              "1        b  \n",
              "2        b  \n",
              "3        b  \n",
              "4        b  "
            ]
          },
          "execution_count": 17,
          "metadata": {},
          "output_type": "execute_result"
        }
      ],
      "source": [
        "#Title and category will be used for calssification\n",
        "# creating a new dataset with only relevant features.\n",
        "df1 = df[['TITLE','CATEGORY']]\n",
        "df1.head()"
      ]
    },
    {
      "cell_type": "code",
      "execution_count": null,
      "id": "efc71fd4",
      "metadata": {
        "colab": {
          "base_uri": "https://localhost:8080/",
          "height": 206
        },
        "id": "efc71fd4",
        "outputId": "af2345df-2d4f-4ec1-abf1-29465755b40d"
      },
      "outputs": [
        {
          "data": {
            "text/html": [
              "\n",
              "  <div id=\"df-6adacdad-bce0-40fc-bf2f-f8a16b6a871c\">\n",
              "    <div class=\"colab-df-container\">\n",
              "      <div>\n",
              "<style scoped>\n",
              "    .dataframe tbody tr th:only-of-type {\n",
              "        vertical-align: middle;\n",
              "    }\n",
              "\n",
              "    .dataframe tbody tr th {\n",
              "        vertical-align: top;\n",
              "    }\n",
              "\n",
              "    .dataframe thead th {\n",
              "        text-align: right;\n",
              "    }\n",
              "</style>\n",
              "<table border=\"1\" class=\"dataframe\">\n",
              "  <thead>\n",
              "    <tr style=\"text-align: right;\">\n",
              "      <th></th>\n",
              "      <th>TITLE</th>\n",
              "      <th>CATEGORY</th>\n",
              "    </tr>\n",
              "  </thead>\n",
              "  <tbody>\n",
              "    <tr>\n",
              "      <th>0</th>\n",
              "      <td>Alcatel-Lucent: The Way Back To $4.50 Is Wide Open</td>\n",
              "      <td>b</td>\n",
              "    </tr>\n",
              "    <tr>\n",
              "      <th>1</th>\n",
              "      <td>Zara pulls shirt resembling 'Star of David'</td>\n",
              "      <td>e</td>\n",
              "    </tr>\n",
              "    <tr>\n",
              "      <th>2</th>\n",
              "      <td>Trace Adkins' wife files for divorce in Tenn.</td>\n",
              "      <td>e</td>\n",
              "    </tr>\n",
              "    <tr>\n",
              "      <th>3</th>\n",
              "      <td>GAS PRICES: Iraq turmoil could drive up Inland rates</td>\n",
              "      <td>b</td>\n",
              "    </tr>\n",
              "    <tr>\n",
              "      <th>4</th>\n",
              "      <td>Men's Wearhouse bid of $1.8 billion suits Jos A Bank just fine</td>\n",
              "      <td>b</td>\n",
              "    </tr>\n",
              "  </tbody>\n",
              "</table>\n",
              "</div>\n",
              "      <button class=\"colab-df-convert\" onclick=\"convertToInteractive('df-6adacdad-bce0-40fc-bf2f-f8a16b6a871c')\"\n",
              "              title=\"Convert this dataframe to an interactive table.\"\n",
              "              style=\"display:none;\">\n",
              "        \n",
              "  <svg xmlns=\"http://www.w3.org/2000/svg\" height=\"24px\"viewBox=\"0 0 24 24\"\n",
              "       width=\"24px\">\n",
              "    <path d=\"M0 0h24v24H0V0z\" fill=\"none\"/>\n",
              "    <path d=\"M18.56 5.44l.94 2.06.94-2.06 2.06-.94-2.06-.94-.94-2.06-.94 2.06-2.06.94zm-11 1L8.5 8.5l.94-2.06 2.06-.94-2.06-.94L8.5 2.5l-.94 2.06-2.06.94zm10 10l.94 2.06.94-2.06 2.06-.94-2.06-.94-.94-2.06-.94 2.06-2.06.94z\"/><path d=\"M17.41 7.96l-1.37-1.37c-.4-.4-.92-.59-1.43-.59-.52 0-1.04.2-1.43.59L10.3 9.45l-7.72 7.72c-.78.78-.78 2.05 0 2.83L4 21.41c.39.39.9.59 1.41.59.51 0 1.02-.2 1.41-.59l7.78-7.78 2.81-2.81c.8-.78.8-2.07 0-2.86zM5.41 20L4 18.59l7.72-7.72 1.47 1.35L5.41 20z\"/>\n",
              "  </svg>\n",
              "      </button>\n",
              "      \n",
              "  <style>\n",
              "    .colab-df-container {\n",
              "      display:flex;\n",
              "      flex-wrap:wrap;\n",
              "      gap: 12px;\n",
              "    }\n",
              "\n",
              "    .colab-df-convert {\n",
              "      background-color: #E8F0FE;\n",
              "      border: none;\n",
              "      border-radius: 50%;\n",
              "      cursor: pointer;\n",
              "      display: none;\n",
              "      fill: #1967D2;\n",
              "      height: 32px;\n",
              "      padding: 0 0 0 0;\n",
              "      width: 32px;\n",
              "    }\n",
              "\n",
              "    .colab-df-convert:hover {\n",
              "      background-color: #E2EBFA;\n",
              "      box-shadow: 0px 1px 2px rgba(60, 64, 67, 0.3), 0px 1px 3px 1px rgba(60, 64, 67, 0.15);\n",
              "      fill: #174EA6;\n",
              "    }\n",
              "\n",
              "    [theme=dark] .colab-df-convert {\n",
              "      background-color: #3B4455;\n",
              "      fill: #D2E3FC;\n",
              "    }\n",
              "\n",
              "    [theme=dark] .colab-df-convert:hover {\n",
              "      background-color: #434B5C;\n",
              "      box-shadow: 0px 1px 3px 1px rgba(0, 0, 0, 0.15);\n",
              "      filter: drop-shadow(0px 1px 2px rgba(0, 0, 0, 0.3));\n",
              "      fill: #FFFFFF;\n",
              "    }\n",
              "  </style>\n",
              "\n",
              "      <script>\n",
              "        const buttonEl =\n",
              "          document.querySelector('#df-6adacdad-bce0-40fc-bf2f-f8a16b6a871c button.colab-df-convert');\n",
              "        buttonEl.style.display =\n",
              "          google.colab.kernel.accessAllowed ? 'block' : 'none';\n",
              "\n",
              "        async function convertToInteractive(key) {\n",
              "          const element = document.querySelector('#df-6adacdad-bce0-40fc-bf2f-f8a16b6a871c');\n",
              "          const dataTable =\n",
              "            await google.colab.kernel.invokeFunction('convertToInteractive',\n",
              "                                                     [key], {});\n",
              "          if (!dataTable) return;\n",
              "\n",
              "          const docLinkHtml = 'Like what you see? Visit the ' +\n",
              "            '<a target=\"_blank\" href=https://colab.research.google.com/notebooks/data_table.ipynb>data table notebook</a>'\n",
              "            + ' to learn more about interactive tables.';\n",
              "          element.innerHTML = '';\n",
              "          dataTable['output_type'] = 'display_data';\n",
              "          await google.colab.output.renderOutput(dataTable, element);\n",
              "          const docLink = document.createElement('div');\n",
              "          docLink.innerHTML = docLinkHtml;\n",
              "          element.appendChild(docLink);\n",
              "        }\n",
              "      </script>\n",
              "    </div>\n",
              "  </div>\n",
              "  "
            ],
            "text/plain": [
              "                                                            TITLE CATEGORY\n",
              "0              Alcatel-Lucent: The Way Back To $4.50 Is Wide Open        b\n",
              "1                     Zara pulls shirt resembling 'Star of David'        e\n",
              "2                   Trace Adkins' wife files for divorce in Tenn.        e\n",
              "3            GAS PRICES: Iraq turmoil could drive up Inland rates        b\n",
              "4  Men's Wearhouse bid of $1.8 billion suits Jos A Bank just fine        b"
            ]
          },
          "execution_count": 18,
          "metadata": {},
          "output_type": "execute_result"
        }
      ],
      "source": [
        "#shuffling rows with the help of sample, here (frac = 1) means return all rows\n",
        "df2 = df1.sample(frac=1).reset_index(drop=True)\n",
        "df2.head()"
      ]
    },
    {
      "cell_type": "code",
      "execution_count": null,
      "id": "c7434a80",
      "metadata": {
        "colab": {
          "base_uri": "https://localhost:8080/"
        },
        "id": "c7434a80",
        "outputId": "a64c4ea2-bfd1-4378-af5e-ae66a695141b"
      },
      "outputs": [
        {
          "data": {
            "text/plain": [
              "TITLE       0\n",
              "CATEGORY    0\n",
              "dtype: int64"
            ]
          },
          "execution_count": 19,
          "metadata": {},
          "output_type": "execute_result"
        }
      ],
      "source": [
        "#checking for null values\n",
        "df2.isnull().sum()"
      ]
    },
    {
      "cell_type": "code",
      "execution_count": null,
      "id": "9c49f942",
      "metadata": {
        "id": "9c49f942"
      },
      "outputs": [],
      "source": [
        "# THERE ARE FOUR TYPES OF CATEGORIES-\n",
        "\n",
        "## b : business (~115000)\n",
        "## t : science and technology (~110000)\n",
        "## e : entertainment (~150000)\n",
        "## m : health (~40000)"
      ]
    },
    {
      "cell_type": "code",
      "execution_count": null,
      "id": "92383853",
      "metadata": {
        "colab": {
          "base_uri": "https://localhost:8080/",
          "height": 428
        },
        "id": "92383853",
        "outputId": "06c9343a-3bec-4832-b2b0-f1c44693b547"
      },
      "outputs": [
        {
          "data": {
            "image/png": "[encoded data removed]",
            "text/plain": [
              "<Figure size 640x480 with 1 Axes>"
            ]
          },
          "metadata": {},
          "output_type": "display_data"
        }
      ],
      "source": [
        "# Count the number of articles in each category\n",
        "category_counts = df['CATEGORY'].value_counts()\n",
        "\n",
        "# Plot a pie chart of category distribution\n",
        "plt.pie(category_counts, labels=category_counts.index, autopct='%1.1f%%')\n",
        "plt.title('Category Distribution')\n",
        "plt.show()"
      ]
    },
    {
      "cell_type": "code",
      "execution_count": null,
      "id": "281a739b",
      "metadata": {
        "colab": {
          "base_uri": "https://localhost:8080/",
          "height": 472
        },
        "id": "281a739b",
        "outputId": "9ed4dbce-c2e2-4c81-f34b-e620ca08c58a"
      },
      "outputs": [
        {
          "data": {
            "text/plain": [
              "<Axes: xlabel='CATEGORY', ylabel='count'>"
            ]
          },
          "execution_count": 27,
          "metadata": {},
          "output_type": "execute_result"
        },
        {
          "data": {
            "image/png": "[encoded data removed]",
            "text/plain": [
              "<Figure size 640x480 with 1 Axes>"
            ]
          },
          "metadata": {},
          "output_type": "display_data"
        }
      ],
      "source": [
        "# Count of articles per category\n",
        "sns.countplot(x = 'CATEGORY',data = df2)"
      ]
    },
    {
      "cell_type": "code",
      "execution_count": null,
      "id": "a175c391",
      "metadata": {
        "colab": {
          "base_uri": "https://localhost:8080/",
          "height": 577
        },
        "id": "a175c391",
        "outputId": "8a338b4d-cc7f-4f0f-b4f1-2fb64139cc74"
      },
      "outputs": [
        {
          "name": "stdout",
          "output_type": "stream",
          "text": [
            "Number of Unique Publishers: 10985\n"
          ]
        },
        {
          "data": {
            "image/png": "[encoded data removed]",
            "text/plain": [
              "<Figure size 640x480 with 1 Axes>"
            ]
          },
          "metadata": {},
          "output_type": "display_data"
        }
      ],
      "source": [
        "# Count the number of unique publishers\n",
        "num_unique_publishers = df['PUBLISHER'].nunique()\n",
        "\n",
        "# Print the number of unique publishers\n",
        "print(\"Number of Unique Publishers:\", num_unique_publishers)\n",
        "\n",
        "# Plot a bar chart of the top publishers\n",
        "top_publishers = df['PUBLISHER'].value_counts().head(10)\n",
        "plt.bar(top_publishers.index, top_publishers.values)\n",
        "plt.xlabel('Publisher')\n",
        "plt.ylabel('Count')\n",
        "plt.title('Top Publishers')\n",
        "plt.xticks(rotation=45)\n",
        "plt.show()\n",
        "\n"
      ]
    },
    {
      "cell_type": "markdown",
      "id": "aa2721f0",
      "metadata": {
        "id": "aa2721f0"
      },
      "source": [
        "# DATA CLEANING AND PREPROCESSING"
      ]
    },
    {
      "cell_type": "markdown",
      "id": "eb47cc52",
      "metadata": {
        "id": "eb47cc52"
      },
      "source": [
        "**Motivation for Data Cleaning in Column Headers of the News Aggregator Dataset**\n",
        "\n",
        "Performing data cleaning on the column headers of the News Aggregator Dataset from Kaggle is essential for ensuring data quality, clarity, and usability. Cleaning the column headers addresses various issues that can arise from inconsistencies, inaccuracies, or ambiguities in the column names. Here are the motivations for data cleaning in the column headers:\n",
        "\n",
        "Consistency and Standardization: Data cleaning helps to ensure consistent and standardized column headers across the dataset. It involves checking for any discrepancies or variations in the column names and applying standard naming conventions. Consistent column headers make it easier for users to understand and work with the dataset, improving data comprehension and facilitating data integration with other sources.\n",
        "\n",
        "Eliminating Spelling and Typographical Errors: Column headers may contain spelling mistakes, typographical errors, or inconsistent capitalization. Data cleaning involves identifying and rectifying such errors, improving the readability and professionalism of the dataset. Correcting these errors reduces the risk of misinterpretation and confusion when referring to specific attributes.\n",
        "\n",
        "Removing Special Characters and Whitespaces: Column headers might include special characters, symbols, or whitespaces that can hinder data processing and analysis. Data cleaning helps to remove or replace such characters, ensuring that the column headers are machine-readable and can be easily used in programming or query operations"
      ]
    },
    {
      "cell_type": "code",
      "execution_count": 6,
      "id": "197d0666",
      "metadata": {
        "colab": {
          "base_uri": "https://localhost:8080/"
        },
        "id": "197d0666",
        "outputId": "6ec28c90-7487-4810-bf4e-9032c296e356"
      },
      "outputs": [
        {
          "output_type": "stream",
          "name": "stderr",
          "text": [
            "[nltk_data] Downloading package stopwords to /root/nltk_data...\n",
            "[nltk_data]   Package stopwords is already up-to-date!\n",
            "[nltk_data] Downloading package punkt to /root/nltk_data...\n",
            "[nltk_data]   Package punkt is already up-to-date!\n"
          ]
        },
        {
          "output_type": "execute_result",
          "data": {
            "text/plain": [
              "True"
            ]
          },
          "metadata": {},
          "execution_count": 6
        }
      ],
      "source": [
        "import nltk\n",
        "nltk.download('stopwords')\n",
        "nltk.download('punkt')"
      ]
    },
    {
      "cell_type": "code",
      "execution_count": 11,
      "id": "45ec46ba",
      "metadata": {
        "id": "45ec46ba"
      },
      "outputs": [],
      "source": [
        " from nltk.corpus import stopwords\n",
        " from nltk.tokenize import word_tokenize\n",
        " import string\n",
        " from nltk.stem import PorterStemmer\n",
        " from tensorflow.keras.preprocessing.text import Tokenizer\n",
        " from tensorflow.keras.preprocessing.sequence import pad_sequences\n",
        " from tensorflow.keras.utils import to_categorical"
      ]
    },
    {
      "cell_type": "code",
      "execution_count": 12,
      "id": "eca5c50b",
      "metadata": {
        "id": "eca5c50b"
      },
      "outputs": [],
      "source": [
        "def cleaning_text(text):\n",
        "    punctuations = list(string.punctuation)\n",
        "    punctuations.append('...')\n",
        "\n",
        "    # Remove email addresses\n",
        "    regex_remove_email = r'\\b[A-Za-z0-9._%+-]+@[A-Za-z0-9.-]+\\.[A-Za-z]{2,}\\b'\n",
        "    text = text.strip()\n",
        "    text = re.sub(regex_remove_email, '', text, flags=re.MULTILINE)\n",
        "\n",
        "    regex_remove_hyperlinks = r'((https|http)://|www\\.)[A-Za-z0-9.:/-]*'\n",
        "    text = re.sub(regex_remove_hyperlinks, '', text)\n",
        "    text = text.lower()\n",
        "\n",
        "    # Remove time\n",
        "    regex_remove_time = r'\\d{2}:\\d{2}(:\\d{2})?(\\s+(\\+|-)\\d{0,4})?'\n",
        "    text = re.sub(regex_remove_time, '', text)\n",
        "\n",
        "    # Remove IP addresses\n",
        "    regex_remove_ip = r'\\d{1,4}.\\d{1,4}.\\d{1,4}.\\d{1,4}'\n",
        "    text = re.sub(regex_remove_ip, '', text)\n",
        "\n",
        "    regex_hash = r'#'\n",
        "    text = re.sub(regex_hash, '', text)\n",
        "\n",
        "    regex_symbol = r'>'\n",
        "    text = re.sub(regex_symbol, '', text)\n",
        "\n",
        "    regex_string_beginning = r\"^b['\\\"]\"\n",
        "    text = re.sub(regex_string_beginning, '', text)\n",
        "\n",
        "    tokens = word_tokenize(text)\n",
        "\n",
        "    non_symbol_pattern = r'^[!\"#]'  # Matches if the token contains only non-word characters\n",
        "    non_digit_pattern = r'^\\d+((\\.|,)\\d*)?$'\n",
        "\n",
        "    # The second step removes stopwords and punctuation\n",
        "    stopwords_english = stopwords.words('english')\n",
        "\n",
        "    cleaned_tokens = []\n",
        "    for token in tokens:\n",
        "        if token in stopwords_english or token in punctuations:\n",
        "            continue\n",
        "        elif bool(re.match(non_symbol_pattern, token)) or bool(re.match(non_digit_pattern, token)):\n",
        "            continue\n",
        "        else:\n",
        "            cleaned_tokens.append(token)\n",
        "\n",
        "    # Stem tokens\n",
        "    stemmer = PorterStemmer()\n",
        "    for i, word in enumerate(cleaned_tokens):\n",
        "        cleaned_tokens[i] = stemmer.stem(word)\n",
        "\n",
        "    return (' ').join(cleaned_tokens)\n"
      ]
    },
    {
      "cell_type": "code",
      "execution_count": 13,
      "id": "d05efd09",
      "metadata": {
        "id": "d05efd09"
      },
      "outputs": [],
      "source": [
        "df2=df[['TITLE','CATEGORY']]"
      ]
    },
    {
      "cell_type": "code",
      "execution_count": 14,
      "id": "76512fef",
      "metadata": {
        "colab": {
          "base_uri": "https://localhost:8080/",
          "height": 424
        },
        "id": "76512fef",
        "outputId": "9cf1e97b-2895-4ee7-e675-41bad2caf147"
      },
      "outputs": [
        {
          "output_type": "execute_result",
          "data": {
            "text/plain": [
              "                                                    TITLE CATEGORY\n",
              "0       Fed official says weak data caused by weather,...        b\n",
              "1       Fed's Charles Plosser sees high bar for change...        b\n",
              "2       US open: Stocks fall after Fed official hints ...        b\n",
              "3       Fed risks falling 'behind the curve', Charles ...        b\n",
              "4       Fed's Plosser: Nasty Weather Has Curbed Job Gr...        b\n",
              "...                                                   ...      ...\n",
              "422414  Surgeons to remove 4-year-old's rib to rebuild...        m\n",
              "422415  Boy to have surgery on esophagus after battery...        m\n",
              "422416  Child who swallowed battery to have reconstruc...        m\n",
              "422417  Phoenix boy undergoes surgery to repair throat...        m\n",
              "422418  Phoenix boy undergoes surgery to repair throat...        m\n",
              "\n",
              "[422419 rows x 2 columns]"
            ],
            "text/html": [
              "\n",
              "\n",
              "  <div id=\"df-7825746b-702f-43e4-a07a-70626b7b1fe9\">\n",
              "    <div class=\"colab-df-container\">\n",
              "      <div>\n",
              "<style scoped>\n",
              "    .dataframe tbody tr th:only-of-type {\n",
              "        vertical-align: middle;\n",
              "    }\n",
              "\n",
              "    .dataframe tbody tr th {\n",
              "        vertical-align: top;\n",
              "    }\n",
              "\n",
              "    .dataframe thead th {\n",
              "        text-align: right;\n",
              "    }\n",
              "</style>\n",
              "<table border=\"1\" class=\"dataframe\">\n",
              "  <thead>\n",
              "    <tr style=\"text-align: right;\">\n",
              "      <th></th>\n",
              "      <th>TITLE</th>\n",
              "      <th>CATEGORY</th>\n",
              "    </tr>\n",
              "  </thead>\n",
              "  <tbody>\n",
              "    <tr>\n",
              "      <th>0</th>\n",
              "      <td>Fed official says weak data caused by weather,...</td>\n",
              "      <td>b</td>\n",
              "    </tr>\n",
              "    <tr>\n",
              "      <th>1</th>\n",
              "      <td>Fed's Charles Plosser sees high bar for change...</td>\n",
              "      <td>b</td>\n",
              "    </tr>\n",
              "    <tr>\n",
              "      <th>2</th>\n",
              "      <td>US open: Stocks fall after Fed official hints ...</td>\n",
              "      <td>b</td>\n",
              "    </tr>\n",
              "    <tr>\n",
              "      <th>3</th>\n",
              "      <td>Fed risks falling 'behind the curve', Charles ...</td>\n",
              "      <td>b</td>\n",
              "    </tr>\n",
              "    <tr>\n",
              "      <th>4</th>\n",
              "      <td>Fed's Plosser: Nasty Weather Has Curbed Job Gr...</td>\n",
              "      <td>b</td>\n",
              "    </tr>\n",
              "    <tr>\n",
              "      <th>...</th>\n",
              "      <td>...</td>\n",
              "      <td>...</td>\n",
              "    </tr>\n",
              "    <tr>\n",
              "      <th>422414</th>\n",
              "      <td>Surgeons to remove 4-year-old's rib to rebuild...</td>\n",
              "      <td>m</td>\n",
              "    </tr>\n",
              "    <tr>\n",
              "      <th>422415</th>\n",
              "      <td>Boy to have surgery on esophagus after battery...</td>\n",
              "      <td>m</td>\n",
              "    </tr>\n",
              "    <tr>\n",
              "      <th>422416</th>\n",
              "      <td>Child who swallowed battery to have reconstruc...</td>\n",
              "      <td>m</td>\n",
              "    </tr>\n",
              "    <tr>\n",
              "      <th>422417</th>\n",
              "      <td>Phoenix boy undergoes surgery to repair throat...</td>\n",
              "      <td>m</td>\n",
              "    </tr>\n",
              "    <tr>\n",
              "      <th>422418</th>\n",
              "      <td>Phoenix boy undergoes surgery to repair throat...</td>\n",
              "      <td>m</td>\n",
              "    </tr>\n",
              "  </tbody>\n",
              "</table>\n",
              "<p>422419 rows × 2 columns</p>\n",
              "</div>\n",
              "      <button class=\"colab-df-convert\" onclick=\"convertToInteractive('df-7825746b-702f-43e4-a07a-70626b7b1fe9')\"\n",
              "              title=\"Convert this dataframe to an interactive table.\"\n",
              "              style=\"display:none;\">\n",
              "\n",
              "  <svg xmlns=\"http://www.w3.org/2000/svg\" height=\"24px\"viewBox=\"0 0 24 24\"\n",
              "       width=\"24px\">\n",
              "    <path d=\"M0 0h24v24H0V0z\" fill=\"none\"/>\n",
              "    <path d=\"M18.56 5.44l.94 2.06.94-2.06 2.06-.94-2.06-.94-.94-2.06-.94 2.06-2.06.94zm-11 1L8.5 8.5l.94-2.06 2.06-.94-2.06-.94L8.5 2.5l-.94 2.06-2.06.94zm10 10l.94 2.06.94-2.06 2.06-.94-2.06-.94-.94-2.06-.94 2.06-2.06.94z\"/><path d=\"M17.41 7.96l-1.37-1.37c-.4-.4-.92-.59-1.43-.59-.52 0-1.04.2-1.43.59L10.3 9.45l-7.72 7.72c-.78.78-.78 2.05 0 2.83L4 21.41c.39.39.9.59 1.41.59.51 0 1.02-.2 1.41-.59l7.78-7.78 2.81-2.81c.8-.78.8-2.07 0-2.86zM5.41 20L4 18.59l7.72-7.72 1.47 1.35L5.41 20z\"/>\n",
              "  </svg>\n",
              "      </button>\n",
              "\n",
              "\n",
              "\n",
              "    <div id=\"df-c6da685b-869e-46b8-ba5e-dc0693037fa2\">\n",
              "      <button class=\"colab-df-quickchart\" onclick=\"quickchart('df-c6da685b-869e-46b8-ba5e-dc0693037fa2')\"\n",
              "              title=\"Suggest charts.\"\n",
              "              style=\"display:none;\">\n",
              "\n",
              "<svg xmlns=\"http://www.w3.org/2000/svg\" height=\"24px\"viewBox=\"0 0 24 24\"\n",
              "     width=\"24px\">\n",
              "    <g>\n",
              "        <path d=\"M19 3H5c-1.1 0-2 .9-2 2v14c0 1.1.9 2 2 2h14c1.1 0 2-.9 2-2V5c0-1.1-.9-2-2-2zM9 17H7v-7h2v7zm4 0h-2V7h2v10zm4 0h-2v-4h2v4z\"/>\n",
              "    </g>\n",
              "</svg>\n",
              "      </button>\n",
              "    </div>\n",
              "\n",
              "<style>\n",
              "  .colab-df-quickchart {\n",
              "    background-color: #E8F0FE;\n",
              "    border: none;\n",
              "    border-radius: 50%;\n",
              "    cursor: pointer;\n",
              "    display: none;\n",
              "    fill: #1967D2;\n",
              "    height: 32px;\n",
              "    padding: 0 0 0 0;\n",
              "    width: 32px;\n",
              "  }\n",
              "\n",
              "  .colab-df-quickchart:hover {\n",
              "    background-color: #E2EBFA;\n",
              "    box-shadow: 0px 1px 2px rgba(60, 64, 67, 0.3), 0px 1px 3px 1px rgba(60, 64, 67, 0.15);\n",
              "    fill: #174EA6;\n",
              "  }\n",
              "\n",
              "  [theme=dark] .colab-df-quickchart {\n",
              "    background-color: #3B4455;\n",
              "    fill: #D2E3FC;\n",
              "  }\n",
              "\n",
              "  [theme=dark] .colab-df-quickchart:hover {\n",
              "    background-color: #434B5C;\n",
              "    box-shadow: 0px 1px 3px 1px rgba(0, 0, 0, 0.15);\n",
              "    filter: drop-shadow(0px 1px 2px rgba(0, 0, 0, 0.3));\n",
              "    fill: #FFFFFF;\n",
              "  }\n",
              "</style>\n",
              "\n",
              "    <script>\n",
              "      async function quickchart(key) {\n",
              "        const containerElement = document.querySelector('#' + key);\n",
              "        const charts = await google.colab.kernel.invokeFunction(\n",
              "            'suggestCharts', [key], {});\n",
              "      }\n",
              "    </script>\n",
              "\n",
              "      <script>\n",
              "\n",
              "function displayQuickchartButton(domScope) {\n",
              "  let quickchartButtonEl =\n",
              "    domScope.querySelector('#df-c6da685b-869e-46b8-ba5e-dc0693037fa2 button.colab-df-quickchart');\n",
              "  quickchartButtonEl.style.display =\n",
              "    google.colab.kernel.accessAllowed ? 'block' : 'none';\n",
              "}\n",
              "\n",
              "        displayQuickchartButton(document);\n",
              "      </script>\n",
              "      <style>\n",
              "    .colab-df-container {\n",
              "      display:flex;\n",
              "      flex-wrap:wrap;\n",
              "      gap: 12px;\n",
              "    }\n",
              "\n",
              "    .colab-df-convert {\n",
              "      background-color: #E8F0FE;\n",
              "      border: none;\n",
              "      border-radius: 50%;\n",
              "      cursor: pointer;\n",
              "      display: none;\n",
              "      fill: #1967D2;\n",
              "      height: 32px;\n",
              "      padding: 0 0 0 0;\n",
              "      width: 32px;\n",
              "    }\n",
              "\n",
              "    .colab-df-convert:hover {\n",
              "      background-color: #E2EBFA;\n",
              "      box-shadow: 0px 1px 2px rgba(60, 64, 67, 0.3), 0px 1px 3px 1px rgba(60, 64, 67, 0.15);\n",
              "      fill: #174EA6;\n",
              "    }\n",
              "\n",
              "    [theme=dark] .colab-df-convert {\n",
              "      background-color: #3B4455;\n",
              "      fill: #D2E3FC;\n",
              "    }\n",
              "\n",
              "    [theme=dark] .colab-df-convert:hover {\n",
              "      background-color: #434B5C;\n",
              "      box-shadow: 0px 1px 3px 1px rgba(0, 0, 0, 0.15);\n",
              "      filter: drop-shadow(0px 1px 2px rgba(0, 0, 0, 0.3));\n",
              "      fill: #FFFFFF;\n",
              "    }\n",
              "  </style>\n",
              "\n",
              "      <script>\n",
              "        const buttonEl =\n",
              "          document.querySelector('#df-7825746b-702f-43e4-a07a-70626b7b1fe9 button.colab-df-convert');\n",
              "        buttonEl.style.display =\n",
              "          google.colab.kernel.accessAllowed ? 'block' : 'none';\n",
              "\n",
              "        async function convertToInteractive(key) {\n",
              "          const element = document.querySelector('#df-7825746b-702f-43e4-a07a-70626b7b1fe9');\n",
              "          const dataTable =\n",
              "            await google.colab.kernel.invokeFunction('convertToInteractive',\n",
              "                                                     [key], {});\n",
              "          if (!dataTable) return;\n",
              "\n",
              "          const docLinkHtml = 'Like what you see? Visit the ' +\n",
              "            '<a target=\"_blank\" href=https://colab.research.google.com/notebooks/data_table.ipynb>data table notebook</a>'\n",
              "            + ' to learn more about interactive tables.';\n",
              "          element.innerHTML = '';\n",
              "          dataTable['output_type'] = 'display_data';\n",
              "          await google.colab.output.renderOutput(dataTable, element);\n",
              "          const docLink = document.createElement('div');\n",
              "          docLink.innerHTML = docLinkHtml;\n",
              "          element.appendChild(docLink);\n",
              "        }\n",
              "      </script>\n",
              "    </div>\n",
              "  </div>\n"
            ]
          },
          "metadata": {},
          "execution_count": 14
        }
      ],
      "source": [
        "df2"
      ]
    },
    {
      "cell_type": "code",
      "execution_count": 15,
      "id": "4c9b93bc",
      "metadata": {
        "colab": {
          "base_uri": "https://localhost:8080/"
        },
        "id": "4c9b93bc",
        "outputId": "d68dc7e6-e83b-482e-93c7-fcfdebdba0ed"
      },
      "outputs": [
        {
          "output_type": "stream",
          "name": "stderr",
          "text": [
            "<ipython-input-15-c1aa3b48cd90>:1: SettingWithCopyWarning: \n",
            "A value is trying to be set on a copy of a slice from a DataFrame.\n",
            "Try using .loc[row_indexer,col_indexer] = value instead\n",
            "\n",
            "See the caveats in the documentation: https://pandas.pydata.org/pandas-docs/stable/user_guide/indexing.html#returning-a-view-versus-a-copy\n",
            "  df2['title_cleaned']=df2['TITLE'].apply(cleaning_text)\n"
          ]
        }
      ],
      "source": [
        "df2['title_cleaned']=df2['TITLE'].apply(cleaning_text)"
      ]
    },
    {
      "cell_type": "code",
      "execution_count": 16,
      "id": "b0584319",
      "metadata": {
        "colab": {
          "base_uri": "https://localhost:8080/",
          "height": 206
        },
        "id": "b0584319",
        "outputId": "810e5b12-61fa-4f4f-b375-74494241c3a6"
      },
      "outputs": [
        {
          "output_type": "execute_result",
          "data": {
            "text/plain": [
              "                                               TITLE CATEGORY  \\\n",
              "0  Fed official says weak data caused by weather,...        b   \n",
              "1  Fed's Charles Plosser sees high bar for change...        b   \n",
              "2  US open: Stocks fall after Fed official hints ...        b   \n",
              "3  Fed risks falling 'behind the curve', Charles ...        b   \n",
              "4  Fed's Plosser: Nasty Weather Has Curbed Job Gr...        b   \n",
              "\n",
              "                                       title_cleaned  \n",
              "0   fed offici say weak data caus weather slow taper  \n",
              "1  fed 's charl plosser see high bar chang pace t...  \n",
              "2   us open stock fall fed offici hint acceler taper  \n",
              "3       fed risk fall 'behind curv charl plosser say  \n",
              "4       fed 's plosser nasti weather curb job growth  "
            ],
            "text/html": [
              "\n",
              "\n",
              "  <div id=\"df-d3d7a00e-7ebc-476b-b1b3-72a59fb1eec1\">\n",
              "    <div class=\"colab-df-container\">\n",
              "      <div>\n",
              "<style scoped>\n",
              "    .dataframe tbody tr th:only-of-type {\n",
              "        vertical-align: middle;\n",
              "    }\n",
              "\n",
              "    .dataframe tbody tr th {\n",
              "        vertical-align: top;\n",
              "    }\n",
              "\n",
              "    .dataframe thead th {\n",
              "        text-align: right;\n",
              "    }\n",
              "</style>\n",
              "<table border=\"1\" class=\"dataframe\">\n",
              "  <thead>\n",
              "    <tr style=\"text-align: right;\">\n",
              "      <th></th>\n",
              "      <th>TITLE</th>\n",
              "      <th>CATEGORY</th>\n",
              "      <th>title_cleaned</th>\n",
              "    </tr>\n",
              "  </thead>\n",
              "  <tbody>\n",
              "    <tr>\n",
              "      <th>0</th>\n",
              "      <td>Fed official says weak data caused by weather,...</td>\n",
              "      <td>b</td>\n",
              "      <td>fed offici say weak data caus weather slow taper</td>\n",
              "    </tr>\n",
              "    <tr>\n",
              "      <th>1</th>\n",
              "      <td>Fed's Charles Plosser sees high bar for change...</td>\n",
              "      <td>b</td>\n",
              "      <td>fed 's charl plosser see high bar chang pace t...</td>\n",
              "    </tr>\n",
              "    <tr>\n",
              "      <th>2</th>\n",
              "      <td>US open: Stocks fall after Fed official hints ...</td>\n",
              "      <td>b</td>\n",
              "      <td>us open stock fall fed offici hint acceler taper</td>\n",
              "    </tr>\n",
              "    <tr>\n",
              "      <th>3</th>\n",
              "      <td>Fed risks falling 'behind the curve', Charles ...</td>\n",
              "      <td>b</td>\n",
              "      <td>fed risk fall 'behind curv charl plosser say</td>\n",
              "    </tr>\n",
              "    <tr>\n",
              "      <th>4</th>\n",
              "      <td>Fed's Plosser: Nasty Weather Has Curbed Job Gr...</td>\n",
              "      <td>b</td>\n",
              "      <td>fed 's plosser nasti weather curb job growth</td>\n",
              "    </tr>\n",
              "  </tbody>\n",
              "</table>\n",
              "</div>\n",
              "      <button class=\"colab-df-convert\" onclick=\"convertToInteractive('df-d3d7a00e-7ebc-476b-b1b3-72a59fb1eec1')\"\n",
              "              title=\"Convert this dataframe to an interactive table.\"\n",
              "              style=\"display:none;\">\n",
              "\n",
              "  <svg xmlns=\"http://www.w3.org/2000/svg\" height=\"24px\"viewBox=\"0 0 24 24\"\n",
              "       width=\"24px\">\n",
              "    <path d=\"M0 0h24v24H0V0z\" fill=\"none\"/>\n",
              "    <path d=\"M18.56 5.44l.94 2.06.94-2.06 2.06-.94-2.06-.94-.94-2.06-.94 2.06-2.06.94zm-11 1L8.5 8.5l.94-2.06 2.06-.94-2.06-.94L8.5 2.5l-.94 2.06-2.06.94zm10 10l.94 2.06.94-2.06 2.06-.94-2.06-.94-.94-2.06-.94 2.06-2.06.94z\"/><path d=\"M17.41 7.96l-1.37-1.37c-.4-.4-.92-.59-1.43-.59-.52 0-1.04.2-1.43.59L10.3 9.45l-7.72 7.72c-.78.78-.78 2.05 0 2.83L4 21.41c.39.39.9.59 1.41.59.51 0 1.02-.2 1.41-.59l7.78-7.78 2.81-2.81c.8-.78.8-2.07 0-2.86zM5.41 20L4 18.59l7.72-7.72 1.47 1.35L5.41 20z\"/>\n",
              "  </svg>\n",
              "      </button>\n",
              "\n",
              "\n",
              "\n",
              "    <div id=\"df-13112cc6-a91f-4ac4-8937-997430266378\">\n",
              "      <button class=\"colab-df-quickchart\" onclick=\"quickchart('df-13112cc6-a91f-4ac4-8937-997430266378')\"\n",
              "              title=\"Suggest charts.\"\n",
              "              style=\"display:none;\">\n",
              "\n",
              "<svg xmlns=\"http://www.w3.org/2000/svg\" height=\"24px\"viewBox=\"0 0 24 24\"\n",
              "     width=\"24px\">\n",
              "    <g>\n",
              "        <path d=\"M19 3H5c-1.1 0-2 .9-2 2v14c0 1.1.9 2 2 2h14c1.1 0 2-.9 2-2V5c0-1.1-.9-2-2-2zM9 17H7v-7h2v7zm4 0h-2V7h2v10zm4 0h-2v-4h2v4z\"/>\n",
              "    </g>\n",
              "</svg>\n",
              "      </button>\n",
              "    </div>\n",
              "\n",
              "<style>\n",
              "  .colab-df-quickchart {\n",
              "    background-color: #E8F0FE;\n",
              "    border: none;\n",
              "    border-radius: 50%;\n",
              "    cursor: pointer;\n",
              "    display: none;\n",
              "    fill: #1967D2;\n",
              "    height: 32px;\n",
              "    padding: 0 0 0 0;\n",
              "    width: 32px;\n",
              "  }\n",
              "\n",
              "  .colab-df-quickchart:hover {\n",
              "    background-color: #E2EBFA;\n",
              "    box-shadow: 0px 1px 2px rgba(60, 64, 67, 0.3), 0px 1px 3px 1px rgba(60, 64, 67, 0.15);\n",
              "    fill: #174EA6;\n",
              "  }\n",
              "\n",
              "  [theme=dark] .colab-df-quickchart {\n",
              "    background-color: #3B4455;\n",
              "    fill: #D2E3FC;\n",
              "  }\n",
              "\n",
              "  [theme=dark] .colab-df-quickchart:hover {\n",
              "    background-color: #434B5C;\n",
              "    box-shadow: 0px 1px 3px 1px rgba(0, 0, 0, 0.15);\n",
              "    filter: drop-shadow(0px 1px 2px rgba(0, 0, 0, 0.3));\n",
              "    fill: #FFFFFF;\n",
              "  }\n",
              "</style>\n",
              "\n",
              "    <script>\n",
              "      async function quickchart(key) {\n",
              "        const containerElement = document.querySelector('#' + key);\n",
              "        const charts = await google.colab.kernel.invokeFunction(\n",
              "            'suggestCharts', [key], {});\n",
              "      }\n",
              "    </script>\n",
              "\n",
              "      <script>\n",
              "\n",
              "function displayQuickchartButton(domScope) {\n",
              "  let quickchartButtonEl =\n",
              "    domScope.querySelector('#df-13112cc6-a91f-4ac4-8937-997430266378 button.colab-df-quickchart');\n",
              "  quickchartButtonEl.style.display =\n",
              "    google.colab.kernel.accessAllowed ? 'block' : 'none';\n",
              "}\n",
              "\n",
              "        displayQuickchartButton(document);\n",
              "      </script>\n",
              "      <style>\n",
              "    .colab-df-container {\n",
              "      display:flex;\n",
              "      flex-wrap:wrap;\n",
              "      gap: 12px;\n",
              "    }\n",
              "\n",
              "    .colab-df-convert {\n",
              "      background-color: #E8F0FE;\n",
              "      border: none;\n",
              "      border-radius: 50%;\n",
              "      cursor: pointer;\n",
              "      display: none;\n",
              "      fill: #1967D2;\n",
              "      height: 32px;\n",
              "      padding: 0 0 0 0;\n",
              "      width: 32px;\n",
              "    }\n",
              "\n",
              "    .colab-df-convert:hover {\n",
              "      background-color: #E2EBFA;\n",
              "      box-shadow: 0px 1px 2px rgba(60, 64, 67, 0.3), 0px 1px 3px 1px rgba(60, 64, 67, 0.15);\n",
              "      fill: #174EA6;\n",
              "    }\n",
              "\n",
              "    [theme=dark] .colab-df-convert {\n",
              "      background-color: #3B4455;\n",
              "      fill: #D2E3FC;\n",
              "    }\n",
              "\n",
              "    [theme=dark] .colab-df-convert:hover {\n",
              "      background-color: #434B5C;\n",
              "      box-shadow: 0px 1px 3px 1px rgba(0, 0, 0, 0.15);\n",
              "      filter: drop-shadow(0px 1px 2px rgba(0, 0, 0, 0.3));\n",
              "      fill: #FFFFFF;\n",
              "    }\n",
              "  </style>\n",
              "\n",
              "      <script>\n",
              "        const buttonEl =\n",
              "          document.querySelector('#df-d3d7a00e-7ebc-476b-b1b3-72a59fb1eec1 button.colab-df-convert');\n",
              "        buttonEl.style.display =\n",
              "          google.colab.kernel.accessAllowed ? 'block' : 'none';\n",
              "\n",
              "        async function convertToInteractive(key) {\n",
              "          const element = document.querySelector('#df-d3d7a00e-7ebc-476b-b1b3-72a59fb1eec1');\n",
              "          const dataTable =\n",
              "            await google.colab.kernel.invokeFunction('convertToInteractive',\n",
              "                                                     [key], {});\n",
              "          if (!dataTable) return;\n",
              "\n",
              "          const docLinkHtml = 'Like what you see? Visit the ' +\n",
              "            '<a target=\"_blank\" href=https://colab.research.google.com/notebooks/data_table.ipynb>data table notebook</a>'\n",
              "            + ' to learn more about interactive tables.';\n",
              "          element.innerHTML = '';\n",
              "          dataTable['output_type'] = 'display_data';\n",
              "          await google.colab.output.renderOutput(dataTable, element);\n",
              "          const docLink = document.createElement('div');\n",
              "          docLink.innerHTML = docLinkHtml;\n",
              "          element.appendChild(docLink);\n",
              "        }\n",
              "      </script>\n",
              "    </div>\n",
              "  </div>\n"
            ]
          },
          "metadata": {},
          "execution_count": 16
        }
      ],
      "source": [
        "df2.head()"
      ]
    },
    {
      "cell_type": "code",
      "execution_count": 17,
      "id": "bcd3c1e7",
      "metadata": {
        "colab": {
          "base_uri": "https://localhost:8080/"
        },
        "id": "bcd3c1e7",
        "outputId": "6901be81-fc0b-4b59-e729-e0007126a03b"
      },
      "outputs": [
        {
          "output_type": "execute_result",
          "data": {
            "text/plain": [
              "array(['fed offici say weak data caus weather slow taper',\n",
              "       \"fed 's charl plosser see high bar chang pace taper\",\n",
              "       'us open stock fall fed offici hint acceler taper', ...,\n",
              "       'child swallow batteri reconstruct surgeri cincinnati',\n",
              "       'phoenix boy undergo surgeri repair throat damag wfsb connecticut',\n",
              "       'phoenix boy undergo surgeri repair throat damag cb springfield'],\n",
              "      dtype=object)"
            ]
          },
          "metadata": {},
          "execution_count": 17
        }
      ],
      "source": [
        "df2['title_cleaned'].values"
      ]
    },
    {
      "cell_type": "code",
      "execution_count": 18,
      "id": "6e33ec18",
      "metadata": {
        "id": "6e33ec18"
      },
      "outputs": [],
      "source": [
        "df3=df2.sample(frac=0.5,ignore_index=True)"
      ]
    },
    {
      "cell_type": "code",
      "execution_count": 31,
      "id": "bf27755e",
      "metadata": {
        "id": "bf27755e"
      },
      "outputs": [],
      "source": [
        "from nltk.tag import pos_tag\n",
        "def Convert2Seq(df, max_len=100):\n",
        "    gen_text = df['title_cleaned'].values\n",
        "    gen_text = ' '.join(gen_text.tolist())\n",
        "\n",
        "    n_most_common_words = 8000\n",
        "    max_len = 130\n",
        "    tokenizer = Tokenizer(num_words=n_most_common_words, lower=True)\n",
        "    tokenizer.fit_on_texts(df3['TITLE'].values)\n",
        "    sequences = tokenizer.texts_to_sequences(df['TITLE'].values)\n",
        "    word_index = tokenizer.word_index\n",
        "    print('Found %s unique tokens.' % len(word_index))\n",
        "\n",
        "    X = pad_sequences(sequences, maxlen=max_len)\n",
        "\n",
        "    return X\n"
      ]
    },
    {
      "cell_type": "code",
      "execution_count": 32,
      "id": "ab4ec260",
      "metadata": {
        "colab": {
          "base_uri": "https://localhost:8080/"
        },
        "id": "ab4ec260",
        "outputId": "0c1071cb-806b-4c0b-86ca-79c04799c63b"
      },
      "outputs": [
        {
          "output_type": "stream",
          "name": "stdout",
          "text": [
            "Found 57095 unique tokens.\n"
          ]
        }
      ],
      "source": [
        "X=Convert2Seq(df3)"
      ]
    },
    {
      "cell_type": "code",
      "execution_count": 33,
      "id": "26b9445d",
      "metadata": {
        "colab": {
          "base_uri": "https://localhost:8080/"
        },
        "id": "26b9445d",
        "outputId": "5cc287e3-bf1a-4157-ebfd-350963627c06"
      },
      "outputs": [
        {
          "output_type": "execute_result",
          "data": {
            "text/plain": [
              "array([[   0,    0,    0, ...,   24, 1592, 2622],\n",
              "       [   0,    0,    0, ..., 6956,  408, 4892],\n",
              "       [   0,    0,    0, ...,  468,  423,  459],\n",
              "       ...,\n",
              "       [   0,    0,    0, ..., 2573,  390, 2740],\n",
              "       [   0,    0,    0, ...,   70,   43,  236],\n",
              "       [   0,    0,    0, ...,    9,   13, 1158]], dtype=int32)"
            ]
          },
          "metadata": {},
          "execution_count": 33
        }
      ],
      "source": [
        "X"
      ]
    },
    {
      "cell_type": "markdown",
      "id": "4f46cdab",
      "metadata": {
        "id": "4f46cdab"
      },
      "source": [
        "# SPLIT DATA"
      ]
    },
    {
      "cell_type": "code",
      "execution_count": 34,
      "id": "fd5157d7",
      "metadata": {
        "id": "fd5157d7"
      },
      "outputs": [],
      "source": [
        "from sklearn.model_selection import train_test_split\n"
      ]
    },
    {
      "cell_type": "markdown",
      "id": "d81c4142",
      "metadata": {
        "id": "d81c4142"
      },
      "source": [
        "Convert labels to appropriate format"
      ]
    },
    {
      "cell_type": "code",
      "execution_count": 23,
      "id": "bbba429e",
      "metadata": {
        "id": "bbba429e"
      },
      "outputs": [],
      "source": [
        "from sklearn.preprocessing import LabelEncoder\n",
        "lb=LabelEncoder()\n",
        "lables=to_categorical(lb.fit_transform(df3['CATEGORY'].values))\n"
      ]
    },
    {
      "cell_type": "code",
      "execution_count": 24,
      "id": "06f294a1",
      "metadata": {
        "colab": {
          "base_uri": "https://localhost:8080/"
        },
        "id": "06f294a1",
        "outputId": "debd7175-c09c-4a15-fe47-aec22bed5c73"
      },
      "outputs": [
        {
          "output_type": "execute_result",
          "data": {
            "text/plain": [
              "array(['t', 'e', 'b', 'm'], dtype=object)"
            ]
          },
          "metadata": {},
          "execution_count": 24
        }
      ],
      "source": [
        "df3['CATEGORY'].unique()"
      ]
    },
    {
      "cell_type": "code",
      "execution_count": 25,
      "id": "6e030db6",
      "metadata": {
        "id": "6e030db6"
      },
      "outputs": [],
      "source": [
        "X_train,X_test,y_train,y_test=train_test_split(X,lables,test_size=0.2,random_state=42)\n"
      ]
    },
    {
      "cell_type": "markdown",
      "id": "2b5d2ff1",
      "metadata": {
        "id": "2b5d2ff1"
      },
      "source": [
        "# BUILD AND FIT NEURAL NETWORK"
      ]
    },
    {
      "cell_type": "markdown",
      "id": "dcff1cce",
      "metadata": {
        "id": "dcff1cce"
      },
      "source": [
        "## GRU"
      ]
    },
    {
      "cell_type": "code",
      "execution_count": 26,
      "id": "ee91a51d",
      "metadata": {
        "id": "ee91a51d"
      },
      "outputs": [],
      "source": [
        "from tensorflow.keras.models import Sequential\n",
        "from tensorflow.keras.callbacks import ModelCheckpoint\n",
        "from tensorflow.keras.layers import Dense, GRU, Embedding, SpatialDropout1D"
      ]
    },
    {
      "cell_type": "code",
      "execution_count": 27,
      "id": "4a5bca3e",
      "metadata": {
        "colab": {
          "base_uri": "https://localhost:8080/"
        },
        "id": "4a5bca3e",
        "outputId": "3afc2562-629a-4f7d-c77e-9d1903177bf7"
      },
      "outputs": [
        {
          "output_type": "execute_result",
          "data": {
            "text/plain": [
              "(130,)"
            ]
          },
          "metadata": {},
          "execution_count": 27
        }
      ],
      "source": [
        "X_train[0].shape"
      ]
    },
    {
      "cell_type": "code",
      "execution_count": 28,
      "id": "5a0b2aa8",
      "metadata": {
        "id": "5a0b2aa8"
      },
      "outputs": [],
      "source": [
        "# Define the filepath to save the best model\n",
        "filepath = 'best_model.h5'\n",
        "\n",
        "# Create the ModelCheckpoint callback\n",
        "checkpoint = ModelCheckpoint(filepath, monitor='val_accuracy', save_best_only=True, mode='max', verbose=1)\n"
      ]
    },
    {
      "cell_type": "code",
      "execution_count": 35,
      "id": "25caac41",
      "metadata": {
        "id": "25caac41"
      },
      "outputs": [],
      "source": [
        "epochs = 10\n",
        "emb_dim = 128\n",
        "batch_size = 256\n"
      ]
    },
    {
      "cell_type": "code",
      "execution_count": 36,
      "id": "20088c1b",
      "metadata": {
        "id": "20088c1b"
      },
      "outputs": [],
      "source": [
        "model=Sequential()\n",
        "model.add(Embedding(8000, emb_dim, input_length=X.shape[1]))\n",
        "model.add(SpatialDropout1D(0.7))\n",
        "model.add(GRU(128,return_sequences=True))\n",
        "model.add(GRU(128))\n",
        "model.add(Dense(4,activation='softmax'))\n",
        "model.compile(loss='categorical_crossentropy',optimizer='adam',metrics=['accuracy'])\n"
      ]
    },
    {
      "cell_type": "code",
      "execution_count": null,
      "id": "dce26567",
      "metadata": {
        "colab": {
          "base_uri": "https://localhost:8080/"
        },
        "id": "dce26567",
        "outputId": "3b61e8c9-bcdc-43e0-d936-be5b2243b12f"
      },
      "outputs": [
        {
          "name": "stdout",
          "output_type": "stream",
          "text": [
            "Model: \"sequential_5\"\n",
            "_________________________________________________________________\n",
            " Layer (type)                Output Shape              Param #   \n",
            "=================================================================\n",
            " embedding_4 (Embedding)     (None, 130, 128)          1024000   \n",
            "                                                                 \n",
            " spatial_dropout1d_4 (Spatia  (None, 130, 128)         0         \n",
            " lDropout1D)                                                     \n",
            "                                                                 \n",
            " gru_6 (GRU)                 (None, 130, 128)          99072     \n",
            "                                                                 \n",
            " gru_7 (GRU)                 (None, 128)               99072     \n",
            "                                                                 \n",
            " dense_4 (Dense)             (None, 4)                 516       \n",
            "                                                                 \n",
            "=================================================================\n",
            "Total params: 1,222,660\n",
            "Trainable params: 1,222,660\n",
            "Non-trainable params: 0\n",
            "_________________________________________________________________\n"
          ]
        }
      ],
      "source": [
        "model.summary()"
      ]
    },
    {
      "cell_type": "code",
      "execution_count": null,
      "id": "bdeff25a",
      "metadata": {
        "colab": {
          "base_uri": "https://localhost:8080/"
        },
        "id": "bdeff25a",
        "outputId": "f8ba1305-6dca-4bb1-d1da-703f2aaefd29"
      },
      "outputs": [
        {
          "name": "stdout",
          "output_type": "stream",
          "text": [
            "Epoch 1/10\n",
            "4951/4951 [==============================] - ETA: 0s - loss: 0.3246 - accuracy: 0.8836\n",
            "Epoch 1: val_accuracy improved from -inf to 0.92158, saving model to best_model.h5\n",
            "4951/4951 [==============================] - 804s 162ms/step - loss: 0.3246 - accuracy: 0.8836 - val_loss: 0.2235 - val_accuracy: 0.9216\n",
            "Epoch 2/10\n",
            "4951/4951 [==============================] - ETA: 0s - loss: 0.2157 - accuracy: 0.9243\n",
            "Epoch 2: val_accuracy improved from 0.92158 to 0.92743, saving model to best_model.h5\n",
            "4951/4951 [==============================] - 820s 166ms/step - loss: 0.2157 - accuracy: 0.9243 - val_loss: 0.2067 - val_accuracy: 0.9274\n",
            "Epoch 3/10\n",
            "4951/4951 [==============================] - ETA: 0s - loss: 0.1925 - accuracy: 0.9321\n",
            "Epoch 3: val_accuracy improved from 0.92743 to 0.92974, saving model to best_model.h5\n",
            "4951/4951 [==============================] - 831s 168ms/step - loss: 0.1925 - accuracy: 0.9321 - val_loss: 0.2039 - val_accuracy: 0.9297\n",
            "Epoch 4/10\n",
            "4951/4951 [==============================] - ETA: 0s - loss: 0.1793 - accuracy: 0.9369\n",
            "Epoch 4: val_accuracy improved from 0.92974 to 0.93091, saving model to best_model.h5\n",
            "4951/4951 [==============================] - 828s 167ms/step - loss: 0.1793 - accuracy: 0.9369 - val_loss: 0.1995 - val_accuracy: 0.9309\n",
            "Epoch 5/10\n",
            "4951/4951 [==============================] - ETA: 0s - loss: 0.1699 - accuracy: 0.9409\n",
            "Epoch 5: val_accuracy improved from 0.93091 to 0.93163, saving model to best_model.h5\n",
            "4951/4951 [==============================] - 852s 172ms/step - loss: 0.1699 - accuracy: 0.9409 - val_loss: 0.2007 - val_accuracy: 0.9316\n",
            "Epoch 6/10\n",
            "4951/4951 [==============================] - ETA: 0s - loss: 0.1625 - accuracy: 0.9427\n",
            "Epoch 6: val_accuracy improved from 0.93163 to 0.93180, saving model to best_model.h5\n",
            "4951/4951 [==============================] - 834s 168ms/step - loss: 0.1625 - accuracy: 0.9427 - val_loss: 0.1997 - val_accuracy: 0.9318\n",
            "Epoch 7/10\n",
            "4951/4951 [==============================] - ETA: 0s - loss: 0.1556 - accuracy: 0.9453\n",
            "Epoch 7: val_accuracy improved from 0.93180 to 0.93195, saving model to best_model.h5\n",
            "4951/4951 [==============================] - 864s 175ms/step - loss: 0.1556 - accuracy: 0.9453 - val_loss: 0.1966 - val_accuracy: 0.9320\n",
            "Epoch 8/10\n",
            "4951/4951 [==============================] - ETA: 0s - loss: 0.1489 - accuracy: 0.9472\n",
            "Epoch 8: val_accuracy improved from 0.93195 to 0.93375, saving model to best_model.h5\n",
            "4951/4951 [==============================] - 852s 172ms/step - loss: 0.1489 - accuracy: 0.9472 - val_loss: 0.1988 - val_accuracy: 0.9338\n",
            "Epoch 9/10\n",
            "4951/4951 [==============================] - ETA: 0s - loss: 0.1443 - accuracy: 0.9486\n",
            "Epoch 9: val_accuracy did not improve from 0.93375\n",
            "4951/4951 [==============================] - 875s 177ms/step - loss: 0.1443 - accuracy: 0.9486 - val_loss: 0.2049 - val_accuracy: 0.9328\n",
            "Epoch 10/10\n",
            "4951/4951 [==============================] - ETA: 0s - loss: 0.1399 - accuracy: 0.9505\n",
            "Epoch 10: val_accuracy did not improve from 0.93375\n",
            "4951/4951 [==============================] - 864s 175ms/step - loss: 0.1399 - accuracy: 0.9505 - val_loss: 0.2088 - val_accuracy: 0.9331\n"
          ]
        }
      ],
      "source": [
        "history = model.fit(X_train, y_train, epochs=10, validation_data=(X_test, y_test), callbacks=[checkpoint])\n"
      ]
    },
    {
      "cell_type": "code",
      "execution_count": null,
      "id": "31344cc4",
      "metadata": {
        "colab": {
          "base_uri": "https://localhost:8080/",
          "height": 927
        },
        "id": "31344cc4",
        "outputId": "e75ec998-a0f9-44c5-baae-30fd142ed8e5"
      },
      "outputs": [
        {
          "data": {
            "image/png": "[encoded data removed]",
            "text/plain": [
              "<Figure size 640x480 with 1 Axes>"
            ]
          },
          "metadata": {},
          "output_type": "display_data"
        },
        {
          "data": {
            "image/png": "[encoded data removed]",
            "text/plain": [
              "<Figure size 640x480 with 1 Axes>"
            ]
          },
          "metadata": {},
          "output_type": "display_data"
        }
      ],
      "source": [
        "# Access the training history\n",
        "accuracy = history.history['accuracy']\n",
        "val_accuracy = history.history['val_accuracy']\n",
        "loss = history.history['loss']\n",
        "val_loss = history.history['val_loss']\n",
        "\n",
        "# Plot accuracy\n",
        "plt.plot(range(1, len(accuracy) + 1), accuracy, label='Training Accuracy')\n",
        "plt.plot(range(1, len(val_accuracy) + 1), val_accuracy, label='Validation Accuracy')\n",
        "plt.title('Training and Test Accuracy')\n",
        "plt.xlabel('Epochs')\n",
        "plt.ylabel('Accuracy')\n",
        "plt.legend()\n",
        "plt.show()\n",
        "\n",
        "# Plot loss\n",
        "plt.plot(range(1, len(loss) + 1), loss, label='Training Loss')\n",
        "plt.plot(range(1, len(val_loss) + 1), val_loss, label='Validation Loss')\n",
        "plt.title('Training and Test Loss')\n",
        "plt.xlabel('Epochs')\n",
        "plt.ylabel('Loss')\n",
        "plt.legend()\n",
        "plt.show()\n"
      ]
    },
    {
      "cell_type": "markdown",
      "id": "10b80d66",
      "metadata": {
        "id": "10b80d66"
      },
      "source": [
        "## CNN"
      ]
    },
    {
      "cell_type": "code",
      "execution_count": 26,
      "id": "404b26cd",
      "metadata": {
        "id": "404b26cd"
      },
      "outputs": [],
      "source": [
        "from tensorflow.keras.models import Sequential\n",
        "from tensorflow.keras.callbacks import ModelCheckpoint\n",
        "from tensorflow.keras.layers import Embedding, SpatialDropout1D,Flatten\n",
        "from keras.layers import Conv1D, MaxPooling1D, GlobalMaxPooling1D, Dense"
      ]
    },
    {
      "cell_type": "code",
      "execution_count": 27,
      "id": "ed734ad0",
      "metadata": {
        "colab": {
          "base_uri": "https://localhost:8080/"
        },
        "id": "ed734ad0",
        "outputId": "00d01ae7-f9fb-47aa-c47d-e13cd697c592"
      },
      "outputs": [
        {
          "output_type": "execute_result",
          "data": {
            "text/plain": [
              "(130,)"
            ]
          },
          "metadata": {},
          "execution_count": 27
        }
      ],
      "source": [
        "X_train[0].shape"
      ]
    },
    {
      "cell_type": "code",
      "execution_count": 38,
      "id": "e0b4da1e",
      "metadata": {
        "id": "e0b4da1e"
      },
      "outputs": [],
      "source": [
        "# Define the filepath to save the best model\n",
        "filepath = 'best_CNN_model.h5'\n",
        "\n",
        "# Create the ModelCheckpoint callback\n",
        "checkpoint = ModelCheckpoint(filepath, monitor='val_accuracy', save_best_only=True, mode='max', verbose=1)\n"
      ]
    },
    {
      "cell_type": "code",
      "execution_count": 29,
      "id": "384817d0",
      "metadata": {
        "id": "384817d0"
      },
      "outputs": [],
      "source": [
        "epochs = 10\n",
        "emb_dim = 128\n",
        "batch_size = 256\n",
        "n_most_common_words = 8000"
      ]
    },
    {
      "cell_type": "code",
      "execution_count": 36,
      "id": "16d405d1",
      "metadata": {
        "id": "16d405d1"
      },
      "outputs": [],
      "source": [
        "model = Sequential()\n",
        "model.add(Embedding(n_most_common_words, emb_dim, input_length=X.shape[1]))\n",
        "model.add(Conv1D(32, 3, padding='same', activation='relu'))\n",
        "model.add(MaxPooling1D())\n",
        "model.add(Flatten())\n",
        "model.add(Dense(250, activation='relu'))\n",
        "model.add(Dense(4, activation='softmax'))\n",
        "model.compile(loss='categorical_crossentropy', optimizer='adam', metrics=['accuracy'])\n"
      ]
    },
    {
      "cell_type": "code",
      "execution_count": 31,
      "id": "d1ed1b70",
      "metadata": {
        "colab": {
          "base_uri": "https://localhost:8080/"
        },
        "id": "d1ed1b70",
        "outputId": "fac95053-a66a-433c-93df-ba726f579c0b"
      },
      "outputs": [
        {
          "output_type": "stream",
          "name": "stdout",
          "text": [
            "Model: \"sequential\"\n",
            "_________________________________________________________________\n",
            " Layer (type)                Output Shape              Param #   \n",
            "=================================================================\n",
            " embedding (Embedding)       (None, 130, 128)          1024000   \n",
            "                                                                 \n",
            " conv1d (Conv1D)             (None, 130, 32)           12320     \n",
            "                                                                 \n",
            " max_pooling1d (MaxPooling1D  (None, 65, 32)           0         \n",
            " )                                                               \n",
            "                                                                 \n",
            " flatten (Flatten)           (None, 2080)              0         \n",
            "                                                                 \n",
            " dense (Dense)               (None, 250)               520250    \n",
            "                                                                 \n",
            " dense_1 (Dense)             (None, 4)                 1004      \n",
            "                                                                 \n",
            "=================================================================\n",
            "Total params: 1,557,574\n",
            "Trainable params: 1,557,574\n",
            "Non-trainable params: 0\n",
            "_________________________________________________________________\n"
          ]
        }
      ],
      "source": [
        "model.summary()"
      ]
    },
    {
      "cell_type": "code",
      "execution_count": null,
      "id": "c527bd4f",
      "metadata": {
        "colab": {
          "base_uri": "https://localhost:8080/"
        },
        "id": "c527bd4f",
        "outputId": "a5c2ba84-423d-4649-987e-f6aae7f1b1b5"
      },
      "outputs": [
        {
          "name": "stdout",
          "output_type": "stream",
          "text": [
            "Epoch 1/10\n",
            "5281/5281 [==============================] - ETA: 0s - loss: 0.2771 - accuracy: 0.8985\n",
            "Epoch 1: val_accuracy improved from -inf to 0.92538, saving model to best_CNN_model.h5\n",
            "5281/5281 [==============================] - 52s 7ms/step - loss: 0.2771 - accuracy: 0.8985 - val_loss: 0.2092 - val_accuracy: 0.9254\n",
            "Epoch 2/10\n",
            "5281/5281 [==============================] - ETA: 0s - loss: 0.1671 - accuracy: 0.9401\n",
            "Epoch 2: val_accuracy improved from 0.92538 to 0.93019, saving model to best_CNN_model.h5\n",
            "5281/5281 [==============================] - 23s 4ms/step - loss: 0.1671 - accuracy: 0.9401 - val_loss: 0.2019 - val_accuracy: 0.9302\n",
            "Epoch 3/10\n",
            "5281/5281 [==============================] - ETA: 0s - loss: 0.1180 - accuracy: 0.9566\n",
            "Epoch 3: val_accuracy did not improve from 0.93019\n",
            "5281/5281 [==============================] - 22s 4ms/step - loss: 0.1180 - accuracy: 0.9566 - val_loss: 0.2225 - val_accuracy: 0.9300\n",
            "Epoch 4/10\n",
            "5281/5281 [==============================] - ETA: 0s - loss: 0.0784 - accuracy: 0.9706\n",
            "Epoch 4: val_accuracy did not improve from 0.93019\n",
            "5281/5281 [==============================] - 23s 4ms/step - loss: 0.0784 - accuracy: 0.9706 - val_loss: 0.2814 - val_accuracy: 0.9233\n",
            "Epoch 5/10\n",
            "5281/5281 [==============================] - ETA: 0s - loss: 0.0540 - accuracy: 0.9797\n",
            "Epoch 5: val_accuracy did not improve from 0.93019\n",
            "5281/5281 [==============================] - 22s 4ms/step - loss: 0.0540 - accuracy: 0.9797 - val_loss: 0.3225 - val_accuracy: 0.9238\n",
            "Epoch 6/10\n",
            "5281/5281 [==============================] - ETA: 0s - loss: 0.0397 - accuracy: 0.9853\n",
            "Epoch 6: val_accuracy did not improve from 0.93019\n",
            "5281/5281 [==============================] - 22s 4ms/step - loss: 0.0397 - accuracy: 0.9853 - val_loss: 0.4145 - val_accuracy: 0.9233\n",
            "Epoch 7/10\n",
            "5281/5281 [==============================] - ETA: 0s - loss: 0.0320 - accuracy: 0.9882\n",
            "Epoch 7: val_accuracy did not improve from 0.93019\n",
            "5281/5281 [==============================] - 22s 4ms/step - loss: 0.0320 - accuracy: 0.9882 - val_loss: 0.4375 - val_accuracy: 0.9189\n",
            "Epoch 8/10\n",
            "5281/5281 [==============================] - ETA: 0s - loss: 0.0269 - accuracy: 0.9902\n",
            "Epoch 8: val_accuracy did not improve from 0.93019\n",
            "5281/5281 [==============================] - 22s 4ms/step - loss: 0.0269 - accuracy: 0.9902 - val_loss: 0.4925 - val_accuracy: 0.9198\n",
            "Epoch 9/10\n",
            "5281/5281 [==============================] - ETA: 0s - loss: 0.0234 - accuracy: 0.9916\n",
            "Epoch 9: val_accuracy did not improve from 0.93019\n",
            "5281/5281 [==============================] - 22s 4ms/step - loss: 0.0234 - accuracy: 0.9916 - val_loss: 0.5449 - val_accuracy: 0.9221\n",
            "Epoch 10/10\n",
            "5269/5281 [============================>.] - ETA: 0s - loss: 0.0204 - accuracy: 0.9926\n",
            "Epoch 10: val_accuracy did not improve from 0.93019\n",
            "5281/5281 [==============================] - 21s 4ms/step - loss: 0.0204 - accuracy: 0.9926 - val_loss: 0.5892 - val_accuracy: 0.9213\n"
          ]
        }
      ],
      "source": [
        "history = model.fit(X_train, y_train, epochs=10, validation_data=(X_test, y_test), callbacks=[checkpoint])\n"
      ]
    },
    {
      "cell_type": "code",
      "execution_count": null,
      "id": "ef568eee",
      "metadata": {
        "colab": {
          "base_uri": "https://localhost:8080/",
          "height": 927
        },
        "id": "ef568eee",
        "outputId": "a855006a-a3d4-4318-83f0-25430935aa8e"
      },
      "outputs": [
        {
          "data": {
            "image/png": "[encoded data removed]",
            "text/plain": [
              "<Figure size 640x480 with 1 Axes>"
            ]
          },
          "metadata": {},
          "output_type": "display_data"
        },
        {
          "data": {
            "image/png": "[encoded data removed]",
            "text/plain": [
              "<Figure size 640x480 with 1 Axes>"
            ]
          },
          "metadata": {},
          "output_type": "display_data"
        }
      ],
      "source": [
        "# Access the training history\n",
        "accuracy = history.history['accuracy']\n",
        "val_accuracy = history.history['val_accuracy']\n",
        "loss = history.history['loss']\n",
        "val_loss = history.history['val_loss']\n",
        "\n",
        "# Plot accuracy\n",
        "plt.plot(range(1, len(accuracy) + 1), accuracy, label='Training Accuracy')\n",
        "plt.plot(range(1, len(val_accuracy) + 1), val_accuracy, label='Validation Accuracy')\n",
        "plt.title('Training and Test Accuracy')\n",
        "plt.xlabel('Epochs')\n",
        "plt.ylabel('Accuracy')\n",
        "plt.legend()\n",
        "plt.show()\n",
        "\n",
        "# Plot loss\n",
        "plt.plot(range(1, len(loss) + 1), loss, label='Training Loss')\n",
        "plt.plot(range(1, len(val_loss) + 1), val_loss, label='Validation Loss')\n",
        "plt.title('Training and Test Loss')\n",
        "plt.xlabel('Epochs')\n",
        "plt.ylabel('Loss')\n",
        "plt.legend()\n",
        "plt.show()\n"
      ]
    },
    {
      "cell_type": "markdown",
      "source": [
        "Nadam"
      ],
      "metadata": {
        "id": "RaYkf6yNMvOc"
      },
      "id": "RaYkf6yNMvOc"
    },
    {
      "cell_type": "code",
      "source": [
        "model.compile(loss='categorical_crossentropy', optimizer='nadam', metrics=['accuracy'])\n",
        "history2 = model.fit(X_train, y_train, epochs=10, validation_data=(X_test, y_test), callbacks=[checkpoint])\n"
      ],
      "metadata": {
        "colab": {
          "base_uri": "https://localhost:8080/"
        },
        "id": "v-1j0VNqMwGa",
        "outputId": "204139ed-433f-4f46-c5a8-57af8bddfa38"
      },
      "id": "v-1j0VNqMwGa",
      "execution_count": 32,
      "outputs": [
        {
          "output_type": "stream",
          "name": "stdout",
          "text": [
            "Epoch 1/10\n",
            "5281/5281 [==============================] - ETA: 0s - loss: 0.2808 - accuracy: 0.8977\n",
            "Epoch 1: val_accuracy improved from -inf to 0.92664, saving model to best_CNN_model.h5\n",
            "5281/5281 [==============================] - 58s 9ms/step - loss: 0.2808 - accuracy: 0.8977 - val_loss: 0.2139 - val_accuracy: 0.9266\n",
            "Epoch 2/10\n",
            "5281/5281 [==============================] - ETA: 0s - loss: 0.1668 - accuracy: 0.9397\n",
            "Epoch 2: val_accuracy improved from 0.92664 to 0.92934, saving model to best_CNN_model.h5\n",
            "5281/5281 [==============================] - 26s 5ms/step - loss: 0.1668 - accuracy: 0.9397 - val_loss: 0.2020 - val_accuracy: 0.9293\n",
            "Epoch 3/10\n",
            "5281/5281 [==============================] - ETA: 0s - loss: 0.1170 - accuracy: 0.9571\n",
            "Epoch 3: val_accuracy improved from 0.92934 to 0.92964, saving model to best_CNN_model.h5\n",
            "5281/5281 [==============================] - 25s 5ms/step - loss: 0.1170 - accuracy: 0.9571 - val_loss: 0.2233 - val_accuracy: 0.9296\n",
            "Epoch 4/10\n",
            "5272/5281 [============================>.] - ETA: 0s - loss: 0.0786 - accuracy: 0.9705\n",
            "Epoch 4: val_accuracy did not improve from 0.92964\n",
            "5281/5281 [==============================] - 26s 5ms/step - loss: 0.0787 - accuracy: 0.9705 - val_loss: 0.2676 - val_accuracy: 0.9268\n",
            "Epoch 5/10\n",
            "5281/5281 [==============================] - ETA: 0s - loss: 0.0538 - accuracy: 0.9799\n",
            "Epoch 5: val_accuracy did not improve from 0.92964\n",
            "5281/5281 [==============================] - 25s 5ms/step - loss: 0.0538 - accuracy: 0.9799 - val_loss: 0.3465 - val_accuracy: 0.9239\n",
            "Epoch 6/10\n",
            "5281/5281 [==============================] - ETA: 0s - loss: 0.0398 - accuracy: 0.9851\n",
            "Epoch 6: val_accuracy did not improve from 0.92964\n",
            "5281/5281 [==============================] - 25s 5ms/step - loss: 0.0398 - accuracy: 0.9851 - val_loss: 0.3858 - val_accuracy: 0.9212\n",
            "Epoch 7/10\n",
            "5280/5281 [============================>.] - ETA: 0s - loss: 0.0319 - accuracy: 0.9883\n",
            "Epoch 7: val_accuracy did not improve from 0.92964\n",
            "5281/5281 [==============================] - 25s 5ms/step - loss: 0.0319 - accuracy: 0.9883 - val_loss: 0.4798 - val_accuracy: 0.9219\n",
            "Epoch 8/10\n",
            "5281/5281 [==============================] - ETA: 0s - loss: 0.0267 - accuracy: 0.9901\n",
            "Epoch 8: val_accuracy did not improve from 0.92964\n",
            "5281/5281 [==============================] - 25s 5ms/step - loss: 0.0267 - accuracy: 0.9901 - val_loss: 0.5213 - val_accuracy: 0.9204\n",
            "Epoch 9/10\n",
            "5272/5281 [============================>.] - ETA: 0s - loss: 0.0228 - accuracy: 0.9917\n",
            "Epoch 9: val_accuracy did not improve from 0.92964\n",
            "5281/5281 [==============================] - 25s 5ms/step - loss: 0.0228 - accuracy: 0.9917 - val_loss: 0.5609 - val_accuracy: 0.9168\n",
            "Epoch 10/10\n",
            "5281/5281 [==============================] - ETA: 0s - loss: 0.0213 - accuracy: 0.9923\n",
            "Epoch 10: val_accuracy did not improve from 0.92964\n",
            "5281/5281 [==============================] - 25s 5ms/step - loss: 0.0213 - accuracy: 0.9923 - val_loss: 0.5895 - val_accuracy: 0.9201\n"
          ]
        }
      ]
    },
    {
      "cell_type": "markdown",
      "source": [
        "Adadelta"
      ],
      "metadata": {
        "id": "1VHqmrTCWZbV"
      },
      "id": "1VHqmrTCWZbV"
    },
    {
      "cell_type": "code",
      "source": [
        "model.compile(loss='categorical_crossentropy', optimizer='adadelta', metrics=['accuracy'])\n",
        "history3 = model.fit(X_train, y_train, epochs=10, validation_data=(X_test, y_test), callbacks=[checkpoint])\n"
      ],
      "metadata": {
        "colab": {
          "base_uri": "https://localhost:8080/"
        },
        "id": "ZTJyJdQAWceo",
        "outputId": "f10bdc41-f97b-4750-c5ed-e8732d478acd"
      },
      "id": "ZTJyJdQAWceo",
      "execution_count": 39,
      "outputs": [
        {
          "output_type": "stream",
          "name": "stdout",
          "text": [
            "Epoch 1/10\n",
            "5281/5281 [==============================] - ETA: 0s - loss: 1.3109 - accuracy: 0.3587\n",
            "Epoch 1: val_accuracy improved from -inf to 0.36329, saving model to best_CNN_model.h5\n",
            "5281/5281 [==============================] - 33s 6ms/step - loss: 1.3109 - accuracy: 0.3587 - val_loss: 1.3123 - val_accuracy: 0.3633\n",
            "Epoch 2/10\n",
            "5281/5281 [==============================] - ETA: 0s - loss: 1.3105 - accuracy: 0.3587\n",
            "Epoch 2: val_accuracy did not improve from 0.36329\n",
            "5281/5281 [==============================] - 22s 4ms/step - loss: 1.3105 - accuracy: 0.3587 - val_loss: 1.3118 - val_accuracy: 0.3633\n",
            "Epoch 3/10\n",
            "5281/5281 [==============================] - ETA: 0s - loss: 1.3100 - accuracy: 0.3587\n",
            "Epoch 3: val_accuracy did not improve from 0.36329\n",
            "5281/5281 [==============================] - 21s 4ms/step - loss: 1.3100 - accuracy: 0.3587 - val_loss: 1.3114 - val_accuracy: 0.3633\n",
            "Epoch 4/10\n",
            "5281/5281 [==============================] - ETA: 0s - loss: 1.3094 - accuracy: 0.3587\n",
            "Epoch 4: val_accuracy did not improve from 0.36329\n",
            "5281/5281 [==============================] - 21s 4ms/step - loss: 1.3094 - accuracy: 0.3587 - val_loss: 1.3108 - val_accuracy: 0.3633\n",
            "Epoch 5/10\n",
            "5281/5281 [==============================] - ETA: 0s - loss: 1.3088 - accuracy: 0.3587\n",
            "Epoch 5: val_accuracy did not improve from 0.36329\n",
            "5281/5281 [==============================] - 22s 4ms/step - loss: 1.3088 - accuracy: 0.3587 - val_loss: 1.3101 - val_accuracy: 0.3633\n",
            "Epoch 6/10\n",
            "5281/5281 [==============================] - ETA: 0s - loss: 1.3081 - accuracy: 0.3587\n",
            "Epoch 6: val_accuracy did not improve from 0.36329\n",
            "5281/5281 [==============================] - 21s 4ms/step - loss: 1.3081 - accuracy: 0.3587 - val_loss: 1.3093 - val_accuracy: 0.3633\n",
            "Epoch 7/10\n",
            "5281/5281 [==============================] - ETA: 0s - loss: 1.3073 - accuracy: 0.3587\n",
            "Epoch 7: val_accuracy did not improve from 0.36329\n",
            "5281/5281 [==============================] - 21s 4ms/step - loss: 1.3073 - accuracy: 0.3587 - val_loss: 1.3084 - val_accuracy: 0.3633\n",
            "Epoch 8/10\n",
            "5281/5281 [==============================] - ETA: 0s - loss: 1.3063 - accuracy: 0.3587\n",
            "Epoch 8: val_accuracy did not improve from 0.36329\n",
            "5281/5281 [==============================] - 22s 4ms/step - loss: 1.3063 - accuracy: 0.3587 - val_loss: 1.3073 - val_accuracy: 0.3633\n",
            "Epoch 9/10\n",
            "5281/5281 [==============================] - ETA: 0s - loss: 1.3051 - accuracy: 0.3587\n",
            "Epoch 9: val_accuracy did not improve from 0.36329\n",
            "5281/5281 [==============================] - 21s 4ms/step - loss: 1.3051 - accuracy: 0.3587 - val_loss: 1.3060 - val_accuracy: 0.3633\n",
            "Epoch 10/10\n",
            "5281/5281 [==============================] - ETA: 0s - loss: 1.3036 - accuracy: 0.3587\n",
            "Epoch 10: val_accuracy did not improve from 0.36329\n",
            "5281/5281 [==============================] - 22s 4ms/step - loss: 1.3036 - accuracy: 0.3587 - val_loss: 1.3044 - val_accuracy: 0.3633\n"
          ]
        }
      ]
    },
    {
      "cell_type": "markdown",
      "source": [
        "Adagrad"
      ],
      "metadata": {
        "id": "vIWoExNnYANI"
      },
      "id": "vIWoExNnYANI"
    },
    {
      "cell_type": "code",
      "source": [
        "model.compile(loss='categorical_crossentropy', optimizer='adagrad', metrics=['accuracy'])\n",
        "history3 = model.fit(X_train, y_train, epochs=10, validation_data=(X_test, y_test), callbacks=[checkpoint])\n"
      ],
      "metadata": {
        "colab": {
          "base_uri": "https://localhost:8080/"
        },
        "id": "U6jgjX5XYDaW",
        "outputId": "710adb2f-e9e9-46de-969e-1ec3823f254b"
      },
      "id": "U6jgjX5XYDaW",
      "execution_count": 40,
      "outputs": [
        {
          "output_type": "stream",
          "name": "stdout",
          "text": [
            "Epoch 1/10\n",
            "5281/5281 [==============================] - ETA: 0s - loss: 1.2966 - accuracy: 0.3601\n",
            "Epoch 1: val_accuracy improved from 0.36329 to 0.36393, saving model to best_CNN_model.h5\n",
            "5281/5281 [==============================] - 33s 6ms/step - loss: 1.2966 - accuracy: 0.3601 - val_loss: 1.2891 - val_accuracy: 0.3639\n",
            "Epoch 2/10\n",
            "5281/5281 [==============================] - ETA: 0s - loss: 1.2695 - accuracy: 0.4076\n",
            "Epoch 2: val_accuracy improved from 0.36393 to 0.45450, saving model to best_CNN_model.h5\n",
            "5281/5281 [==============================] - 22s 4ms/step - loss: 1.2695 - accuracy: 0.4076 - val_loss: 1.2447 - val_accuracy: 0.4545\n",
            "Epoch 3/10\n",
            "5281/5281 [==============================] - ETA: 0s - loss: 1.1902 - accuracy: 0.5029\n",
            "Epoch 3: val_accuracy improved from 0.45450 to 0.54342, saving model to best_CNN_model.h5\n",
            "5281/5281 [==============================] - 21s 4ms/step - loss: 1.1902 - accuracy: 0.5029 - val_loss: 1.1221 - val_accuracy: 0.5434\n",
            "Epoch 4/10\n",
            "5281/5281 [==============================] - ETA: 0s - loss: 1.0243 - accuracy: 0.5889\n",
            "Epoch 4: val_accuracy improved from 0.54342 to 0.60866, saving model to best_CNN_model.h5\n",
            "5281/5281 [==============================] - 21s 4ms/step - loss: 1.0243 - accuracy: 0.5889 - val_loss: 0.9394 - val_accuracy: 0.6087\n",
            "Epoch 5/10\n",
            "5281/5281 [==============================] - ETA: 0s - loss: 0.8704 - accuracy: 0.6477\n",
            "Epoch 5: val_accuracy improved from 0.60866 to 0.66637, saving model to best_CNN_model.h5\n",
            "5281/5281 [==============================] - 21s 4ms/step - loss: 0.8704 - accuracy: 0.6477 - val_loss: 0.8197 - val_accuracy: 0.6664\n",
            "Epoch 6/10\n",
            "5281/5281 [==============================] - ETA: 0s - loss: 0.7690 - accuracy: 0.6918\n",
            "Epoch 6: val_accuracy improved from 0.66637 to 0.70354, saving model to best_CNN_model.h5\n",
            "5281/5281 [==============================] - 21s 4ms/step - loss: 0.7690 - accuracy: 0.6918 - val_loss: 0.7286 - val_accuracy: 0.7035\n",
            "Epoch 7/10\n",
            "5276/5281 [============================>.] - ETA: 0s - loss: 0.6776 - accuracy: 0.7350\n",
            "Epoch 7: val_accuracy improved from 0.70354 to 0.75011, saving model to best_CNN_model.h5\n",
            "5281/5281 [==============================] - 21s 4ms/step - loss: 0.6775 - accuracy: 0.7350 - val_loss: 0.6395 - val_accuracy: 0.7501\n",
            "Epoch 8/10\n",
            "5281/5281 [==============================] - ETA: 0s - loss: 0.5925 - accuracy: 0.7727\n",
            "Epoch 8: val_accuracy improved from 0.75011 to 0.78772, saving model to best_CNN_model.h5\n",
            "5281/5281 [==============================] - 21s 4ms/step - loss: 0.5925 - accuracy: 0.7727 - val_loss: 0.5637 - val_accuracy: 0.7877\n",
            "Epoch 9/10\n",
            "5281/5281 [==============================] - ETA: 0s - loss: 0.5259 - accuracy: 0.8050\n",
            "Epoch 9: val_accuracy improved from 0.78772 to 0.81289, saving model to best_CNN_model.h5\n",
            "5281/5281 [==============================] - 21s 4ms/step - loss: 0.5259 - accuracy: 0.8050 - val_loss: 0.5088 - val_accuracy: 0.8129\n",
            "Epoch 10/10\n",
            "5268/5281 [============================>.] - ETA: 0s - loss: 0.4774 - accuracy: 0.8304\n",
            "Epoch 10: val_accuracy improved from 0.81289 to 0.83358, saving model to best_CNN_model.h5\n",
            "5281/5281 [==============================] - 21s 4ms/step - loss: 0.4775 - accuracy: 0.8304 - val_loss: 0.4697 - val_accuracy: 0.8336\n"
          ]
        }
      ]
    },
    {
      "cell_type": "code",
      "source": [
        "history3 = model.fit(X_train, y_train, epochs=10, validation_data=(X_test, y_test), callbacks=[checkpoint])\n"
      ],
      "metadata": {
        "colab": {
          "base_uri": "https://localhost:8080/"
        },
        "id": "PgYpRQBoZF2q",
        "outputId": "4db7aa60-a36c-4404-d7c8-fc65d1432dc2"
      },
      "id": "PgYpRQBoZF2q",
      "execution_count": 41,
      "outputs": [
        {
          "output_type": "stream",
          "name": "stdout",
          "text": [
            "Epoch 1/10\n",
            "5281/5281 [==============================] - ETA: 0s - loss: 0.4414 - accuracy: 0.8484\n",
            "Epoch 1: val_accuracy improved from 0.83358 to 0.85069, saving model to best_CNN_model.h5\n",
            "5281/5281 [==============================] - 22s 4ms/step - loss: 0.4414 - accuracy: 0.8484 - val_loss: 0.4399 - val_accuracy: 0.8507\n",
            "Epoch 2/10\n",
            "5281/5281 [==============================] - ETA: 0s - loss: 0.4131 - accuracy: 0.8616\n",
            "Epoch 2: val_accuracy improved from 0.85069 to 0.85914, saving model to best_CNN_model.h5\n",
            "5281/5281 [==============================] - 21s 4ms/step - loss: 0.4131 - accuracy: 0.8616 - val_loss: 0.4172 - val_accuracy: 0.8591\n",
            "Epoch 3/10\n",
            "5281/5281 [==============================] - ETA: 0s - loss: 0.3901 - accuracy: 0.8716\n",
            "Epoch 3: val_accuracy improved from 0.85914 to 0.86629, saving model to best_CNN_model.h5\n",
            "5281/5281 [==============================] - 21s 4ms/step - loss: 0.3901 - accuracy: 0.8716 - val_loss: 0.3984 - val_accuracy: 0.8663\n",
            "Epoch 4/10\n",
            "5273/5281 [============================>.] - ETA: 0s - loss: 0.3705 - accuracy: 0.8797\n",
            "Epoch 4: val_accuracy improved from 0.86629 to 0.87460, saving model to best_CNN_model.h5\n",
            "5281/5281 [==============================] - 22s 4ms/step - loss: 0.3705 - accuracy: 0.8797 - val_loss: 0.3821 - val_accuracy: 0.8746\n",
            "Epoch 5/10\n",
            "5274/5281 [============================>.] - ETA: 0s - loss: 0.3535 - accuracy: 0.8858\n",
            "Epoch 5: val_accuracy improved from 0.87460 to 0.88017, saving model to best_CNN_model.h5\n",
            "5281/5281 [==============================] - 21s 4ms/step - loss: 0.3536 - accuracy: 0.8858 - val_loss: 0.3682 - val_accuracy: 0.8802\n",
            "Epoch 6/10\n",
            "5281/5281 [==============================] - ETA: 0s - loss: 0.3385 - accuracy: 0.8917\n",
            "Epoch 6: val_accuracy improved from 0.88017 to 0.88469, saving model to best_CNN_model.h5\n",
            "5281/5281 [==============================] - 21s 4ms/step - loss: 0.3385 - accuracy: 0.8917 - val_loss: 0.3557 - val_accuracy: 0.8847\n",
            "Epoch 7/10\n",
            "5281/5281 [==============================] - ETA: 0s - loss: 0.3247 - accuracy: 0.8962\n",
            "Epoch 7: val_accuracy improved from 0.88469 to 0.88923, saving model to best_CNN_model.h5\n",
            "5281/5281 [==============================] - 21s 4ms/step - loss: 0.3247 - accuracy: 0.8962 - val_loss: 0.3444 - val_accuracy: 0.8892\n",
            "Epoch 8/10\n",
            "5281/5281 [==============================] - ETA: 0s - loss: 0.3121 - accuracy: 0.9005\n",
            "Epoch 8: val_accuracy improved from 0.88923 to 0.89120, saving model to best_CNN_model.h5\n",
            "5281/5281 [==============================] - 21s 4ms/step - loss: 0.3121 - accuracy: 0.9005 - val_loss: 0.3341 - val_accuracy: 0.8912\n",
            "Epoch 9/10\n",
            "5269/5281 [============================>.] - ETA: 0s - loss: 0.3006 - accuracy: 0.9039\n",
            "Epoch 9: val_accuracy improved from 0.89120 to 0.89598, saving model to best_CNN_model.h5\n",
            "5281/5281 [==============================] - 21s 4ms/step - loss: 0.3005 - accuracy: 0.9039 - val_loss: 0.3244 - val_accuracy: 0.8960\n",
            "Epoch 10/10\n",
            "5268/5281 [============================>.] - ETA: 0s - loss: 0.2898 - accuracy: 0.9072\n",
            "Epoch 10: val_accuracy improved from 0.89598 to 0.89832, saving model to best_CNN_model.h5\n",
            "5281/5281 [==============================] - 21s 4ms/step - loss: 0.2897 - accuracy: 0.9072 - val_loss: 0.3152 - val_accuracy: 0.8983\n"
          ]
        }
      ]
    },
    {
      "cell_type": "code",
      "source": [
        "history3 = model.fit(X_train, y_train, epochs=10, validation_data=(X_test, y_test), callbacks=[checkpoint])\n"
      ],
      "metadata": {
        "colab": {
          "base_uri": "https://localhost:8080/"
        },
        "id": "s6BnXBvXZ7oy",
        "outputId": "dfbce47c-31df-4cfa-d1b0-154c1e2038e5"
      },
      "id": "s6BnXBvXZ7oy",
      "execution_count": 42,
      "outputs": [
        {
          "output_type": "stream",
          "name": "stdout",
          "text": [
            "Epoch 1/10\n",
            "5278/5281 [============================>.] - ETA: 0s - loss: 0.2797 - accuracy: 0.9101\n",
            "Epoch 1: val_accuracy improved from 0.89832 to 0.90128, saving model to best_CNN_model.h5\n",
            "5281/5281 [==============================] - 21s 4ms/step - loss: 0.2797 - accuracy: 0.9101 - val_loss: 0.3071 - val_accuracy: 0.9013\n",
            "Epoch 2/10\n",
            "5280/5281 [============================>.] - ETA: 0s - loss: 0.2705 - accuracy: 0.9130\n",
            "Epoch 2: val_accuracy improved from 0.90128 to 0.90367, saving model to best_CNN_model.h5\n",
            "5281/5281 [==============================] - 21s 4ms/step - loss: 0.2705 - accuracy: 0.9130 - val_loss: 0.2996 - val_accuracy: 0.9037\n",
            "Epoch 3/10\n",
            "5278/5281 [============================>.] - ETA: 0s - loss: 0.2621 - accuracy: 0.9156\n",
            "Epoch 3: val_accuracy improved from 0.90367 to 0.90509, saving model to best_CNN_model.h5\n",
            "5281/5281 [==============================] - 21s 4ms/step - loss: 0.2621 - accuracy: 0.9156 - val_loss: 0.2927 - val_accuracy: 0.9051\n",
            "Epoch 4/10\n",
            "5280/5281 [============================>.] - ETA: 0s - loss: 0.2544 - accuracy: 0.9181\n",
            "Epoch 4: val_accuracy improved from 0.90509 to 0.90673, saving model to best_CNN_model.h5\n",
            "5281/5281 [==============================] - 21s 4ms/step - loss: 0.2544 - accuracy: 0.9181 - val_loss: 0.2866 - val_accuracy: 0.9067\n",
            "Epoch 5/10\n",
            "5281/5281 [==============================] - ETA: 0s - loss: 0.2474 - accuracy: 0.9200\n",
            "Epoch 5: val_accuracy improved from 0.90673 to 0.90839, saving model to best_CNN_model.h5\n",
            "5281/5281 [==============================] - 21s 4ms/step - loss: 0.2474 - accuracy: 0.9200 - val_loss: 0.2809 - val_accuracy: 0.9084\n",
            "Epoch 6/10\n",
            "5281/5281 [==============================] - ETA: 0s - loss: 0.2410 - accuracy: 0.9222\n",
            "Epoch 6: val_accuracy improved from 0.90839 to 0.91018, saving model to best_CNN_model.h5\n",
            "5281/5281 [==============================] - 21s 4ms/step - loss: 0.2410 - accuracy: 0.9222 - val_loss: 0.2762 - val_accuracy: 0.9102\n",
            "Epoch 7/10\n",
            "5281/5281 [==============================] - ETA: 0s - loss: 0.2351 - accuracy: 0.9239\n",
            "Epoch 7: val_accuracy improved from 0.91018 to 0.91056, saving model to best_CNN_model.h5\n",
            "5281/5281 [==============================] - 21s 4ms/step - loss: 0.2351 - accuracy: 0.9239 - val_loss: 0.2712 - val_accuracy: 0.9106\n",
            "Epoch 8/10\n",
            "5280/5281 [============================>.] - ETA: 0s - loss: 0.2297 - accuracy: 0.9257\n",
            "Epoch 8: val_accuracy improved from 0.91056 to 0.91179, saving model to best_CNN_model.h5\n",
            "5281/5281 [==============================] - 21s 4ms/step - loss: 0.2297 - accuracy: 0.9257 - val_loss: 0.2674 - val_accuracy: 0.9118\n",
            "Epoch 9/10\n",
            "5270/5281 [============================>.] - ETA: 0s - loss: 0.2247 - accuracy: 0.9270\n",
            "Epoch 9: val_accuracy improved from 0.91179 to 0.91305, saving model to best_CNN_model.h5\n",
            "5281/5281 [==============================] - 21s 4ms/step - loss: 0.2247 - accuracy: 0.9269 - val_loss: 0.2635 - val_accuracy: 0.9130\n",
            "Epoch 10/10\n",
            "5274/5281 [============================>.] - ETA: 0s - loss: 0.2201 - accuracy: 0.9284\n",
            "Epoch 10: val_accuracy improved from 0.91305 to 0.91423, saving model to best_CNN_model.h5\n",
            "5281/5281 [==============================] - 21s 4ms/step - loss: 0.2201 - accuracy: 0.9283 - val_loss: 0.2602 - val_accuracy: 0.9142\n"
          ]
        }
      ]
    },
    {
      "cell_type": "markdown",
      "id": "9b88df8c",
      "metadata": {
        "id": "9b88df8c"
      },
      "source": [
        "## RNN"
      ]
    },
    {
      "cell_type": "code",
      "execution_count": 40,
      "id": "1a88a452",
      "metadata": {
        "id": "1a88a452"
      },
      "outputs": [],
      "source": [
        "from tensorflow.keras.models import Sequential\n",
        "from tensorflow.keras.callbacks import ModelCheckpoint\n",
        "from tensorflow.keras.layers import Dense, Embedding, SpatialDropout1D\n",
        "from keras.layers import SimpleRNN"
      ]
    },
    {
      "cell_type": "code",
      "execution_count": 41,
      "id": "c60795b8",
      "metadata": {
        "colab": {
          "base_uri": "https://localhost:8080/"
        },
        "id": "c60795b8",
        "outputId": "9996f20e-3cfc-48af-d5f3-650f5c656045"
      },
      "outputs": [
        {
          "output_type": "execute_result",
          "data": {
            "text/plain": [
              "(130,)"
            ]
          },
          "metadata": {},
          "execution_count": 41
        }
      ],
      "source": [
        "X_train[0].shape"
      ]
    },
    {
      "cell_type": "code",
      "execution_count": 42,
      "id": "dd32ac96",
      "metadata": {
        "id": "dd32ac96"
      },
      "outputs": [],
      "source": [
        "# Define the filepath to save the best model\n",
        "filepath = 'best_RNN_model.h5'\n",
        "\n",
        "# Create the ModelCheckpoint callback\n",
        "checkpoint = ModelCheckpoint(filepath, monitor='val_accuracy', save_best_only=True, mode='max', verbose=1)"
      ]
    },
    {
      "cell_type": "code",
      "execution_count": 43,
      "id": "05934dea",
      "metadata": {
        "id": "05934dea"
      },
      "outputs": [],
      "source": [
        "epochs = 10\n",
        "emb_dim = 128\n",
        "batch_size = 256\n",
        "n_most_common_words = 8000"
      ]
    },
    {
      "cell_type": "code",
      "execution_count": 44,
      "id": "c5304cfd",
      "metadata": {
        "id": "c5304cfd"
      },
      "outputs": [],
      "source": [
        "model = Sequential()\n",
        "model.add(Embedding(n_most_common_words, emb_dim, input_length=X.shape[1]))\n",
        "model.add(SpatialDropout1D(0.7))\n",
        "model.add(SimpleRNN(128, return_sequences=True))\n",
        "model.add(SimpleRNN(128))\n",
        "model.add(Dense(4, activation='softmax'))\n",
        "model.compile(loss='categorical_crossentropy', optimizer='adam', metrics=['accuracy'])\n",
        "\n"
      ]
    },
    {
      "cell_type": "code",
      "execution_count": 50,
      "id": "be805e78",
      "metadata": {
        "colab": {
          "base_uri": "https://localhost:8080/"
        },
        "id": "be805e78",
        "outputId": "d32e8d5c-d5da-4fc5-d328-f278fb50bcfa"
      },
      "outputs": [
        {
          "output_type": "stream",
          "name": "stdout",
          "text": [
            "Model: \"sequential_2\"\n",
            "_________________________________________________________________\n",
            " Layer (type)                Output Shape              Param #   \n",
            "=================================================================\n",
            " embedding_2 (Embedding)     (None, 130, 128)          1024000   \n",
            "                                                                 \n",
            " spatial_dropout1d (SpatialD  (None, 130, 128)         0         \n",
            " ropout1D)                                                       \n",
            "                                                                 \n",
            " simple_rnn (SimpleRNN)      (None, 130, 128)          32896     \n",
            "                                                                 \n",
            " simple_rnn_1 (SimpleRNN)    (None, 128)               32896     \n",
            "                                                                 \n",
            " dense_4 (Dense)             (None, 4)                 516       \n",
            "                                                                 \n",
            "=================================================================\n",
            "Total params: 1,090,308\n",
            "Trainable params: 1,090,308\n",
            "Non-trainable params: 0\n",
            "_________________________________________________________________\n"
          ]
        }
      ],
      "source": [
        "model.summary()"
      ]
    },
    {
      "cell_type": "code",
      "execution_count": null,
      "id": "4d45aff8",
      "metadata": {
        "colab": {
          "base_uri": "https://localhost:8080/"
        },
        "id": "4d45aff8",
        "outputId": "e846c5fb-9bb7-4ace-dcde-8e2bb00d2c4f"
      },
      "outputs": [
        {
          "name": "stdout",
          "output_type": "stream",
          "text": [
            "Epoch 1/10\n",
            "5281/5281 [==============================] - ETA: 0s - loss: 0.6366 - accuracy: 0.7340\n",
            "Epoch 1: val_accuracy improved from -inf to 0.90079, saving model to best_model.h5\n",
            "5281/5281 [==============================] - 1507s 284ms/step - loss: 0.6366 - accuracy: 0.7340 - val_loss: 0.2823 - val_accuracy: 0.9008\n",
            "Epoch 2/10\n",
            "5281/5281 [==============================] - ETA: 0s - loss: 0.3071 - accuracy: 0.8956\n",
            "Epoch 2: val_accuracy improved from 0.90079 to 0.91094, saving model to best_model.h5\n",
            "5281/5281 [==============================] - 1482s 281ms/step - loss: 0.3071 - accuracy: 0.8956 - val_loss: 0.2667 - val_accuracy: 0.9109\n",
            "Epoch 3/10\n",
            "5281/5281 [==============================] - ETA: 0s - loss: 0.2871 - accuracy: 0.9019\n",
            "Epoch 3: val_accuracy did not improve from 0.91094\n",
            "5281/5281 [==============================] - 1474s 279ms/step - loss: 0.2871 - accuracy: 0.9019 - val_loss: 0.3209 - val_accuracy: 0.8970\n",
            "Epoch 4/10\n",
            "5281/5281 [==============================] - ETA: 0s - loss: 0.2960 - accuracy: 0.8982\n",
            "Epoch 4: val_accuracy did not improve from 0.91094\n",
            "5281/5281 [==============================] - 1453s 275ms/step - loss: 0.2960 - accuracy: 0.8982 - val_loss: 0.2957 - val_accuracy: 0.8988\n",
            "Epoch 5/10\n",
            "5281/5281 [==============================] - ETA: 0s - loss: 0.2725 - accuracy: 0.9070\n",
            "Epoch 5: val_accuracy improved from 0.91094 to 0.91447, saving model to best_model.h5\n",
            "5281/5281 [==============================] - 1464s 277ms/step - loss: 0.2725 - accuracy: 0.9070 - val_loss: 0.2629 - val_accuracy: 0.9145\n",
            "Epoch 6/10\n",
            "5281/5281 [==============================] - ETA: 0s - loss: 0.3376 - accuracy: 0.8891\n",
            "Epoch 6: val_accuracy did not improve from 0.91447\n",
            "5281/5281 [==============================] - 1436s 272ms/step - loss: 0.3376 - accuracy: 0.8891 - val_loss: 0.2801 - val_accuracy: 0.9090\n",
            "Epoch 7/10\n",
            "5281/5281 [==============================] - ETA: 0s - loss: 0.2864 - accuracy: 0.9059\n",
            "Epoch 7: val_accuracy did not improve from 0.91447\n",
            "5281/5281 [==============================] - 1410s 267ms/step - loss: 0.2864 - accuracy: 0.9059 - val_loss: 0.3086 - val_accuracy: 0.9008\n",
            "Epoch 8/10\n",
            "5281/5281 [==============================] - ETA: 0s - loss: 0.3222 - accuracy: 0.8955\n",
            "Epoch 8: val_accuracy did not improve from 0.91447\n",
            "5281/5281 [==============================] - 1401s 265ms/step - loss: 0.3222 - accuracy: 0.8955 - val_loss: 0.3109 - val_accuracy: 0.9009\n",
            "Epoch 9/10\n",
            "5281/5281 [==============================] - ETA: 0s - loss: 0.3092 - accuracy: 0.8984\n",
            "Epoch 9: val_accuracy did not improve from 0.91447\n",
            "5281/5281 [==============================] - 1420s 269ms/step - loss: 0.3092 - accuracy: 0.8984 - val_loss: 0.3644 - val_accuracy: 0.8844\n",
            "Epoch 10/10\n",
            "5281/5281 [==============================] - ETA: 0s - loss: 0.3389 - accuracy: 0.8877\n",
            "Epoch 10: val_accuracy did not improve from 0.91447\n",
            "5281/5281 [==============================] - 1436s 272ms/step - loss: 0.3389 - accuracy: 0.8877 - val_loss: 0.3192 - val_accuracy: 0.8956\n"
          ]
        }
      ],
      "source": [
        "history = model.fit(X_train, y_train, epochs=10, validation_data=(X_test, y_test), callbacks=[checkpoint])\n"
      ]
    },
    {
      "cell_type": "code",
      "execution_count": null,
      "id": "d83284b3",
      "metadata": {
        "colab": {
          "base_uri": "https://localhost:8080/",
          "height": 927
        },
        "id": "d83284b3",
        "outputId": "a9c1a2b6-701c-4b5d-d20e-41a44a888dc1"
      },
      "outputs": [
        {
          "data": {
            "image/png": "[encoded data removed]",
            "text/plain": [
              "<Figure size 640x480 with 1 Axes>"
            ]
          },
          "metadata": {},
          "output_type": "display_data"
        },
        {
          "data": {
            "image/png": "[encoded data removed]",
            "text/plain": [
              "<Figure size 640x480 with 1 Axes>"
            ]
          },
          "metadata": {},
          "output_type": "display_data"
        }
      ],
      "source": [
        "# Access the training history\n",
        "accuracy = history.history['accuracy']\n",
        "val_accuracy = history.history['val_accuracy']\n",
        "loss = history.history['loss']\n",
        "val_loss = history.history['val_loss']\n",
        "\n",
        "# Plot accuracy\n",
        "plt.plot(range(1, len(accuracy) + 1), accuracy, label='Training Accuracy')\n",
        "plt.plot(range(1, len(val_accuracy) + 1), val_accuracy, label='Validation Accuracy')\n",
        "plt.title('Training and Test Accuracy')\n",
        "plt.xlabel('Epochs')\n",
        "plt.ylabel('Accuracy')\n",
        "plt.legend()\n",
        "plt.show()\n",
        "\n",
        "# Plot loss\n",
        "plt.plot(range(1, len(loss) + 1), loss, label='Training Loss')\n",
        "plt.plot(range(1, len(val_loss) + 1), val_loss, label='Validation Loss')\n",
        "plt.title('Training and Test Loss')\n",
        "plt.xlabel('Epochs')\n",
        "plt.ylabel('Loss')\n",
        "plt.legend()\n",
        "plt.show()\n"
      ]
    },
    {
      "cell_type": "markdown",
      "id": "vhFtPBclfAhG",
      "metadata": {
        "id": "vhFtPBclfAhG"
      },
      "source": [
        "## DISTILBERT"
      ]
    },
    {
      "cell_type": "code",
      "execution_count": null,
      "id": "u9mZGxKSI9Vk",
      "metadata": {
        "colab": {
          "base_uri": "https://localhost:8080/"
        },
        "id": "u9mZGxKSI9Vk",
        "outputId": "cb504c60-4eff-4b45-ba79-abe45999aec7"
      },
      "outputs": [
        {
          "name": "stdout",
          "output_type": "stream",
          "text": [
            "Collecting transformers\n",
            "  Downloading transformers-4.30.2-py3-none-any.whl (7.2 MB)\n",
            "\u001b[2K     \u001b[90m━━━━━━━━━━━━━━━━━━━━━━━━━━━━━━━━━━━━━━━━\u001b[0m \u001b[32m7.2/7.2 MB\u001b[0m \u001b[31m51.4 MB/s\u001b[0m eta \u001b[36m0:00:00\u001b[0m\n",
            "\u001b[?25hRequirement already satisfied: filelock in /usr/local/lib/python3.10/dist-packages (from transformers) (3.12.2)\n",
            "Collecting huggingface-hub<1.0,>=0.14.1 (from transformers)\n",
            "  Downloading huggingface_hub-0.16.4-py3-none-any.whl (268 kB)\n",
            "\u001b[2K     \u001b[90m━━━━━━━━━━━━━━━━━━━━━━━━━━━━━━━━━━━━━━\u001b[0m \u001b[32m268.8/268.8 kB\u001b[0m \u001b[31m21.9 MB/s\u001b[0m eta \u001b[36m0:00:00\u001b[0m\n",
            "\u001b[?25hRequirement already satisfied: numpy>=1.17 in /usr/local/lib/python3.10/dist-packages (from transformers) (1.25.1)\n",
            "Requirement already satisfied: packaging>=20.0 in /usr/local/lib/python3.10/dist-packages (from transformers) (23.1)\n",
            "Requirement already satisfied: pyyaml>=5.1 in /usr/local/lib/python3.10/dist-packages (from transformers) (6.0)\n",
            "Requirement already satisfied: regex!=2019.12.17 in /usr/local/lib/python3.10/dist-packages (from transformers) (2022.10.31)\n",
            "Requirement already satisfied: requests in /usr/local/lib/python3.10/dist-packages (from transformers) (2.27.1)\n",
            "Collecting tokenizers!=0.11.3,<0.14,>=0.11.1 (from transformers)\n",
            "  Downloading tokenizers-0.13.3-cp310-cp310-manylinux_2_17_x86_64.manylinux2014_x86_64.whl (7.8 MB)\n",
            "\u001b[2K     \u001b[90m━━━━━━━━━━━━━━━━━━━━━━━━━━━━━━━━━━━━━━━━\u001b[0m \u001b[32m7.8/7.8 MB\u001b[0m \u001b[31m80.1 MB/s\u001b[0m eta \u001b[36m0:00:00\u001b[0m\n",
            "\u001b[?25hCollecting safetensors>=0.3.1 (from transformers)\n",
            "  Downloading safetensors-0.3.1-cp310-cp310-manylinux_2_17_x86_64.manylinux2014_x86_64.whl (1.3 MB)\n",
            "\u001b[2K     \u001b[90m━━━━━━━━━━━━━━━━━━━━━━━━━━━━━━━━━━━━━━━━\u001b[0m \u001b[32m1.3/1.3 MB\u001b[0m \u001b[31m58.9 MB/s\u001b[0m eta \u001b[36m0:00:00\u001b[0m\n",
            "\u001b[?25hRequirement already satisfied: tqdm>=4.27 in /usr/local/lib/python3.10/dist-packages (from transformers) (4.65.0)\n",
            "Requirement already satisfied: fsspec in /usr/local/lib/python3.10/dist-packages (from huggingface-hub<1.0,>=0.14.1->transformers) (2023.6.0)\n",
            "Requirement already satisfied: typing-extensions>=3.7.4.3 in /usr/local/lib/python3.10/dist-packages (from huggingface-hub<1.0,>=0.14.1->transformers) (4.7.1)\n",
            "Requirement already satisfied: urllib3<1.27,>=1.21.1 in /usr/local/lib/python3.10/dist-packages (from requests->transformers) (1.26.16)\n",
            "Requirement already satisfied: certifi>=2017.4.17 in /usr/local/lib/python3.10/dist-packages (from requests->transformers) (2023.5.7)\n",
            "Requirement already satisfied: charset-normalizer~=2.0.0 in /usr/local/lib/python3.10/dist-packages (from requests->transformers) (2.0.12)\n",
            "Requirement already satisfied: idna<4,>=2.5 in /usr/local/lib/python3.10/dist-packages (from requests->transformers) (3.4)\n",
            "Installing collected packages: tokenizers, safetensors, huggingface-hub, transformers\n",
            "Successfully installed huggingface-hub-0.16.4 safetensors-0.3.1 tokenizers-0.13.3 transformers-4.30.2\n"
          ]
        }
      ],
      "source": [
        "!pip install transformers\n"
      ]
    },
    {
      "cell_type": "code",
      "execution_count": null,
      "id": "cfb-LQ3HfFVK",
      "metadata": {
        "colab": {
          "base_uri": "https://localhost:8080/"
        },
        "id": "cfb-LQ3HfFVK",
        "outputId": "2b0fd34d-eb3d-4df1-d973-9f30f9db3671"
      },
      "outputs": [
        {
          "name": "stderr",
          "output_type": "stream",
          "text": [
            "Some weights of the PyTorch model were not used when initializing the TF 2.0 model TFDistilBertModel: ['vocab_projector.bias', 'vocab_transform.bias', 'vocab_layer_norm.bias', 'vocab_transform.weight', 'vocab_layer_norm.weight']\n",
            "- This IS expected if you are initializing TFDistilBertModel from a PyTorch model trained on another task or with another architecture (e.g. initializing a TFBertForSequenceClassification model from a BertForPreTraining model).\n",
            "- This IS NOT expected if you are initializing TFDistilBertModel from a PyTorch model that you expect to be exactly identical (e.g. initializing a TFBertForSequenceClassification model from a BertForSequenceClassification model).\n",
            "All the weights of TFDistilBertModel were initialized from the PyTorch model.\n",
            "If your task is similar to the task the model of the checkpoint was trained on, you can already use TFDistilBertModel for predictions without further training.\n"
          ]
        }
      ],
      "source": [
        "import tensorflow as tf\n",
        "from transformers import TFDistilBertModel, DistilBertTokenizer\n",
        "from tensorflow.keras.callbacks import ModelCheckpoint\n",
        "\n",
        "#Load the pre-trained\n",
        "model_name='distilbert-base-uncased'\n",
        "tokenizer = DistilBertTokenizer.from_pretrained(model_name)\n",
        "distilbert_model = TFDistilBertModel.from_pretrained(model_name)"
      ]
    },
    {
      "cell_type": "code",
      "execution_count": null,
      "id": "YXZryDckJTWd",
      "metadata": {
        "colab": {
          "base_uri": "https://localhost:8080/",
          "height": 250
        },
        "id": "YXZryDckJTWd",
        "outputId": "e38644b3-8fce-457e-a8d8-13b8cd9e8761"
      },
      "outputs": [
        {
          "data": {
            "text/html": [
              "\n",
              "\n",
              "  <div id=\"df-3e07b856-9160-4ca0-9343-9603f773e37b\">\n",
              "    <div class=\"colab-df-container\">\n",
              "      <div>\n",
              "<style scoped>\n",
              "    .dataframe tbody tr th:only-of-type {\n",
              "        vertical-align: middle;\n",
              "    }\n",
              "\n",
              "    .dataframe tbody tr th {\n",
              "        vertical-align: top;\n",
              "    }\n",
              "\n",
              "    .dataframe thead th {\n",
              "        text-align: right;\n",
              "    }\n",
              "</style>\n",
              "<table border=\"1\" class=\"dataframe\">\n",
              "  <thead>\n",
              "    <tr style=\"text-align: right;\">\n",
              "      <th></th>\n",
              "      <th>TITLE</th>\n",
              "      <th>CATEGORY</th>\n",
              "      <th>title_cleaned</th>\n",
              "    </tr>\n",
              "  </thead>\n",
              "  <tbody>\n",
              "    <tr>\n",
              "      <th>0</th>\n",
              "      <td>Oculus Founders Talk Facebook Acquisition; Gam...</td>\n",
              "      <td>0.0</td>\n",
              "      <td>oculu founder talk facebook acquisit game stil...</td>\n",
              "    </tr>\n",
              "    <tr>\n",
              "      <th>1</th>\n",
              "      <td>CEO says GM changing recall process after 'ter...</td>\n",
              "      <td>1.0</td>\n",
              "      <td>ceo say gm chang recal process 'terribl thing ...</td>\n",
              "    </tr>\n",
              "    <tr>\n",
              "      <th>2</th>\n",
              "      <td>Actress Kristen Bell is expecting her second c...</td>\n",
              "      <td>0.0</td>\n",
              "      <td>actress kristen bell expect second child husba...</td>\n",
              "    </tr>\n",
              "    <tr>\n",
              "      <th>3</th>\n",
              "      <td>Meteor Shower to Light Up Friday Night's Sky</td>\n",
              "      <td>0.0</td>\n",
              "      <td>meteor shower light friday night 's sky</td>\n",
              "    </tr>\n",
              "    <tr>\n",
              "      <th>4</th>\n",
              "      <td>TV ratings: 'Voice' and 'Dancing' finales down...</td>\n",
              "      <td>0.0</td>\n",
              "      <td>tv rate 'voic 'danc final last year</td>\n",
              "    </tr>\n",
              "  </tbody>\n",
              "</table>\n",
              "</div>\n",
              "      <button class=\"colab-df-convert\" onclick=\"convertToInteractive('df-3e07b856-9160-4ca0-9343-9603f773e37b')\"\n",
              "              title=\"Convert this dataframe to an interactive table.\"\n",
              "              style=\"display:none;\">\n",
              "\n",
              "  <svg xmlns=\"http://www.w3.org/2000/svg\" height=\"24px\"viewBox=\"0 0 24 24\"\n",
              "       width=\"24px\">\n",
              "    <path d=\"M0 0h24v24H0V0z\" fill=\"none\"/>\n",
              "    <path d=\"M18.56 5.44l.94 2.06.94-2.06 2.06-.94-2.06-.94-.94-2.06-.94 2.06-2.06.94zm-11 1L8.5 8.5l.94-2.06 2.06-.94-2.06-.94L8.5 2.5l-.94 2.06-2.06.94zm10 10l.94 2.06.94-2.06 2.06-.94-2.06-.94-.94-2.06-.94 2.06-2.06.94z\"/><path d=\"M17.41 7.96l-1.37-1.37c-.4-.4-.92-.59-1.43-.59-.52 0-1.04.2-1.43.59L10.3 9.45l-7.72 7.72c-.78.78-.78 2.05 0 2.83L4 21.41c.39.39.9.59 1.41.59.51 0 1.02-.2 1.41-.59l7.78-7.78 2.81-2.81c.8-.78.8-2.07 0-2.86zM5.41 20L4 18.59l7.72-7.72 1.47 1.35L5.41 20z\"/>\n",
              "  </svg>\n",
              "      </button>\n",
              "\n",
              "\n",
              "\n",
              "    <div id=\"df-a3e5cf8e-867b-4365-91ce-c5009bdc78f4\">\n",
              "      <button class=\"colab-df-quickchart\" onclick=\"quickchart('df-a3e5cf8e-867b-4365-91ce-c5009bdc78f4')\"\n",
              "              title=\"Suggest charts.\"\n",
              "              style=\"display:none;\">\n",
              "\n",
              "<svg xmlns=\"http://www.w3.org/2000/svg\" height=\"24px\"viewBox=\"0 0 24 24\"\n",
              "     width=\"24px\">\n",
              "    <g>\n",
              "        <path d=\"M19 3H5c-1.1 0-2 .9-2 2v14c0 1.1.9 2 2 2h14c1.1 0 2-.9 2-2V5c0-1.1-.9-2-2-2zM9 17H7v-7h2v7zm4 0h-2V7h2v10zm4 0h-2v-4h2v4z\"/>\n",
              "    </g>\n",
              "</svg>\n",
              "      </button>\n",
              "    </div>\n",
              "\n",
              "<style>\n",
              "  .colab-df-quickchart {\n",
              "    background-color: #E8F0FE;\n",
              "    border: none;\n",
              "    border-radius: 50%;\n",
              "    cursor: pointer;\n",
              "    display: none;\n",
              "    fill: #1967D2;\n",
              "    height: 32px;\n",
              "    padding: 0 0 0 0;\n",
              "    width: 32px;\n",
              "  }\n",
              "\n",
              "  .colab-df-quickchart:hover {\n",
              "    background-color: #E2EBFA;\n",
              "    box-shadow: 0px 1px 2px rgba(60, 64, 67, 0.3), 0px 1px 3px 1px rgba(60, 64, 67, 0.15);\n",
              "    fill: #174EA6;\n",
              "  }\n",
              "\n",
              "  [theme=dark] .colab-df-quickchart {\n",
              "    background-color: #3B4455;\n",
              "    fill: #D2E3FC;\n",
              "  }\n",
              "\n",
              "  [theme=dark] .colab-df-quickchart:hover {\n",
              "    background-color: #434B5C;\n",
              "    box-shadow: 0px 1px 3px 1px rgba(0, 0, 0, 0.15);\n",
              "    filter: drop-shadow(0px 1px 2px rgba(0, 0, 0, 0.3));\n",
              "    fill: #FFFFFF;\n",
              "  }\n",
              "</style>\n",
              "\n",
              "    <script>\n",
              "      async function quickchart(key) {\n",
              "        const containerElement = document.querySelector('#' + key);\n",
              "        const charts = await google.colab.kernel.invokeFunction(\n",
              "            'suggestCharts', [key], {});\n",
              "      }\n",
              "    </script>\n",
              "\n",
              "      <script>\n",
              "\n",
              "function displayQuickchartButton(domScope) {\n",
              "  let quickchartButtonEl =\n",
              "    domScope.querySelector('#df-a3e5cf8e-867b-4365-91ce-c5009bdc78f4 button.colab-df-quickchart');\n",
              "  quickchartButtonEl.style.display =\n",
              "    google.colab.kernel.accessAllowed ? 'block' : 'none';\n",
              "}\n",
              "\n",
              "        displayQuickchartButton(document);\n",
              "      </script>\n",
              "      <style>\n",
              "    .colab-df-container {\n",
              "      display:flex;\n",
              "      flex-wrap:wrap;\n",
              "      gap: 12px;\n",
              "    }\n",
              "\n",
              "    .colab-df-convert {\n",
              "      background-color: #E8F0FE;\n",
              "      border: none;\n",
              "      border-radius: 50%;\n",
              "      cursor: pointer;\n",
              "      display: none;\n",
              "      fill: #1967D2;\n",
              "      height: 32px;\n",
              "      padding: 0 0 0 0;\n",
              "      width: 32px;\n",
              "    }\n",
              "\n",
              "    .colab-df-convert:hover {\n",
              "      background-color: #E2EBFA;\n",
              "      box-shadow: 0px 1px 2px rgba(60, 64, 67, 0.3), 0px 1px 3px 1px rgba(60, 64, 67, 0.15);\n",
              "      fill: #174EA6;\n",
              "    }\n",
              "\n",
              "    [theme=dark] .colab-df-convert {\n",
              "      background-color: #3B4455;\n",
              "      fill: #D2E3FC;\n",
              "    }\n",
              "\n",
              "    [theme=dark] .colab-df-convert:hover {\n",
              "      background-color: #434B5C;\n",
              "      box-shadow: 0px 1px 3px 1px rgba(0, 0, 0, 0.15);\n",
              "      filter: drop-shadow(0px 1px 2px rgba(0, 0, 0, 0.3));\n",
              "      fill: #FFFFFF;\n",
              "    }\n",
              "  </style>\n",
              "\n",
              "      <script>\n",
              "        const buttonEl =\n",
              "          document.querySelector('#df-3e07b856-9160-4ca0-9343-9603f773e37b button.colab-df-convert');\n",
              "        buttonEl.style.display =\n",
              "          google.colab.kernel.accessAllowed ? 'block' : 'none';\n",
              "\n",
              "        async function convertToInteractive(key) {\n",
              "          const element = document.querySelector('#df-3e07b856-9160-4ca0-9343-9603f773e37b');\n",
              "          const dataTable =\n",
              "            await google.colab.kernel.invokeFunction('convertToInteractive',\n",
              "                                                     [key], {});\n",
              "          if (!dataTable) return;\n",
              "\n",
              "          const docLinkHtml = 'Like what you see? Visit the ' +\n",
              "            '<a target=\"_blank\" href=https://colab.research.google.com/notebooks/data_table.ipynb>data table notebook</a>'\n",
              "            + ' to learn more about interactive tables.';\n",
              "          element.innerHTML = '';\n",
              "          dataTable['output_type'] = 'display_data';\n",
              "          await google.colab.output.renderOutput(dataTable, element);\n",
              "          const docLink = document.createElement('div');\n",
              "          docLink.innerHTML = docLinkHtml;\n",
              "          element.appendChild(docLink);\n",
              "        }\n",
              "      </script>\n",
              "    </div>\n",
              "  </div>\n"
            ],
            "text/plain": [
              "                                               TITLE  CATEGORY  \\\n",
              "0  Oculus Founders Talk Facebook Acquisition; Gam...       0.0   \n",
              "1  CEO says GM changing recall process after 'ter...       1.0   \n",
              "2  Actress Kristen Bell is expecting her second c...       0.0   \n",
              "3       Meteor Shower to Light Up Friday Night's Sky       0.0   \n",
              "4  TV ratings: 'Voice' and 'Dancing' finales down...       0.0   \n",
              "\n",
              "                                       title_cleaned  \n",
              "0  oculu founder talk facebook acquisit game stil...  \n",
              "1  ceo say gm chang recal process 'terribl thing ...  \n",
              "2  actress kristen bell expect second child husba...  \n",
              "3            meteor shower light friday night 's sky  \n",
              "4                tv rate 'voic 'danc final last year  "
            ]
          },
          "execution_count": 114,
          "metadata": {},
          "output_type": "execute_result"
        }
      ],
      "source": [
        "df3.head()\n"
      ]
    },
    {
      "cell_type": "code",
      "execution_count": null,
      "id": "gPk0rydPaBM6",
      "metadata": {
        "colab": {
          "base_uri": "https://localhost:8080/"
        },
        "id": "gPk0rydPaBM6",
        "outputId": "8cfca0c8-59ef-467c-f283-fa6a9a81fc02"
      },
      "outputs": [
        {
          "data": {
            "text/plain": [
              "array([[0., 0., 0., 1.],\n",
              "       [1., 0., 0., 0.],\n",
              "       [0., 1., 0., 0.],\n",
              "       ...,\n",
              "       [1., 0., 0., 0.],\n",
              "       [0., 1., 0., 0.],\n",
              "       [0., 0., 0., 1.]], dtype=float32)"
            ]
          },
          "execution_count": 115,
          "metadata": {},
          "output_type": "execute_result"
        }
      ],
      "source": [
        "lables"
      ]
    },
    {
      "cell_type": "code",
      "execution_count": null,
      "id": "ippT91YfZJIH",
      "metadata": {
        "id": "ippT91YfZJIH"
      },
      "outputs": [],
      "source": [
        "df3['CATEGORY']=lables.tolist()"
      ]
    },
    {
      "cell_type": "code",
      "execution_count": null,
      "id": "HUuQG0F4Ww72",
      "metadata": {
        "id": "HUuQG0F4Ww72"
      },
      "outputs": [],
      "source": [
        "df4=df3.sample(frac=0.35)"
      ]
    },
    {
      "cell_type": "code",
      "execution_count": null,
      "id": "ZMdSYR45aRIY",
      "metadata": {
        "colab": {
          "base_uri": "https://localhost:8080/",
          "height": 424
        },
        "id": "ZMdSYR45aRIY",
        "outputId": "945c3938-5976-4b83-8ab1-4be027a41bef"
      },
      "outputs": [
        {
          "data": {
            "text/html": [
              "\n",
              "\n",
              "  <div id=\"df-85004fd0-6ff8-4842-9539-972f64919579\">\n",
              "    <div class=\"colab-df-container\">\n",
              "      <div>\n",
              "<style scoped>\n",
              "    .dataframe tbody tr th:only-of-type {\n",
              "        vertical-align: middle;\n",
              "    }\n",
              "\n",
              "    .dataframe tbody tr th {\n",
              "        vertical-align: top;\n",
              "    }\n",
              "\n",
              "    .dataframe thead th {\n",
              "        text-align: right;\n",
              "    }\n",
              "</style>\n",
              "<table border=\"1\" class=\"dataframe\">\n",
              "  <thead>\n",
              "    <tr style=\"text-align: right;\">\n",
              "      <th></th>\n",
              "      <th>TITLE</th>\n",
              "      <th>CATEGORY</th>\n",
              "      <th>title_cleaned</th>\n",
              "    </tr>\n",
              "  </thead>\n",
              "  <tbody>\n",
              "    <tr>\n",
              "      <th>76683</th>\n",
              "      <td>Coca-Cola Won't Go Private: Warren Buffett</td>\n",
              "      <td>[1.0, 0.0, 0.0, 0.0]</td>\n",
              "      <td>coca-cola wo n't go privat warren buffett</td>\n",
              "    </tr>\n",
              "    <tr>\n",
              "      <th>114810</th>\n",
              "      <td>Here's the story behind those Kimye in Ireland...</td>\n",
              "      <td>[0.0, 1.0, 0.0, 0.0]</td>\n",
              "      <td>'s stori behind kimy ireland photo</td>\n",
              "    </tr>\n",
              "    <tr>\n",
              "      <th>10121</th>\n",
              "      <td>Posted by Parvez Jabri</td>\n",
              "      <td>[1.0, 0.0, 0.0, 0.0]</td>\n",
              "      <td>post parvez jabri</td>\n",
              "    </tr>\n",
              "    <tr>\n",
              "      <th>24527</th>\n",
              "      <td>Holder: Banks Aren't 'Too Big to Jail', &amp; More</td>\n",
              "      <td>[1.0, 0.0, 0.0, 0.0]</td>\n",
              "      <td>holder bank n't 'too big jail</td>\n",
              "    </tr>\n",
              "    <tr>\n",
              "      <th>166943</th>\n",
              "      <td>Segel quit Twitter over burrito backlash</td>\n",
              "      <td>[0.0, 1.0, 0.0, 0.0]</td>\n",
              "      <td>segel quit twitter burrito backlash</td>\n",
              "    </tr>\n",
              "    <tr>\n",
              "      <th>...</th>\n",
              "      <td>...</td>\n",
              "      <td>...</td>\n",
              "      <td>...</td>\n",
              "    </tr>\n",
              "    <tr>\n",
              "      <th>134529</th>\n",
              "      <td>Boeing Results Get Boost From Increase in Comm...</td>\n",
              "      <td>[1.0, 0.0, 0.0, 0.0]</td>\n",
              "      <td>boe result get boost increas commerci jet product</td>\n",
              "    </tr>\n",
              "    <tr>\n",
              "      <th>200050</th>\n",
              "      <td>Listen to Ariana Grande, Nicki Minaj, Jessie J...</td>\n",
              "      <td>[0.0, 1.0, 0.0, 0.0]</td>\n",
              "      <td>listen ariana grand nicki minaj jessi j 's cha...</td>\n",
              "    </tr>\n",
              "    <tr>\n",
              "      <th>10191</th>\n",
              "      <td>American Postal Workers Union to protest mail ...</td>\n",
              "      <td>[1.0, 0.0, 0.0, 0.0]</td>\n",
              "      <td>american postal worker union protest mail serv...</td>\n",
              "    </tr>\n",
              "    <tr>\n",
              "      <th>134340</th>\n",
              "      <td>Michigan in top ten for painkiller prescriptions</td>\n",
              "      <td>[0.0, 0.0, 1.0, 0.0]</td>\n",
              "      <td>michigan top ten painkil prescript</td>\n",
              "    </tr>\n",
              "    <tr>\n",
              "      <th>18364</th>\n",
              "      <td>Japan, Australia agree to joint research on su...</td>\n",
              "      <td>[1.0, 0.0, 0.0, 0.0]</td>\n",
              "      <td>japan australia agre joint research submarin h...</td>\n",
              "    </tr>\n",
              "  </tbody>\n",
              "</table>\n",
              "<p>73924 rows × 3 columns</p>\n",
              "</div>\n",
              "      <button class=\"colab-df-convert\" onclick=\"convertToInteractive('df-85004fd0-6ff8-4842-9539-972f64919579')\"\n",
              "              title=\"Convert this dataframe to an interactive table.\"\n",
              "              style=\"display:none;\">\n",
              "\n",
              "  <svg xmlns=\"http://www.w3.org/2000/svg\" height=\"24px\"viewBox=\"0 0 24 24\"\n",
              "       width=\"24px\">\n",
              "    <path d=\"M0 0h24v24H0V0z\" fill=\"none\"/>\n",
              "    <path d=\"M18.56 5.44l.94 2.06.94-2.06 2.06-.94-2.06-.94-.94-2.06-.94 2.06-2.06.94zm-11 1L8.5 8.5l.94-2.06 2.06-.94-2.06-.94L8.5 2.5l-.94 2.06-2.06.94zm10 10l.94 2.06.94-2.06 2.06-.94-2.06-.94-.94-2.06-.94 2.06-2.06.94z\"/><path d=\"M17.41 7.96l-1.37-1.37c-.4-.4-.92-.59-1.43-.59-.52 0-1.04.2-1.43.59L10.3 9.45l-7.72 7.72c-.78.78-.78 2.05 0 2.83L4 21.41c.39.39.9.59 1.41.59.51 0 1.02-.2 1.41-.59l7.78-7.78 2.81-2.81c.8-.78.8-2.07 0-2.86zM5.41 20L4 18.59l7.72-7.72 1.47 1.35L5.41 20z\"/>\n",
              "  </svg>\n",
              "      </button>\n",
              "\n",
              "\n",
              "\n",
              "    <div id=\"df-873e423a-a333-43bd-8d77-074444421e58\">\n",
              "      <button class=\"colab-df-quickchart\" onclick=\"quickchart('df-873e423a-a333-43bd-8d77-074444421e58')\"\n",
              "              title=\"Suggest charts.\"\n",
              "              style=\"display:none;\">\n",
              "\n",
              "<svg xmlns=\"http://www.w3.org/2000/svg\" height=\"24px\"viewBox=\"0 0 24 24\"\n",
              "     width=\"24px\">\n",
              "    <g>\n",
              "        <path d=\"M19 3H5c-1.1 0-2 .9-2 2v14c0 1.1.9 2 2 2h14c1.1 0 2-.9 2-2V5c0-1.1-.9-2-2-2zM9 17H7v-7h2v7zm4 0h-2V7h2v10zm4 0h-2v-4h2v4z\"/>\n",
              "    </g>\n",
              "</svg>\n",
              "      </button>\n",
              "    </div>\n",
              "\n",
              "<style>\n",
              "  .colab-df-quickchart {\n",
              "    background-color: #E8F0FE;\n",
              "    border: none;\n",
              "    border-radius: 50%;\n",
              "    cursor: pointer;\n",
              "    display: none;\n",
              "    fill: #1967D2;\n",
              "    height: 32px;\n",
              "    padding: 0 0 0 0;\n",
              "    width: 32px;\n",
              "  }\n",
              "\n",
              "  .colab-df-quickchart:hover {\n",
              "    background-color: #E2EBFA;\n",
              "    box-shadow: 0px 1px 2px rgba(60, 64, 67, 0.3), 0px 1px 3px 1px rgba(60, 64, 67, 0.15);\n",
              "    fill: #174EA6;\n",
              "  }\n",
              "\n",
              "  [theme=dark] .colab-df-quickchart {\n",
              "    background-color: #3B4455;\n",
              "    fill: #D2E3FC;\n",
              "  }\n",
              "\n",
              "  [theme=dark] .colab-df-quickchart:hover {\n",
              "    background-color: #434B5C;\n",
              "    box-shadow: 0px 1px 3px 1px rgba(0, 0, 0, 0.15);\n",
              "    filter: drop-shadow(0px 1px 2px rgba(0, 0, 0, 0.3));\n",
              "    fill: #FFFFFF;\n",
              "  }\n",
              "</style>\n",
              "\n",
              "    <script>\n",
              "      async function quickchart(key) {\n",
              "        const containerElement = document.querySelector('#' + key);\n",
              "        const charts = await google.colab.kernel.invokeFunction(\n",
              "            'suggestCharts', [key], {});\n",
              "      }\n",
              "    </script>\n",
              "\n",
              "      <script>\n",
              "\n",
              "function displayQuickchartButton(domScope) {\n",
              "  let quickchartButtonEl =\n",
              "    domScope.querySelector('#df-873e423a-a333-43bd-8d77-074444421e58 button.colab-df-quickchart');\n",
              "  quickchartButtonEl.style.display =\n",
              "    google.colab.kernel.accessAllowed ? 'block' : 'none';\n",
              "}\n",
              "\n",
              "        displayQuickchartButton(document);\n",
              "      </script>\n",
              "      <style>\n",
              "    .colab-df-container {\n",
              "      display:flex;\n",
              "      flex-wrap:wrap;\n",
              "      gap: 12px;\n",
              "    }\n",
              "\n",
              "    .colab-df-convert {\n",
              "      background-color: #E8F0FE;\n",
              "      border: none;\n",
              "      border-radius: 50%;\n",
              "      cursor: pointer;\n",
              "      display: none;\n",
              "      fill: #1967D2;\n",
              "      height: 32px;\n",
              "      padding: 0 0 0 0;\n",
              "      width: 32px;\n",
              "    }\n",
              "\n",
              "    .colab-df-convert:hover {\n",
              "      background-color: #E2EBFA;\n",
              "      box-shadow: 0px 1px 2px rgba(60, 64, 67, 0.3), 0px 1px 3px 1px rgba(60, 64, 67, 0.15);\n",
              "      fill: #174EA6;\n",
              "    }\n",
              "\n",
              "    [theme=dark] .colab-df-convert {\n",
              "      background-color: #3B4455;\n",
              "      fill: #D2E3FC;\n",
              "    }\n",
              "\n",
              "    [theme=dark] .colab-df-convert:hover {\n",
              "      background-color: #434B5C;\n",
              "      box-shadow: 0px 1px 3px 1px rgba(0, 0, 0, 0.15);\n",
              "      filter: drop-shadow(0px 1px 2px rgba(0, 0, 0, 0.3));\n",
              "      fill: #FFFFFF;\n",
              "    }\n",
              "  </style>\n",
              "\n",
              "      <script>\n",
              "        const buttonEl =\n",
              "          document.querySelector('#df-85004fd0-6ff8-4842-9539-972f64919579 button.colab-df-convert');\n",
              "        buttonEl.style.display =\n",
              "          google.colab.kernel.accessAllowed ? 'block' : 'none';\n",
              "\n",
              "        async function convertToInteractive(key) {\n",
              "          const element = document.querySelector('#df-85004fd0-6ff8-4842-9539-972f64919579');\n",
              "          const dataTable =\n",
              "            await google.colab.kernel.invokeFunction('convertToInteractive',\n",
              "                                                     [key], {});\n",
              "          if (!dataTable) return;\n",
              "\n",
              "          const docLinkHtml = 'Like what you see? Visit the ' +\n",
              "            '<a target=\"_blank\" href=https://colab.research.google.com/notebooks/data_table.ipynb>data table notebook</a>'\n",
              "            + ' to learn more about interactive tables.';\n",
              "          element.innerHTML = '';\n",
              "          dataTable['output_type'] = 'display_data';\n",
              "          await google.colab.output.renderOutput(dataTable, element);\n",
              "          const docLink = document.createElement('div');\n",
              "          docLink.innerHTML = docLinkHtml;\n",
              "          element.appendChild(docLink);\n",
              "        }\n",
              "      </script>\n",
              "    </div>\n",
              "  </div>\n"
            ],
            "text/plain": [
              "                                                    TITLE  \\\n",
              "76683          Coca-Cola Won't Go Private: Warren Buffett   \n",
              "114810  Here's the story behind those Kimye in Ireland...   \n",
              "10121                              Posted by Parvez Jabri   \n",
              "24527      Holder: Banks Aren't 'Too Big to Jail', & More   \n",
              "166943           Segel quit Twitter over burrito backlash   \n",
              "...                                                   ...   \n",
              "134529  Boeing Results Get Boost From Increase in Comm...   \n",
              "200050  Listen to Ariana Grande, Nicki Minaj, Jessie J...   \n",
              "10191   American Postal Workers Union to protest mail ...   \n",
              "134340   Michigan in top ten for painkiller prescriptions   \n",
              "18364   Japan, Australia agree to joint research on su...   \n",
              "\n",
              "                    CATEGORY  \\\n",
              "76683   [1.0, 0.0, 0.0, 0.0]   \n",
              "114810  [0.0, 1.0, 0.0, 0.0]   \n",
              "10121   [1.0, 0.0, 0.0, 0.0]   \n",
              "24527   [1.0, 0.0, 0.0, 0.0]   \n",
              "166943  [0.0, 1.0, 0.0, 0.0]   \n",
              "...                      ...   \n",
              "134529  [1.0, 0.0, 0.0, 0.0]   \n",
              "200050  [0.0, 1.0, 0.0, 0.0]   \n",
              "10191   [1.0, 0.0, 0.0, 0.0]   \n",
              "134340  [0.0, 0.0, 1.0, 0.0]   \n",
              "18364   [1.0, 0.0, 0.0, 0.0]   \n",
              "\n",
              "                                            title_cleaned  \n",
              "76683           coca-cola wo n't go privat warren buffett  \n",
              "114810                 's stori behind kimy ireland photo  \n",
              "10121                                   post parvez jabri  \n",
              "24527                       holder bank n't 'too big jail  \n",
              "166943                segel quit twitter burrito backlash  \n",
              "...                                                   ...  \n",
              "134529  boe result get boost increas commerci jet product  \n",
              "200050  listen ariana grand nicki minaj jessi j 's cha...  \n",
              "10191   american postal worker union protest mail serv...  \n",
              "134340                 michigan top ten painkil prescript  \n",
              "18364   japan australia agre joint research submarin h...  \n",
              "\n",
              "[73924 rows x 3 columns]"
            ]
          },
          "execution_count": 161,
          "metadata": {},
          "output_type": "execute_result"
        }
      ],
      "source": [
        "df4"
      ]
    },
    {
      "cell_type": "code",
      "execution_count": null,
      "id": "I6znHPEVJQzJ",
      "metadata": {
        "id": "I6znHPEVJQzJ"
      },
      "outputs": [],
      "source": [
        "X_train,X_test,y_train,y_test=train_test_split(df4['title_cleaned'],df4['CATEGORY'],test_size=0.2,random_state=42)"
      ]
    },
    {
      "cell_type": "code",
      "execution_count": null,
      "id": "wJpEqMxfUWov",
      "metadata": {
        "id": "wJpEqMxfUWov"
      },
      "outputs": [],
      "source": [
        "max_length=130"
      ]
    },
    {
      "cell_type": "code",
      "execution_count": null,
      "id": "GTc1cZQ1JnU4",
      "metadata": {
        "id": "GTc1cZQ1JnU4"
      },
      "outputs": [],
      "source": [
        "# Prepare the training data\n",
        "train_input_ids = tokenizer.batch_encode_plus(X_train,\n",
        "                                              padding='longest',\n",
        "                                              truncation=True,\n",
        "                                              max_length=max_length)['input_ids']\n",
        "train_attention_mask = tokenizer.batch_encode_plus(X_train,\n",
        "                                                   padding='longest',\n",
        "                                                   truncation=True,\n",
        "                                                   max_length=max_length)['attention_mask']"
      ]
    },
    {
      "cell_type": "code",
      "execution_count": null,
      "id": "dPWkm62RKIP4",
      "metadata": {
        "id": "dPWkm62RKIP4"
      },
      "outputs": [],
      "source": [
        "train_labels=np.array(y_train)\n",
        "test_labels=np.array(y_test)"
      ]
    },
    {
      "cell_type": "code",
      "execution_count": null,
      "id": "H2NhwlUcVWgm",
      "metadata": {
        "id": "H2NhwlUcVWgm"
      },
      "outputs": [],
      "source": [
        "# Create the model architecture\n",
        "input_ids = tf.keras.layers.Input(shape=(max_length,), dtype=tf.int32)\n",
        "attention_mask = tf.keras.layers.Input(shape=(max_length,), dtype=tf.int32)"
      ]
    },
    {
      "cell_type": "code",
      "execution_count": null,
      "id": "iqT-CLtMVZg8",
      "metadata": {
        "id": "iqT-CLtMVZg8"
      },
      "outputs": [],
      "source": [
        "num_classes=4"
      ]
    },
    {
      "cell_type": "code",
      "execution_count": null,
      "id": "tkBITc_2VNVt",
      "metadata": {
        "id": "tkBITc_2VNVt"
      },
      "outputs": [],
      "source": [
        "distilbert_output = distilbert_model(input_ids=input_ids, attention_mask=attention_mask)[0]\n",
        "pooled_output = tf.keras.layers.GlobalAveragePooling1D()(distilbert_output)\n",
        "dropout = tf.keras.layers.Dropout(0.1)(pooled_output)\n",
        "outputs = tf.keras.layers.Dense(num_classes, activation='softmax')(dropout)\n",
        "\n",
        "model = tf.keras.models.Model(inputs=[input_ids, attention_mask], outputs=outputs)\n",
        "\n",
        "# Compile the model\n",
        "model.compile(optimizer=tf.keras.optimizers.Adam(learning_rate=1e-5),\n",
        "              loss='categorical_crossentropy',\n",
        "              metrics=['accuracy'])\n"
      ]
    },
    {
      "cell_type": "code",
      "execution_count": null,
      "id": "nfHwn1GoVdtO",
      "metadata": {
        "colab": {
          "base_uri": "https://localhost:8080/"
        },
        "id": "nfHwn1GoVdtO",
        "outputId": "cc065d8e-736f-420c-a031-4dc18ec9c476"
      },
      "outputs": [
        {
          "name": "stdout",
          "output_type": "stream",
          "text": [
            "Model: \"model_6\"\n",
            "__________________________________________________________________________________________________\n",
            " Layer (type)                   Output Shape         Param #     Connected to                     \n",
            "==================================================================================================\n",
            " input_13 (InputLayer)          [(None, 130)]        0           []                               \n",
            "                                                                                                  \n",
            " input_14 (InputLayer)          [(None, 130)]        0           []                               \n",
            "                                                                                                  \n",
            " tf_distil_bert_model_2 (TFDist  TFBaseModelOutput(l  66362880   ['input_13[0][0]',               \n",
            " ilBertModel)                   ast_hidden_state=(N               'input_14[0][0]']               \n",
            "                                one, 130, 768),                                                   \n",
            "                                 hidden_states=None                                               \n",
            "                                , attentions=None)                                                \n",
            "                                                                                                  \n",
            " global_average_pooling1d_7 (Gl  (None, 768)         0           ['tf_distil_bert_model_2[4][0]'] \n",
            " obalAveragePooling1D)                                                                            \n",
            "                                                                                                  \n",
            " dropout_63 (Dropout)           (None, 768)          0           ['global_average_pooling1d_7[0][0\n",
            "                                                                 ]']                              \n",
            "                                                                                                  \n",
            " dense_7 (Dense)                (None, 4)            3076        ['dropout_63[0][0]']             \n",
            "                                                                                                  \n",
            "==================================================================================================\n",
            "Total params: 66,365,956\n",
            "Trainable params: 66,365,956\n",
            "Non-trainable params: 0\n",
            "__________________________________________________________________________________________________\n"
          ]
        }
      ],
      "source": [
        "model.summary()"
      ]
    },
    {
      "cell_type": "code",
      "execution_count": null,
      "id": "aQtEhzqAWVek",
      "metadata": {
        "id": "aQtEhzqAWVek"
      },
      "outputs": [],
      "source": [
        "import numpy as np\n",
        "\n",
        "train_input_ids = np.array(train_input_ids)\n",
        "train_attention_mask = np.array(train_attention_mask)\n"
      ]
    },
    {
      "cell_type": "code",
      "execution_count": null,
      "id": "D7kmT9MLawOd",
      "metadata": {
        "id": "D7kmT9MLawOd"
      },
      "outputs": [],
      "source": [
        "for i, label in enumerate(train_labels):\n",
        "  train_labels[i]=np.array(label)"
      ]
    },
    {
      "cell_type": "code",
      "execution_count": null,
      "id": "VveNz9KZn2OJ",
      "metadata": {
        "id": "VveNz9KZn2OJ"
      },
      "outputs": [],
      "source": [
        "test_input_ids = tokenizer.batch_encode_plus(\n",
        "    X_test,\n",
        "    padding='max_length',\n",
        "    truncation=True,\n",
        "    max_length=130\n",
        ")['input_ids']\n",
        "\n",
        "\n",
        "test_attention_mask = tokenizer.batch_encode_plus(X_test,\n",
        "                                                  padding='max_length',\n",
        "                                                  truncation=True,\n",
        "                                                  max_length=max_length)['attention_mask']\n",
        "test_labels = np.vstack(test_labels)\n",
        "test_input_ids = np.array(test_input_ids)\n",
        "test_attention_mask = np.array(test_attention_mask)"
      ]
    },
    {
      "cell_type": "code",
      "execution_count": null,
      "id": "mvxNUBR0WpW-",
      "metadata": {
        "id": "mvxNUBR0WpW-"
      },
      "outputs": [],
      "source": [
        "checkpoint= ModelCheckpoint('best_disitilbet.h5',monitor='val_accuracy',save_best_only=True,mode='max',verbose=1)"
      ]
    },
    {
      "cell_type": "code",
      "execution_count": null,
      "id": "eWzgyV1UbiSc",
      "metadata": {
        "id": "eWzgyV1UbiSc"
      },
      "outputs": [],
      "source": [
        "train_labels = np.vstack(train_labels)\n"
      ]
    },
    {
      "cell_type": "code",
      "execution_count": null,
      "id": "ujVVLSlcVFJX",
      "metadata": {
        "colab": {
          "base_uri": "https://localhost:8080/"
        },
        "id": "ujVVLSlcVFJX",
        "outputId": "1e65fcf5-b7f3-49c4-88e9-cda2f3b284d0"
      },
      "outputs": [
        {
          "name": "stdout",
          "output_type": "stream",
          "text": [
            "Epoch 1/3\n",
            "1849/1849 [==============================] - ETA: 0s - loss: 0.3194 - accuracy: 0.8878\n",
            "Epoch 1: val_accuracy improved from -inf to 0.90659, saving model to best_disitilbet.h5\n",
            "1849/1849 [==============================] - 4634s 3s/step - loss: 0.3194 - accuracy: 0.8878 - val_loss: 0.2745 - val_accuracy: 0.9066\n",
            "Epoch 2/3\n",
            "1849/1849 [==============================] - ETA: 0s - loss: 0.1989 - accuracy: 0.9299\n",
            "Epoch 2: val_accuracy improved from 0.90659 to 0.91924, saving model to best_disitilbet.h5\n",
            "1849/1849 [==============================] - 3878s 2s/step - loss: 0.1989 - accuracy: 0.9299 - val_loss: 0.2364 - val_accuracy: 0.9192\n",
            "Epoch 3/3\n",
            "1849/1849 [==============================] - ETA: 0s - loss: 0.1366 - accuracy: 0.9517\n",
            "Epoch 3: val_accuracy improved from 0.91924 to 0.92479, saving model to best_disitilbet.h5\n",
            "1849/1849 [==============================] - 3931s 2s/step - loss: 0.1366 - accuracy: 0.9517 - val_loss: 0.2342 - val_accuracy: 0.9248\n"
          ]
        }
      ],
      "source": [
        "history=model.fit([train_input_ids, train_attention_mask], train_labels, epochs=3, batch_size=32, callbacks=[checkpoint], validation_data=([test_input_ids,test_attention_mask],test_labels))\n"
      ]
    },
    {
      "cell_type": "code",
      "execution_count": null,
      "id": "KVt5q-EQoCHb",
      "metadata": {
        "colab": {
          "base_uri": "https://localhost:8080/",
          "height": 927
        },
        "id": "KVt5q-EQoCHb",
        "outputId": "f306517f-64af-46e2-f155-34993a51138e"
      },
      "outputs": [
        {
          "data": {
            "image/png": "[encoded data removed]",
            "text/plain": [
              "<Figure size 640x480 with 1 Axes>"
            ]
          },
          "metadata": {},
          "output_type": "display_data"
        },
        {
          "data": {
            "image/png": "[encoded data removed]",
            "text/plain": [
              "<Figure size 640x480 with 1 Axes>"
            ]
          },
          "metadata": {},
          "output_type": "display_data"
        }
      ],
      "source": [
        "# Access the training history\n",
        "accuracy = history.history['accuracy']\n",
        "val_accuracy = history.history['val_accuracy']\n",
        "loss = history.history['loss']\n",
        "val_loss = history.history['val_loss']\n",
        "\n",
        "# Plot accuracy\n",
        "plt.plot(range(1, len(accuracy) + 1), accuracy, label='Training Accuracy')\n",
        "plt.plot(range(1, len(val_accuracy) + 1), val_accuracy, label='Validation Accuracy')\n",
        "plt.title('Training and Test Accuracy')\n",
        "plt.xlabel('Epochs')\n",
        "plt.ylabel('Accuracy')\n",
        "plt.legend()\n",
        "plt.show()\n",
        "\n",
        "# Plot loss\n",
        "plt.plot(range(1, len(loss) + 1), loss, label='Training Loss')\n",
        "plt.plot(range(1, len(val_loss) + 1), val_loss, label='Validation Loss')\n",
        "plt.title('Training and Test Loss')\n",
        "plt.xlabel('Epochs')\n",
        "plt.ylabel('Loss')\n",
        "plt.legend()\n",
        "plt.show()\n"
      ]
    },
    {
      "cell_type": "markdown",
      "id": "f957b7d5",
      "metadata": {
        "id": "f957b7d5"
      },
      "source": [
        "## LSTM\n"
      ]
    },
    {
      "cell_type": "code",
      "execution_count": null,
      "id": "2b2cf4fd",
      "metadata": {
        "id": "2b2cf4fd"
      },
      "outputs": [],
      "source": [
        "from tensorflow.keras.models import Sequential\n",
        "from tensorflow.keras.callbacks import ModelCheckpoint\n",
        "from tensorflow.keras.layers import Dense, GRU, Embedding, SpatialDropout1D, LSTM"
      ]
    },
    {
      "cell_type": "code",
      "execution_count": null,
      "id": "fe328629",
      "metadata": {
        "colab": {
          "base_uri": "https://localhost:8080/"
        },
        "id": "fe328629",
        "outputId": "99b0d78c-7d19-4795-ab10-d8ea86e44f37"
      },
      "outputs": [
        {
          "data": {
            "text/plain": [
              "(130,)"
            ]
          },
          "execution_count": 40,
          "metadata": {},
          "output_type": "execute_result"
        }
      ],
      "source": [
        "X_train[0].shape"
      ]
    },
    {
      "cell_type": "code",
      "execution_count": null,
      "id": "939b74be",
      "metadata": {
        "id": "939b74be"
      },
      "outputs": [],
      "source": [
        "# Define the filepath to save the best model\n",
        "filepath = 'best_model.h5'\n",
        "\n",
        "# Create the ModelCheckpoint callback\n",
        "checkpoint = ModelCheckpoint(filepath, monitor='val_accuracy', save_best_only=True, mode='max', verbose=1)\n"
      ]
    },
    {
      "cell_type": "code",
      "execution_count": null,
      "id": "527520b3",
      "metadata": {
        "id": "527520b3"
      },
      "outputs": [],
      "source": [
        "epochs = 10\n",
        "emb_dim = 128\n",
        "batch_size = 256\n"
      ]
    },
    {
      "cell_type": "code",
      "execution_count": null,
      "id": "78898c7a",
      "metadata": {
        "id": "78898c7a"
      },
      "outputs": [],
      "source": [
        "model=Sequential()\n",
        "model.add(Embedding(8000, emb_dim, input_length=X.shape[1]))\n",
        "model.add(SpatialDropout1D(0.7))\n",
        "model.add(LSTM(128,return_sequences=True))\n",
        "model.add(LSTM(128))\n",
        "model.add(Dense(4,activation='softmax'))\n",
        "model.compile(loss='categorical_crossentropy',optimizer='adam',metrics=['accuracy'])\n"
      ]
    },
    {
      "cell_type": "code",
      "execution_count": null,
      "id": "0843a78f",
      "metadata": {
        "colab": {
          "base_uri": "https://localhost:8080/"
        },
        "id": "0843a78f",
        "outputId": "e5171f77-5a70-4d93-b602-c639b19b3967"
      },
      "outputs": [
        {
          "name": "stdout",
          "output_type": "stream",
          "text": [
            "Model: \"sequential\"\n",
            "_________________________________________________________________\n",
            " Layer (type)                Output Shape              Param #   \n",
            "=================================================================\n",
            " embedding (Embedding)       (None, 130, 128)          1024000   \n",
            "                                                                 \n",
            " spatial_dropout1d (SpatialD  (None, 130, 128)         0         \n",
            " ropout1D)                                                       \n",
            "                                                                 \n",
            " lstm (LSTM)                 (None, 130, 128)          131584    \n",
            "                                                                 \n",
            " lstm_1 (LSTM)               (None, 128)               131584    \n",
            "                                                                 \n",
            " dense (Dense)               (None, 4)                 516       \n",
            "                                                                 \n",
            "=================================================================\n",
            "Total params: 1,287,684\n",
            "Trainable params: 1,287,684\n",
            "Non-trainable params: 0\n",
            "_________________________________________________________________\n"
          ]
        }
      ],
      "source": [
        "model.summary()"
      ]
    },
    {
      "cell_type": "code",
      "execution_count": null,
      "id": "007c957e",
      "metadata": {
        "colab": {
          "base_uri": "https://localhost:8080/"
        },
        "id": "007c957e",
        "outputId": "9f0162e3-dfd0-4c30-89e3-51f5ffc316b9"
      },
      "outputs": [
        {
          "name": "stdout",
          "output_type": "stream",
          "text": [
            "Epoch 1/10\n",
            "5281/5281 [==============================] - ETA: 0s - loss: 0.3294 - accuracy: 0.8806\n",
            "Epoch 1: val_accuracy improved from -inf to 0.92297, saving model to best_model.h6\n"
          ]
        },
        {
          "name": "stderr",
          "output_type": "stream",
          "text": [
            "WARNING:absl:Found untraced functions such as lstm_cell_layer_call_fn, lstm_cell_layer_call_and_return_conditional_losses, lstm_cell_1_layer_call_fn, lstm_cell_1_layer_call_and_return_conditional_losses while saving (showing 4 of 4). These functions will not be directly callable after loading.\n"
          ]
        },
        {
          "name": "stdout",
          "output_type": "stream",
          "text": [
            "\b\b\b\b\b\b\b\b\b\b\b\b\b\b\b\b\b\b\b\b\b\b\b\b\b\b\b\b\b\b\b\b\b\b\b\b\b\b\b\b\b\b\b\b\b\b\b\b\b\b\b\b\b\b\b\b\b\b\b\b\b\b\b\b\b\b\b\b\b\b\b\b\b\b\b\b\b\b\b\b\b\b\b\b\b\b\r",
            "5281/5281 [==============================] - 94s 16ms/step - loss: 0.3294 - accuracy: 0.8806 - val_loss: 0.2167 - val_accuracy: 0.9230\n",
            "Epoch 2/10\n",
            "5281/5281 [==============================] - ETA: 0s - loss: 0.2177 - accuracy: 0.9248\n",
            "Epoch 2: val_accuracy improved from 0.92297 to 0.92595, saving model to best_model.h6\n"
          ]
        },
        {
          "name": "stderr",
          "output_type": "stream",
          "text": [
            "WARNING:absl:Found untraced functions such as lstm_cell_layer_call_fn, lstm_cell_layer_call_and_return_conditional_losses, lstm_cell_1_layer_call_fn, lstm_cell_1_layer_call_and_return_conditional_losses while saving (showing 4 of 4). These functions will not be directly callable after loading.\n"
          ]
        },
        {
          "name": "stdout",
          "output_type": "stream",
          "text": [
            "\b\b\b\b\b\b\b\b\b\b\b\b\b\b\b\b\b\b\b\b\b\b\b\b\b\b\b\b\b\b\b\b\b\b\b\b\b\b\b\b\b\b\b\b\b\b\b\b\b\b\b\b\b\b\b\b\b\b\b\b\b\b\b\b\b\b\b\b\b\b\b\b\b\b\b\b\b\b\b\b\b\b\b\b\b\b\r",
            "5281/5281 [==============================] - 73s 14ms/step - loss: 0.2177 - accuracy: 0.9248 - val_loss: 0.2058 - val_accuracy: 0.9260\n",
            "Epoch 3/10\n",
            "5281/5281 [==============================] - ETA: 0s - loss: 0.1967 - accuracy: 0.9315\n",
            "Epoch 3: val_accuracy improved from 0.92595 to 0.92832, saving model to best_model.h6\n"
          ]
        },
        {
          "name": "stderr",
          "output_type": "stream",
          "text": [
            "WARNING:absl:Found untraced functions such as lstm_cell_layer_call_fn, lstm_cell_layer_call_and_return_conditional_losses, lstm_cell_1_layer_call_fn, lstm_cell_1_layer_call_and_return_conditional_losses while saving (showing 4 of 4). These functions will not be directly callable after loading.\n"
          ]
        },
        {
          "name": "stdout",
          "output_type": "stream",
          "text": [
            "\b\b\b\b\b\b\b\b\b\b\b\b\b\b\b\b\b\b\b\b\b\b\b\b\b\b\b\b\b\b\b\b\b\b\b\b\b\b\b\b\b\b\b\b\b\b\b\b\b\b\b\b\b\b\b\b\b\b\b\b\b\b\b\b\b\b\b\b\b\b\b\b\b\b\b\b\b\b\b\b\b\b\b\b\b\b\r",
            "5281/5281 [==============================] - 72s 14ms/step - loss: 0.1967 - accuracy: 0.9315 - val_loss: 0.1988 - val_accuracy: 0.9283\n",
            "Epoch 4/10\n",
            "5281/5281 [==============================] - ETA: 0s - loss: 0.1818 - accuracy: 0.9365\n",
            "Epoch 4: val_accuracy improved from 0.92832 to 0.93258, saving model to best_model.h6\n"
          ]
        },
        {
          "name": "stderr",
          "output_type": "stream",
          "text": [
            "WARNING:absl:Found untraced functions such as lstm_cell_layer_call_fn, lstm_cell_layer_call_and_return_conditional_losses, lstm_cell_1_layer_call_fn, lstm_cell_1_layer_call_and_return_conditional_losses while saving (showing 4 of 4). These functions will not be directly callable after loading.\n"
          ]
        },
        {
          "name": "stdout",
          "output_type": "stream",
          "text": [
            "\b\b\b\b\b\b\b\b\b\b\b\b\b\b\b\b\b\b\b\b\b\b\b\b\b\b\b\b\b\b\b\b\b\b\b\b\b\b\b\b\b\b\b\b\b\b\b\b\b\b\b\b\b\b\b\b\b\b\b\b\b\b\b\b\b\b\b\b\b\b\b\b\b\b\b\b\b\b\b\b\b\b\b\b\b\b\r",
            "5281/5281 [==============================] - 72s 14ms/step - loss: 0.1818 - accuracy: 0.9365 - val_loss: 0.1959 - val_accuracy: 0.9326\n",
            "Epoch 5/10\n",
            "5281/5281 [==============================] - ETA: 0s - loss: 0.1703 - accuracy: 0.9401\n",
            "Epoch 5: val_accuracy improved from 0.93258 to 0.93331, saving model to best_model.h6\n"
          ]
        },
        {
          "name": "stderr",
          "output_type": "stream",
          "text": [
            "WARNING:absl:Found untraced functions such as lstm_cell_layer_call_fn, lstm_cell_layer_call_and_return_conditional_losses, lstm_cell_1_layer_call_fn, lstm_cell_1_layer_call_and_return_conditional_losses while saving (showing 4 of 4). These functions will not be directly callable after loading.\n"
          ]
        },
        {
          "name": "stdout",
          "output_type": "stream",
          "text": [
            "\b\b\b\b\b\b\b\b\b\b\b\b\b\b\b\b\b\b\b\b\b\b\b\b\b\b\b\b\b\b\b\b\b\b\b\b\b\b\b\b\b\b\b\b\b\b\b\b\b\b\b\b\b\b\b\b\b\b\b\b\b\b\b\b\b\b\b\b\b\b\b\b\b\b\b\b\b\b\b\b\b\b\b\b\b\b\r",
            "5281/5281 [==============================] - 72s 14ms/step - loss: 0.1703 - accuracy: 0.9401 - val_loss: 0.1919 - val_accuracy: 0.9333\n",
            "Epoch 6/10\n",
            "5281/5281 [==============================] - ETA: 0s - loss: 0.1628 - accuracy: 0.9423\n",
            "Epoch 6: val_accuracy did not improve from 0.93331\n",
            "5281/5281 [==============================] - 64s 12ms/step - loss: 0.1628 - accuracy: 0.9423 - val_loss: 0.2009 - val_accuracy: 0.9331\n",
            "Epoch 7/10\n",
            "5281/5281 [==============================] - ETA: 0s - loss: 0.1559 - accuracy: 0.9451\n",
            "Epoch 7: val_accuracy improved from 0.93331 to 0.93497, saving model to best_model.h6\n"
          ]
        },
        {
          "name": "stderr",
          "output_type": "stream",
          "text": [
            "WARNING:absl:Found untraced functions such as lstm_cell_layer_call_fn, lstm_cell_layer_call_and_return_conditional_losses, lstm_cell_1_layer_call_fn, lstm_cell_1_layer_call_and_return_conditional_losses while saving (showing 4 of 4). These functions will not be directly callable after loading.\n"
          ]
        },
        {
          "name": "stdout",
          "output_type": "stream",
          "text": [
            "\b\b\b\b\b\b\b\b\b\b\b\b\b\b\b\b\b\b\b\b\b\b\b\b\b\b\b\b\b\b\b\b\b\b\b\b\b\b\b\b\b\b\b\b\b\b\b\b\b\b\b\b\b\b\b\b\b\b\b\b\b\b\b\b\b\b\b\b\b\b\b\b\b\b\b\b\b\b\b\b\b\b\b\b\b\b\r",
            "5281/5281 [==============================] - 71s 13ms/step - loss: 0.1559 - accuracy: 0.9451 - val_loss: 0.1878 - val_accuracy: 0.9350\n",
            "Epoch 8/10\n",
            "5280/5281 [============================>.] - ETA: 0s - loss: 0.1506 - accuracy: 0.9464\n",
            "Epoch 8: val_accuracy did not improve from 0.93497\n",
            "5281/5281 [==============================] - 63s 12ms/step - loss: 0.1506 - accuracy: 0.9464 - val_loss: 0.1936 - val_accuracy: 0.9343\n",
            "Epoch 9/10\n",
            "5281/5281 [==============================] - ETA: 0s - loss: 0.1469 - accuracy: 0.9475\n",
            "Epoch 9: val_accuracy improved from 0.93497 to 0.93622, saving model to best_model.h6\n"
          ]
        },
        {
          "name": "stderr",
          "output_type": "stream",
          "text": [
            "WARNING:absl:Found untraced functions such as lstm_cell_layer_call_fn, lstm_cell_layer_call_and_return_conditional_losses, lstm_cell_1_layer_call_fn, lstm_cell_1_layer_call_and_return_conditional_losses while saving (showing 4 of 4). These functions will not be directly callable after loading.\n"
          ]
        },
        {
          "name": "stdout",
          "output_type": "stream",
          "text": [
            "\b\b\b\b\b\b\b\b\b\b\b\b\b\b\b\b\b\b\b\b\b\b\b\b\b\b\b\b\b\b\b\b\b\b\b\b\b\b\b\b\b\b\b\b\b\b\b\b\b\b\b\b\b\b\b\b\b\b\b\b\b\b\b\b\b\b\b\b\b\b\b\b\b\b\b\b\b\b\b\b\b\b\b\b\b\b\r",
            "5281/5281 [==============================] - 70s 13ms/step - loss: 0.1469 - accuracy: 0.9475 - val_loss: 0.1957 - val_accuracy: 0.9362\n",
            "Epoch 10/10\n",
            "5277/5281 [============================>.] - ETA: 0s - loss: 0.1411 - accuracy: 0.9494\n",
            "Epoch 10: val_accuracy did not improve from 0.93622\n",
            "5281/5281 [==============================] - 63s 12ms/step - loss: 0.1411 - accuracy: 0.9494 - val_loss: 0.2007 - val_accuracy: 0.9345\n"
          ]
        }
      ],
      "source": [
        "history = model.fit(X_train, y_train, epochs=10, validation_data=(X_test, y_test), callbacks=[checkpoint])\n"
      ]
    },
    {
      "cell_type": "code",
      "execution_count": null,
      "id": "79370c8e",
      "metadata": {
        "colab": {
          "base_uri": "https://localhost:8080/",
          "height": 927
        },
        "id": "79370c8e",
        "outputId": "b95c42f7-e370-406a-aa9f-b419a9cd13a1"
      },
      "outputs": [
        {
          "data": {
            "image/png": "[encoded data removed]",
            "text/plain": [
              "<Figure size 640x480 with 1 Axes>"
            ]
          },
          "metadata": {},
          "output_type": "display_data"
        },
        {
          "data": {
            "image/png": "[encoded data removed]",
            "text/plain": [
              "<Figure size 640x480 with 1 Axes>"
            ]
          },
          "metadata": {},
          "output_type": "display_data"
        }
      ],
      "source": [
        "# Access the training history\n",
        "accuracy = history.history['accuracy']\n",
        "val_accuracy = history.history['val_accuracy']\n",
        "loss = history.history['loss']\n",
        "val_loss = history.history['val_loss']\n",
        "\n",
        "# Plot accuracy\n",
        "plt.plot(range(1, len(accuracy) + 1), accuracy, label='Training Accuracy')\n",
        "plt.plot(range(1, len(val_accuracy) + 1), val_accuracy, label='Validation Accuracy')\n",
        "plt.title('Training and Test Accuracy')\n",
        "plt.xlabel('Epochs')\n",
        "plt.ylabel('Accuracy')\n",
        "plt.legend()\n",
        "plt.show()\n",
        "\n",
        "# Plot loss\n",
        "plt.plot(range(1, len(loss) + 1), loss, label='Training Loss')\n",
        "plt.plot(range(1, len(val_loss) + 1), val_loss, label='Validation Loss')\n",
        "plt.title('Training and Test Loss')\n",
        "plt.xlabel('Epochs')\n",
        "plt.ylabel('Loss')\n",
        "plt.legend()\n",
        "plt.show()\n"
      ]
    }
  ],
  "metadata": {
    "colab": {
      "provenance": [],
      "toc_visible": true,
      "machine_shape": "hm",
      "gpuType": "T4"
    },
    "language_info": {
      "name": "python"
    },
    "kernelspec": {
      "name": "python3",
      "display_name": "Python 3"
    },
    "accelerator": "TPU"
  },
  "nbformat": 4,
  "nbformat_minor": 5
}